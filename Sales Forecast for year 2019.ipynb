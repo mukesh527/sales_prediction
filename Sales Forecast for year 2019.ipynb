{
 "cells": [
  {
   "cell_type": "code",
   "execution_count": null,
   "metadata": {
    "colab": {
     "base_uri": "https://localhost:8080/"
    },
    "executionInfo": {
     "elapsed": 29146,
     "status": "ok",
     "timestamp": 1620142522133,
     "user": {
      "displayName": "mukesh kiran",
      "photoUrl": "https://lh3.googleusercontent.com/a-/AOh14GjpVg0Q2SlnyyoVNUSbxKazDjdehaPGXIEaysPDxUk=s64",
      "userId": "14410148232412860016"
     },
     "user_tz": -330
    },
    "id": "xqAOBGw9EtpR",
    "outputId": "f688ca57-457e-4ceb-8193-75ce6cad5e77"
   },
   "outputs": [
    {
     "name": "stdout",
     "output_type": "stream",
     "text": [
      "Mounted at /content/drive\n"
     ]
    }
   ],
   "source": [
    "from google.colab import drive\n",
    "drive.mount('/content/drive')"
   ]
  },
  {
   "cell_type": "markdown",
   "metadata": {
    "id": "L5y6vEu4DPK4"
   },
   "source": [
    "## Reading test data"
   ]
  },
  {
   "cell_type": "code",
   "execution_count": null,
   "metadata": {
    "colab": {
     "base_uri": "https://localhost:8080/"
    },
    "executionInfo": {
     "elapsed": 4883,
     "status": "ok",
     "timestamp": 1620142537360,
     "user": {
      "displayName": "mukesh kiran",
      "photoUrl": "https://lh3.googleusercontent.com/a-/AOh14GjpVg0Q2SlnyyoVNUSbxKazDjdehaPGXIEaysPDxUk=s64",
      "userId": "14410148232412860016"
     },
     "user_tz": -330
    },
    "id": "2s-9f9SmnlaP",
    "outputId": "81fbbab8-176c-444b-c31b-252868e695b3"
   },
   "outputs": [
    {
     "name": "stdout",
     "output_type": "stream",
     "text": [
      "Collecting category_encoders\n",
      "\u001b[?25l  Downloading https://files.pythonhosted.org/packages/44/57/fcef41c248701ee62e8325026b90c432adea35555cbc870aff9cfba23727/category_encoders-2.2.2-py2.py3-none-any.whl (80kB)\n",
      "\r",
      "\u001b[K     |████                            | 10kB 16.2MB/s eta 0:00:01\r",
      "\u001b[K     |████████▏                       | 20kB 10.5MB/s eta 0:00:01\r",
      "\u001b[K     |████████████▏                   | 30kB 10.5MB/s eta 0:00:01\r",
      "\u001b[K     |████████████████▎               | 40kB 8.7MB/s eta 0:00:01\r",
      "\u001b[K     |████████████████████▎           | 51kB 5.5MB/s eta 0:00:01\r",
      "\u001b[K     |████████████████████████▍       | 61kB 6.0MB/s eta 0:00:01\r",
      "\u001b[K     |████████████████████████████▍   | 71kB 5.8MB/s eta 0:00:01\r",
      "\u001b[K     |████████████████████████████████| 81kB 3.8MB/s \n",
      "\u001b[?25hRequirement already satisfied: patsy>=0.5.1 in /usr/local/lib/python3.7/dist-packages (from category_encoders) (0.5.1)\n",
      "Requirement already satisfied: scipy>=1.0.0 in /usr/local/lib/python3.7/dist-packages (from category_encoders) (1.4.1)\n",
      "Requirement already satisfied: pandas>=0.21.1 in /usr/local/lib/python3.7/dist-packages (from category_encoders) (1.1.5)\n",
      "Requirement already satisfied: statsmodels>=0.9.0 in /usr/local/lib/python3.7/dist-packages (from category_encoders) (0.10.2)\n",
      "Requirement already satisfied: numpy>=1.14.0 in /usr/local/lib/python3.7/dist-packages (from category_encoders) (1.19.5)\n",
      "Requirement already satisfied: scikit-learn>=0.20.0 in /usr/local/lib/python3.7/dist-packages (from category_encoders) (0.22.2.post1)\n",
      "Requirement already satisfied: six in /usr/local/lib/python3.7/dist-packages (from patsy>=0.5.1->category_encoders) (1.15.0)\n",
      "Requirement already satisfied: python-dateutil>=2.7.3 in /usr/local/lib/python3.7/dist-packages (from pandas>=0.21.1->category_encoders) (2.8.1)\n",
      "Requirement already satisfied: pytz>=2017.2 in /usr/local/lib/python3.7/dist-packages (from pandas>=0.21.1->category_encoders) (2018.9)\n",
      "Requirement already satisfied: joblib>=0.11 in /usr/local/lib/python3.7/dist-packages (from scikit-learn>=0.20.0->category_encoders) (1.0.1)\n",
      "Installing collected packages: category-encoders\n",
      "Successfully installed category-encoders-2.2.2\n"
     ]
    }
   ],
   "source": [
    "!pip install category_encoders"
   ]
  },
  {
   "cell_type": "code",
   "execution_count": null,
   "metadata": {
    "id": "zALg0wf-VEuA"
   },
   "outputs": [],
   "source": [
    "from keras.models import load_model\n",
    "from pickle import load"
   ]
  },
  {
   "cell_type": "code",
   "execution_count": null,
   "metadata": {
    "id": "l3ZORVuHGPJJ"
   },
   "outputs": [],
   "source": [
    "import pickle\n",
    "import pandas as pd\n",
    "import numpy as np\n",
    "from sklearn.model_selection import train_test_split, GridSearchCV\n",
    "\n",
    "from sklearn.metrics import mean_squared_error, mean_absolute_error, r2_score\n",
    "from sklearn.tree import DecisionTreeRegressor, export_graphviz\n",
    "\n",
    "import matplotlib.pyplot as plt\n",
    "\n",
    "import graphviz\n",
    "import math\n",
    "\n"
   ]
  },
  {
   "cell_type": "code",
   "execution_count": null,
   "metadata": {
    "id": "UojTDvAjFmHC"
   },
   "outputs": [],
   "source": [
    "test=pd.read_csv('/content/drive/MyDrive/Final_Hack/test.csv')\n",
    "location=pd.read_csv('/content/drive/MyDrive/Final_Hack/location_details.csv')\n",
    "item_id=pd.read_csv('/content/drive/MyDrive/Final_Hack/item_details.csv')\n",
    "transaction_train=pd.read_csv('/content/drive/MyDrive/Final_Hack/train_transactions.csv')"
   ]
  },
  {
   "cell_type": "code",
   "execution_count": null,
   "metadata": {
    "id": "p8XGEMIkCeXJ"
   },
   "outputs": [],
   "source": []
  },
  {
   "cell_type": "code",
   "execution_count": null,
   "metadata": {
    "colab": {
     "base_uri": "https://localhost:8080/",
     "height": 853
    },
    "executionInfo": {
     "elapsed": 16648,
     "status": "error",
     "timestamp": 1620142748899,
     "user": {
      "displayName": "mukesh kiran",
      "photoUrl": "https://lh3.googleusercontent.com/a-/AOh14GjpVg0Q2SlnyyoVNUSbxKazDjdehaPGXIEaysPDxUk=s64",
      "userId": "14410148232412860016"
     },
     "user_tz": -330
    },
    "id": "J_Cv4DryD2IE",
    "outputId": "9af4d062-b530-4b03-a4bb-36104a69155e"
   },
   "outputs": [],
   "source": []
  },
  {
   "cell_type": "markdown",
   "metadata": {
    "id": "FeUSLuEBH-xZ"
   },
   "source": [
    "### Loading pickle files for the trained models"
   ]
  },
  {
   "cell_type": "code",
   "execution_count": 1,
   "metadata": {
    "colab": {
     "base_uri": "https://localhost:8080/",
     "height": 544
    },
    "executionInfo": {
     "elapsed": 1038,
     "status": "error",
     "timestamp": 1620143849057,
     "user": {
      "displayName": "mukesh kiran",
      "photoUrl": "https://lh3.googleusercontent.com/a-/AOh14GjpVg0Q2SlnyyoVNUSbxKazDjdehaPGXIEaysPDxUk=s64",
      "userId": "14410148232412860016"
     },
     "user_tz": -330
    },
    "id": "D-rGhG-KVRvd",
    "outputId": "c57a4418-ea6a-4c4f-c998-1a149a5737eb"
   },
   "outputs": [],
   "source": [
    "# model = load_model('/content/drive/MyDrive/Final_Hack/Pickle_ANN_Model_withTargeEncoder_Alldata.h5')\n",
    "# encoder_model1 = load(open('/content/drive/MyDrive/Final_Hack/c1.pkl', 'rb'))\n",
    "# encoder_model2 = load(open('/content/drive/MyDrive/Final_Hack/c2.pkl', 'rb'))\n",
    "# encoder_model3 = load(open('/content/drive/MyDrive/Final_Hack/c3.pkl', 'rb'))\n",
    "\n",
    "#loaded_model = pickle.load(open(\"/content/drive/MyDrive/Final_Hack/Pickle_XGB_Model_Alldata.pkl\", \"rb\"))"
   ]
  },
  {
   "cell_type": "markdown",
   "metadata": {
    "id": "3nG1GEE8P3D9"
   },
   "source": [
    "# Preprocessing Test Data"
   ]
  },
  {
   "cell_type": "code",
   "execution_count": null,
   "metadata": {
    "id": "45VclV7lN5ch"
   },
   "outputs": [],
   "source": [
    "test_merged=pd.merge(test,location,left_on='locationId',right_on='location_id',how='left')\n",
    "test_merged=pd.merge(test_merged,item_id,left_on='item_id',right_on='item_id',how='left')"
   ]
  },
  {
   "cell_type": "code",
   "execution_count": null,
   "metadata": {
    "id": "4zSTB5G_RZ73"
   },
   "outputs": [],
   "source": [
    "test_merged.drop('location_id',axis=1,inplace=True)"
   ]
  },
  {
   "cell_type": "code",
   "execution_count": null,
   "metadata": {
    "id": "F9h9u7BgOEQ3"
   },
   "outputs": [],
   "source": [
    "test_merged['date']=pd.to_datetime(test_merged['date'])"
   ]
  },
  {
   "cell_type": "code",
   "execution_count": null,
   "metadata": {
    "id": "rNzsqd0DOHwF"
   },
   "outputs": [],
   "source": [
    "test_merged['dayofweek']=test_merged['date'].dt.dayofweek\n",
    "test_merged['month']=test_merged['date'].dt.month"
   ]
  },
  {
   "cell_type": "code",
   "execution_count": null,
   "metadata": {
    "id": "VqbbiwjBOLax"
   },
   "outputs": [],
   "source": [
    "#test_merged['dayofweek']=test_merged['dayofweek'].astype('category')\n",
    "test_merged['month']=test_merged['month'].astype('category')"
   ]
  },
  {
   "cell_type": "code",
   "execution_count": null,
   "metadata": {
    "id": "-EoPx7s9OREK"
   },
   "outputs": [],
   "source": [
    "test_merged.drop('date', axis=1, inplace=True)\n",
    "#test_merged.drop('item_id', axis=1, inplace=True)\n",
    "test_merged.drop('class', axis=1, inplace=True)\n",
    "\n",
    "test_merged.drop('onpromotion', axis=1, inplace=True)\n",
    "test_merged.drop('type', axis=1, inplace=True)\n",
    "test_merged.drop('city', axis=1, inplace=True)\n",
    "test_merged.drop('state', axis=1, inplace=True)\n",
    "\n",
    "\n",
    "test_merged.drop('id',axis=1,inplace=True)\n"
   ]
  },
  {
   "cell_type": "code",
   "execution_count": null,
   "metadata": {
    "id": "T-K-uFwgOjdy"
   },
   "outputs": [],
   "source": [
    "test_merged['category_of_item']=test_merged['category_of_item'].astype('category')\n",
    "test_merged['cluster']=test_merged['cluster'].astype('category')\n",
    "test_merged['perishable']=test_merged['perishable'].astype('category')\n",
    "test_merged['locationId']=test_merged['locationId'].astype('category')"
   ]
  },
  {
   "cell_type": "code",
   "execution_count": null,
   "metadata": {
    "colab": {
     "base_uri": "https://localhost:8080/",
     "height": 306
    },
    "executionInfo": {
     "elapsed": 1259,
     "status": "error",
     "timestamp": 1619888494949,
     "user": {
      "displayName": "mukesh kiran",
      "photoUrl": "https://lh3.googleusercontent.com/a-/AOh14GjpVg0Q2SlnyyoVNUSbxKazDjdehaPGXIEaysPDxUk=s64",
      "userId": "14410148232412860016"
     },
     "user_tz": -330
    },
    "id": "H7i678s7WK3S",
    "outputId": "9e24e111-378c-481d-950d-68747b40d081"
   },
   "outputs": [
    {
     "ename": "KeyError",
     "evalue": "ignored",
     "output_type": "error",
     "traceback": [
      "\u001b[0;31m---------------------------------------------------------------------------\u001b[0m",
      "\u001b[0;31mKeyError\u001b[0m                                  Traceback (most recent call last)",
      "\u001b[0;32m<ipython-input-15-e467c03782f6>\u001b[0m in \u001b[0;36m<module>\u001b[0;34m()\u001b[0m\n\u001b[0;32m----> 1\u001b[0;31m \u001b[0mtest_merged\u001b[0m\u001b[0;34m.\u001b[0m\u001b[0mdrop\u001b[0m\u001b[0;34m(\u001b[0m\u001b[0;34m'dayofweek'\u001b[0m\u001b[0;34m,\u001b[0m \u001b[0maxis\u001b[0m\u001b[0;34m=\u001b[0m\u001b[0;36m1\u001b[0m\u001b[0;34m,\u001b[0m \u001b[0minplace\u001b[0m\u001b[0;34m=\u001b[0m\u001b[0;32mTrue\u001b[0m\u001b[0;34m)\u001b[0m\u001b[0;34m\u001b[0m\u001b[0;34m\u001b[0m\u001b[0m\n\u001b[0m",
      "\u001b[0;32m/usr/local/lib/python3.7/dist-packages/pandas/core/frame.py\u001b[0m in \u001b[0;36mdrop\u001b[0;34m(self, labels, axis, index, columns, level, inplace, errors)\u001b[0m\n\u001b[1;32m   4172\u001b[0m             \u001b[0mlevel\u001b[0m\u001b[0;34m=\u001b[0m\u001b[0mlevel\u001b[0m\u001b[0;34m,\u001b[0m\u001b[0;34m\u001b[0m\u001b[0;34m\u001b[0m\u001b[0m\n\u001b[1;32m   4173\u001b[0m             \u001b[0minplace\u001b[0m\u001b[0;34m=\u001b[0m\u001b[0minplace\u001b[0m\u001b[0;34m,\u001b[0m\u001b[0;34m\u001b[0m\u001b[0;34m\u001b[0m\u001b[0m\n\u001b[0;32m-> 4174\u001b[0;31m             \u001b[0merrors\u001b[0m\u001b[0;34m=\u001b[0m\u001b[0merrors\u001b[0m\u001b[0;34m,\u001b[0m\u001b[0;34m\u001b[0m\u001b[0;34m\u001b[0m\u001b[0m\n\u001b[0m\u001b[1;32m   4175\u001b[0m         )\n\u001b[1;32m   4176\u001b[0m \u001b[0;34m\u001b[0m\u001b[0m\n",
      "\u001b[0;32m/usr/local/lib/python3.7/dist-packages/pandas/core/generic.py\u001b[0m in \u001b[0;36mdrop\u001b[0;34m(self, labels, axis, index, columns, level, inplace, errors)\u001b[0m\n\u001b[1;32m   3887\u001b[0m         \u001b[0;32mfor\u001b[0m \u001b[0maxis\u001b[0m\u001b[0;34m,\u001b[0m \u001b[0mlabels\u001b[0m \u001b[0;32min\u001b[0m \u001b[0maxes\u001b[0m\u001b[0;34m.\u001b[0m\u001b[0mitems\u001b[0m\u001b[0;34m(\u001b[0m\u001b[0;34m)\u001b[0m\u001b[0;34m:\u001b[0m\u001b[0;34m\u001b[0m\u001b[0;34m\u001b[0m\u001b[0m\n\u001b[1;32m   3888\u001b[0m             \u001b[0;32mif\u001b[0m \u001b[0mlabels\u001b[0m \u001b[0;32mis\u001b[0m \u001b[0;32mnot\u001b[0m \u001b[0;32mNone\u001b[0m\u001b[0;34m:\u001b[0m\u001b[0;34m\u001b[0m\u001b[0;34m\u001b[0m\u001b[0m\n\u001b[0;32m-> 3889\u001b[0;31m                 \u001b[0mobj\u001b[0m \u001b[0;34m=\u001b[0m \u001b[0mobj\u001b[0m\u001b[0;34m.\u001b[0m\u001b[0m_drop_axis\u001b[0m\u001b[0;34m(\u001b[0m\u001b[0mlabels\u001b[0m\u001b[0;34m,\u001b[0m \u001b[0maxis\u001b[0m\u001b[0;34m,\u001b[0m \u001b[0mlevel\u001b[0m\u001b[0;34m=\u001b[0m\u001b[0mlevel\u001b[0m\u001b[0;34m,\u001b[0m \u001b[0merrors\u001b[0m\u001b[0;34m=\u001b[0m\u001b[0merrors\u001b[0m\u001b[0;34m)\u001b[0m\u001b[0;34m\u001b[0m\u001b[0;34m\u001b[0m\u001b[0m\n\u001b[0m\u001b[1;32m   3890\u001b[0m \u001b[0;34m\u001b[0m\u001b[0m\n\u001b[1;32m   3891\u001b[0m         \u001b[0;32mif\u001b[0m \u001b[0minplace\u001b[0m\u001b[0;34m:\u001b[0m\u001b[0;34m\u001b[0m\u001b[0;34m\u001b[0m\u001b[0m\n",
      "\u001b[0;32m/usr/local/lib/python3.7/dist-packages/pandas/core/generic.py\u001b[0m in \u001b[0;36m_drop_axis\u001b[0;34m(self, labels, axis, level, errors)\u001b[0m\n\u001b[1;32m   3921\u001b[0m                 \u001b[0mnew_axis\u001b[0m \u001b[0;34m=\u001b[0m \u001b[0maxis\u001b[0m\u001b[0;34m.\u001b[0m\u001b[0mdrop\u001b[0m\u001b[0;34m(\u001b[0m\u001b[0mlabels\u001b[0m\u001b[0;34m,\u001b[0m \u001b[0mlevel\u001b[0m\u001b[0;34m=\u001b[0m\u001b[0mlevel\u001b[0m\u001b[0;34m,\u001b[0m \u001b[0merrors\u001b[0m\u001b[0;34m=\u001b[0m\u001b[0merrors\u001b[0m\u001b[0;34m)\u001b[0m\u001b[0;34m\u001b[0m\u001b[0;34m\u001b[0m\u001b[0m\n\u001b[1;32m   3922\u001b[0m             \u001b[0;32melse\u001b[0m\u001b[0;34m:\u001b[0m\u001b[0;34m\u001b[0m\u001b[0;34m\u001b[0m\u001b[0m\n\u001b[0;32m-> 3923\u001b[0;31m                 \u001b[0mnew_axis\u001b[0m \u001b[0;34m=\u001b[0m \u001b[0maxis\u001b[0m\u001b[0;34m.\u001b[0m\u001b[0mdrop\u001b[0m\u001b[0;34m(\u001b[0m\u001b[0mlabels\u001b[0m\u001b[0;34m,\u001b[0m \u001b[0merrors\u001b[0m\u001b[0;34m=\u001b[0m\u001b[0merrors\u001b[0m\u001b[0;34m)\u001b[0m\u001b[0;34m\u001b[0m\u001b[0;34m\u001b[0m\u001b[0m\n\u001b[0m\u001b[1;32m   3924\u001b[0m             \u001b[0mresult\u001b[0m \u001b[0;34m=\u001b[0m \u001b[0mself\u001b[0m\u001b[0;34m.\u001b[0m\u001b[0mreindex\u001b[0m\u001b[0;34m(\u001b[0m\u001b[0;34m**\u001b[0m\u001b[0;34m{\u001b[0m\u001b[0maxis_name\u001b[0m\u001b[0;34m:\u001b[0m \u001b[0mnew_axis\u001b[0m\u001b[0;34m}\u001b[0m\u001b[0;34m)\u001b[0m\u001b[0;34m\u001b[0m\u001b[0;34m\u001b[0m\u001b[0m\n\u001b[1;32m   3925\u001b[0m \u001b[0;34m\u001b[0m\u001b[0m\n",
      "\u001b[0;32m/usr/local/lib/python3.7/dist-packages/pandas/core/indexes/base.py\u001b[0m in \u001b[0;36mdrop\u001b[0;34m(self, labels, errors)\u001b[0m\n\u001b[1;32m   5285\u001b[0m         \u001b[0;32mif\u001b[0m \u001b[0mmask\u001b[0m\u001b[0;34m.\u001b[0m\u001b[0many\u001b[0m\u001b[0;34m(\u001b[0m\u001b[0;34m)\u001b[0m\u001b[0;34m:\u001b[0m\u001b[0;34m\u001b[0m\u001b[0;34m\u001b[0m\u001b[0m\n\u001b[1;32m   5286\u001b[0m             \u001b[0;32mif\u001b[0m \u001b[0merrors\u001b[0m \u001b[0;34m!=\u001b[0m \u001b[0;34m\"ignore\"\u001b[0m\u001b[0;34m:\u001b[0m\u001b[0;34m\u001b[0m\u001b[0;34m\u001b[0m\u001b[0m\n\u001b[0;32m-> 5287\u001b[0;31m                 \u001b[0;32mraise\u001b[0m \u001b[0mKeyError\u001b[0m\u001b[0;34m(\u001b[0m\u001b[0;34mf\"{labels[mask]} not found in axis\"\u001b[0m\u001b[0;34m)\u001b[0m\u001b[0;34m\u001b[0m\u001b[0;34m\u001b[0m\u001b[0m\n\u001b[0m\u001b[1;32m   5288\u001b[0m             \u001b[0mindexer\u001b[0m \u001b[0;34m=\u001b[0m \u001b[0mindexer\u001b[0m\u001b[0;34m[\u001b[0m\u001b[0;34m~\u001b[0m\u001b[0mmask\u001b[0m\u001b[0;34m]\u001b[0m\u001b[0;34m\u001b[0m\u001b[0;34m\u001b[0m\u001b[0m\n\u001b[1;32m   5289\u001b[0m         \u001b[0;32mreturn\u001b[0m \u001b[0mself\u001b[0m\u001b[0;34m.\u001b[0m\u001b[0mdelete\u001b[0m\u001b[0;34m(\u001b[0m\u001b[0mindexer\u001b[0m\u001b[0;34m)\u001b[0m\u001b[0;34m\u001b[0m\u001b[0;34m\u001b[0m\u001b[0m\n",
      "\u001b[0;31mKeyError\u001b[0m: \"['dayofweek'] not found in axis\""
     ]
    }
   ],
   "source": [
    "test_merged.drop('dayofweek', axis=1, inplace=True)"
   ]
  },
  {
   "cell_type": "code",
   "execution_count": null,
   "metadata": {
    "id": "c4-YRuoS8Sfj"
   },
   "outputs": [],
   "source": [
    "test_merged['item_id']=test_merged['item_id'].astype('category')"
   ]
  },
  {
   "cell_type": "code",
   "execution_count": null,
   "metadata": {
    "colab": {
     "base_uri": "https://localhost:8080/",
     "height": 204
    },
    "executionInfo": {
     "elapsed": 894,
     "status": "ok",
     "timestamp": 1619945922364,
     "user": {
      "displayName": "mukesh kiran",
      "photoUrl": "https://lh3.googleusercontent.com/a-/AOh14GjpVg0Q2SlnyyoVNUSbxKazDjdehaPGXIEaysPDxUk=s64",
      "userId": "14410148232412860016"
     },
     "user_tz": -330
    },
    "id": "VVsiIo6gR4kZ",
    "outputId": "e5b94247-2a45-438d-abf6-54747d46e97b"
   },
   "outputs": [
    {
     "data": {
      "text/html": [
       "<div>\n",
       "<style scoped>\n",
       "    .dataframe tbody tr th:only-of-type {\n",
       "        vertical-align: middle;\n",
       "    }\n",
       "\n",
       "    .dataframe tbody tr th {\n",
       "        vertical-align: top;\n",
       "    }\n",
       "\n",
       "    .dataframe thead th {\n",
       "        text-align: right;\n",
       "    }\n",
       "</style>\n",
       "<table border=\"1\" class=\"dataframe\">\n",
       "  <thead>\n",
       "    <tr style=\"text-align: right;\">\n",
       "      <th></th>\n",
       "      <th>id</th>\n",
       "      <th>date</th>\n",
       "      <th>locationId</th>\n",
       "      <th>item_id</th>\n",
       "      <th>onpromotion</th>\n",
       "      <th>city</th>\n",
       "      <th>state</th>\n",
       "      <th>type</th>\n",
       "      <th>cluster</th>\n",
       "      <th>category_of_item</th>\n",
       "      <th>class</th>\n",
       "      <th>perishable</th>\n",
       "      <th>dayofweek</th>\n",
       "      <th>month</th>\n",
       "    </tr>\n",
       "  </thead>\n",
       "  <tbody>\n",
       "    <tr>\n",
       "      <th>0</th>\n",
       "      <td>0</td>\n",
       "      <td>2019-01-01</td>\n",
       "      <td>location_25</td>\n",
       "      <td>item_99197</td>\n",
       "      <td>False</td>\n",
       "      <td>Kanpur</td>\n",
       "      <td>Uttar Pradesh</td>\n",
       "      <td>D</td>\n",
       "      <td>1</td>\n",
       "      <td>grocery_items</td>\n",
       "      <td>class_1067</td>\n",
       "      <td>0</td>\n",
       "      <td>1</td>\n",
       "      <td>1</td>\n",
       "    </tr>\n",
       "    <tr>\n",
       "      <th>1</th>\n",
       "      <td>1</td>\n",
       "      <td>2019-01-01</td>\n",
       "      <td>location_25</td>\n",
       "      <td>item_103665</td>\n",
       "      <td>False</td>\n",
       "      <td>Kanpur</td>\n",
       "      <td>Uttar Pradesh</td>\n",
       "      <td>D</td>\n",
       "      <td>1</td>\n",
       "      <td>baked_items / bread_based</td>\n",
       "      <td>class_2712</td>\n",
       "      <td>1</td>\n",
       "      <td>1</td>\n",
       "      <td>1</td>\n",
       "    </tr>\n",
       "    <tr>\n",
       "      <th>2</th>\n",
       "      <td>2</td>\n",
       "      <td>2019-01-01</td>\n",
       "      <td>location_25</td>\n",
       "      <td>item_105574</td>\n",
       "      <td>False</td>\n",
       "      <td>Kanpur</td>\n",
       "      <td>Uttar Pradesh</td>\n",
       "      <td>D</td>\n",
       "      <td>1</td>\n",
       "      <td>grocery_items</td>\n",
       "      <td>class_1045</td>\n",
       "      <td>0</td>\n",
       "      <td>1</td>\n",
       "      <td>1</td>\n",
       "    </tr>\n",
       "    <tr>\n",
       "      <th>3</th>\n",
       "      <td>3</td>\n",
       "      <td>2019-01-01</td>\n",
       "      <td>location_25</td>\n",
       "      <td>item_105857</td>\n",
       "      <td>False</td>\n",
       "      <td>Kanpur</td>\n",
       "      <td>Uttar Pradesh</td>\n",
       "      <td>D</td>\n",
       "      <td>1</td>\n",
       "      <td>grocery_items</td>\n",
       "      <td>class_1092</td>\n",
       "      <td>0</td>\n",
       "      <td>1</td>\n",
       "      <td>1</td>\n",
       "    </tr>\n",
       "    <tr>\n",
       "      <th>4</th>\n",
       "      <td>4</td>\n",
       "      <td>2019-01-01</td>\n",
       "      <td>location_25</td>\n",
       "      <td>item_106716</td>\n",
       "      <td>False</td>\n",
       "      <td>Kanpur</td>\n",
       "      <td>Uttar Pradesh</td>\n",
       "      <td>D</td>\n",
       "      <td>1</td>\n",
       "      <td>grocery_items</td>\n",
       "      <td>class_1032</td>\n",
       "      <td>0</td>\n",
       "      <td>1</td>\n",
       "      <td>1</td>\n",
       "    </tr>\n",
       "  </tbody>\n",
       "</table>\n",
       "</div>"
      ],
      "text/plain": [
       "   id       date   locationId  ... perishable  dayofweek month\n",
       "0   0 2019-01-01  location_25  ...          0          1     1\n",
       "1   1 2019-01-01  location_25  ...          1          1     1\n",
       "2   2 2019-01-01  location_25  ...          0          1     1\n",
       "3   3 2019-01-01  location_25  ...          0          1     1\n",
       "4   4 2019-01-01  location_25  ...          0          1     1\n",
       "\n",
       "[5 rows x 14 columns]"
      ]
     },
     "execution_count": 14,
     "metadata": {
      "tags": []
     },
     "output_type": "execute_result"
    }
   ],
   "source": [
    "#test_merged.drop(['cluster','perishable'],axis=1,inplace=True)\n",
    "test_merged.head()"
   ]
  },
  {
   "cell_type": "markdown",
   "metadata": {
    "id": "ESE-KkFWILxB"
   },
   "source": [
    "### Converting categorical cols to numeric using dummification"
   ]
  },
  {
   "cell_type": "code",
   "execution_count": null,
   "metadata": {
    "id": "g3OjUb2LOp4A"
   },
   "outputs": [],
   "source": [
    "cols_to_transform1 = test_merged.select_dtypes(include=['category','uint8']).columns\n",
    "test_merged = pd.get_dummies(columns=cols_to_transform1, data=test_merged, prefix=cols_to_transform1, prefix_sep=\"_\",drop_first=True)"
   ]
  },
  {
   "cell_type": "code",
   "execution_count": null,
   "metadata": {
    "id": "LiWhvlHEPpk0"
   },
   "outputs": [],
   "source": [
    "test_data=encoder_model.transform(test_merged)"
   ]
  },
  {
   "cell_type": "code",
   "execution_count": null,
   "metadata": {
    "id": "FNAyuFU6Qaom"
   },
   "outputs": [],
   "source": [
    "df=pd.DataFrame(np.zeros((23517680,5)),columns=list('abcde'))"
   ]
  },
  {
   "cell_type": "markdown",
   "metadata": {
    "id": "Pn4KTl3wUy6-"
   },
   "source": [
    "## Target Encoding for all variables"
   ]
  },
  {
   "cell_type": "code",
   "execution_count": null,
   "metadata": {
    "id": "TM1ugG1XUORJ"
   },
   "outputs": [],
   "source": [
    "class_1=test_merged[['locationId','category_of_item','month','item_id']]\n",
    "class_2=test_merged[['onpromotion','city','state']]\n",
    "class_3=test_merged[['type','class','dayofweek']]"
   ]
  },
  {
   "cell_type": "code",
   "execution_count": null,
   "metadata": {
    "id": "9KIj5dWXUyiK"
   },
   "outputs": [],
   "source": [
    "test_merged['dayofweek']=test_merged['dayofweek'].astype('category')\n",
    "test_merged['class']=test_merged['class'].astype('category')\n",
    "test_merged['type']=test_merged['type'].astype('category')\n",
    "test_merged['city']=test_merged['city'].astype('category')\n",
    "test_merged['state']=test_merged['state'].astype('category')"
   ]
  },
  {
   "cell_type": "code",
   "execution_count": null,
   "metadata": {
    "colab": {
     "base_uri": "https://localhost:8080/"
    },
    "executionInfo": {
     "elapsed": 1567,
     "status": "ok",
     "timestamp": 1619946672507,
     "user": {
      "displayName": "mukesh kiran",
      "photoUrl": "https://lh3.googleusercontent.com/a-/AOh14GjpVg0Q2SlnyyoVNUSbxKazDjdehaPGXIEaysPDxUk=s64",
      "userId": "14410148232412860016"
     },
     "user_tz": -330
    },
    "id": "DK3VtsbQUiOG",
    "outputId": "cc773e12-42d0-473d-fb97-137266bb00a2"
   },
   "outputs": [
    {
     "data": {
      "text/plain": [
       "locationId          category\n",
       "category_of_item    category\n",
       "month               category\n",
       "item_id             category\n",
       "dtype: object"
      ]
     },
     "execution_count": 26,
     "metadata": {
      "tags": []
     },
     "output_type": "execute_result"
    }
   ],
   "source": [
    "class_1.dtypes"
   ]
  },
  {
   "cell_type": "code",
   "execution_count": null,
   "metadata": {
    "id": "m-mhLLKEWc4E"
   },
   "outputs": [],
   "source": [
    "t1=encoder_model1.transform(class_1)\n",
    "t2=encoder_model2.transform(class_2)\n",
    "t3=encoder_model3.transform(class_3)"
   ]
  },
  {
   "cell_type": "code",
   "execution_count": null,
   "metadata": {
    "id": "x3lzXn5eWyCr"
   },
   "outputs": [],
   "source": [
    "test_data=pd.concat([t1,t2,t3],axis=1)"
   ]
  },
  {
   "cell_type": "code",
   "execution_count": null,
   "metadata": {
    "colab": {
     "base_uri": "https://localhost:8080/",
     "height": 204
    },
    "executionInfo": {
     "elapsed": 514,
     "status": "ok",
     "timestamp": 1619946984534,
     "user": {
      "displayName": "mukesh kiran",
      "photoUrl": "https://lh3.googleusercontent.com/a-/AOh14GjpVg0Q2SlnyyoVNUSbxKazDjdehaPGXIEaysPDxUk=s64",
      "userId": "14410148232412860016"
     },
     "user_tz": -330
    },
    "id": "jrGxEjm1W8NG",
    "outputId": "89ab4abe-05ff-4f5f-a297-84c2a7d5e154"
   },
   "outputs": [
    {
     "data": {
      "text/html": [
       "<div>\n",
       "<style scoped>\n",
       "    .dataframe tbody tr th:only-of-type {\n",
       "        vertical-align: middle;\n",
       "    }\n",
       "\n",
       "    .dataframe tbody tr th {\n",
       "        vertical-align: top;\n",
       "    }\n",
       "\n",
       "    .dataframe thead th {\n",
       "        text-align: right;\n",
       "    }\n",
       "</style>\n",
       "<table border=\"1\" class=\"dataframe\">\n",
       "  <thead>\n",
       "    <tr style=\"text-align: right;\">\n",
       "      <th></th>\n",
       "      <th>locationId</th>\n",
       "      <th>category_of_item</th>\n",
       "      <th>month</th>\n",
       "      <th>item_id</th>\n",
       "      <th>onpromotion</th>\n",
       "      <th>city</th>\n",
       "      <th>state</th>\n",
       "      <th>type</th>\n",
       "      <th>class</th>\n",
       "      <th>dayofweek</th>\n",
       "    </tr>\n",
       "  </thead>\n",
       "  <tbody>\n",
       "    <tr>\n",
       "      <th>0</th>\n",
       "      <td>3.919831</td>\n",
       "      <td>4.970956</td>\n",
       "      <td>5.133624</td>\n",
       "      <td>3.598750</td>\n",
       "      <td>0</td>\n",
       "      <td>3.919831</td>\n",
       "      <td>4.233805</td>\n",
       "      <td>4.857485</td>\n",
       "      <td>2.801564</td>\n",
       "      <td>5.558041</td>\n",
       "    </tr>\n",
       "    <tr>\n",
       "      <th>1</th>\n",
       "      <td>3.919831</td>\n",
       "      <td>5.793065</td>\n",
       "      <td>5.133624</td>\n",
       "      <td>4.438550</td>\n",
       "      <td>0</td>\n",
       "      <td>3.919831</td>\n",
       "      <td>4.233805</td>\n",
       "      <td>4.857485</td>\n",
       "      <td>4.663193</td>\n",
       "      <td>5.558041</td>\n",
       "    </tr>\n",
       "    <tr>\n",
       "      <th>2</th>\n",
       "      <td>3.919831</td>\n",
       "      <td>4.970956</td>\n",
       "      <td>5.133624</td>\n",
       "      <td>8.483656</td>\n",
       "      <td>0</td>\n",
       "      <td>3.919831</td>\n",
       "      <td>4.233805</td>\n",
       "      <td>4.857485</td>\n",
       "      <td>6.517628</td>\n",
       "      <td>5.558041</td>\n",
       "    </tr>\n",
       "    <tr>\n",
       "      <th>3</th>\n",
       "      <td>3.919831</td>\n",
       "      <td>4.970956</td>\n",
       "      <td>5.133624</td>\n",
       "      <td>5.224587</td>\n",
       "      <td>0</td>\n",
       "      <td>3.919831</td>\n",
       "      <td>4.233805</td>\n",
       "      <td>4.857485</td>\n",
       "      <td>3.814413</td>\n",
       "      <td>5.558041</td>\n",
       "    </tr>\n",
       "    <tr>\n",
       "      <th>4</th>\n",
       "      <td>3.919831</td>\n",
       "      <td>4.970956</td>\n",
       "      <td>5.133624</td>\n",
       "      <td>5.762258</td>\n",
       "      <td>0</td>\n",
       "      <td>3.919831</td>\n",
       "      <td>4.233805</td>\n",
       "      <td>4.857485</td>\n",
       "      <td>4.307675</td>\n",
       "      <td>5.558041</td>\n",
       "    </tr>\n",
       "  </tbody>\n",
       "</table>\n",
       "</div>"
      ],
      "text/plain": [
       "   locationId  category_of_item     month  ...      type     class  dayofweek\n",
       "0    3.919831          4.970956  5.133624  ...  4.857485  2.801564   5.558041\n",
       "1    3.919831          5.793065  5.133624  ...  4.857485  4.663193   5.558041\n",
       "2    3.919831          4.970956  5.133624  ...  4.857485  6.517628   5.558041\n",
       "3    3.919831          4.970956  5.133624  ...  4.857485  3.814413   5.558041\n",
       "4    3.919831          4.970956  5.133624  ...  4.857485  4.307675   5.558041\n",
       "\n",
       "[5 rows x 10 columns]"
      ]
     },
     "execution_count": 30,
     "metadata": {
      "tags": []
     },
     "output_type": "execute_result"
    }
   ],
   "source": [
    "test_data['onpromotion']=test_data['onpromotion'].astype('int')\n",
    "test_data.head()"
   ]
  },
  {
   "cell_type": "code",
   "execution_count": null,
   "metadata": {
    "id": "EWLYdPXzSODV"
   },
   "outputs": [],
   "source": [
    "df['a']=df['a'].astype('int8')\n",
    "df['b']=df['b'].astype('int8')\n",
    "df['c']=df['c'].astype('int8')\n",
    "df['d']=df['d'].astype('int8')\n",
    "df['e']=df['e'].astype('int8')"
   ]
  },
  {
   "cell_type": "code",
   "execution_count": null,
   "metadata": {
    "id": "5i4zNUa3RJgU"
   },
   "outputs": [],
   "source": [
    "test_m=pd.concat([test_merged,df],axis=1)"
   ]
  },
  {
   "cell_type": "code",
   "execution_count": null,
   "metadata": {
    "id": "wADIrGl-XL1Z"
   },
   "outputs": [],
   "source": [
    "test_m.drop('e',axis=1,inplace=True)"
   ]
  },
  {
   "cell_type": "code",
   "execution_count": null,
   "metadata": {
    "id": "aZKE_ZxFOtop"
   },
   "outputs": [],
   "source": [
    "x_test=test_data.values"
   ]
  },
  {
   "cell_type": "code",
   "execution_count": null,
   "metadata": {
    "colab": {
     "base_uri": "https://localhost:8080/"
    },
    "executionInfo": {
     "elapsed": 867,
     "status": "ok",
     "timestamp": 1619851241920,
     "user": {
      "displayName": "mukesh kiran",
      "photoUrl": "https://lh3.googleusercontent.com/a-/AOh14GjpVg0Q2SlnyyoVNUSbxKazDjdehaPGXIEaysPDxUk=s64",
      "userId": "14410148232412860016"
     },
     "user_tz": -330
    },
    "id": "QGxQob95PE1-",
    "outputId": "0f42a396-9512-4ccb-cc15-df8c81bda17f"
   },
   "outputs": [
    {
     "data": {
      "text/plain": [
       "(23517680, 5)"
      ]
     },
     "execution_count": 29,
     "metadata": {
      "tags": []
     },
     "output_type": "execute_result"
    }
   ],
   "source": [
    "x_test.shape"
   ]
  },
  {
   "cell_type": "markdown",
   "metadata": {
    "id": "KzdnIBPFDodV"
   },
   "source": [
    "# sales forecast using predict function for trained Model"
   ]
  },
  {
   "cell_type": "code",
   "execution_count": null,
   "metadata": {
    "id": "UT4g0KRpE1eP"
   },
   "outputs": [],
   "source": [
    "y_pred = model.predict(test_data)\n",
    "\n"
   ]
  },
  {
   "cell_type": "code",
   "execution_count": null,
   "metadata": {
    "id": "luA4zVATO_DT"
   },
   "outputs": [],
   "source": [
    "result=pd.DataFrame(y_pred,columns=['unit_sales'])"
   ]
  },
  {
   "cell_type": "code",
   "execution_count": null,
   "metadata": {
    "id": "NqNhhYg1UvRi"
   },
   "outputs": [],
   "source": [
    "result['id']=test['id']"
   ]
  },
  {
   "cell_type": "code",
   "execution_count": null,
   "metadata": {
    "colab": {
     "base_uri": "https://localhost:8080/",
     "height": 204
    },
    "executionInfo": {
     "elapsed": 753,
     "status": "ok",
     "timestamp": 1619947439401,
     "user": {
      "displayName": "mukesh kiran",
      "photoUrl": "https://lh3.googleusercontent.com/a-/AOh14GjpVg0Q2SlnyyoVNUSbxKazDjdehaPGXIEaysPDxUk=s64",
      "userId": "14410148232412860016"
     },
     "user_tz": -330
    },
    "id": "S_75LowKolyn",
    "outputId": "73e7bf54-11aa-47e3-aa8f-c7365bd03489"
   },
   "outputs": [
    {
     "data": {
      "text/html": [
       "<div>\n",
       "<style scoped>\n",
       "    .dataframe tbody tr th:only-of-type {\n",
       "        vertical-align: middle;\n",
       "    }\n",
       "\n",
       "    .dataframe tbody tr th {\n",
       "        vertical-align: top;\n",
       "    }\n",
       "\n",
       "    .dataframe thead th {\n",
       "        text-align: right;\n",
       "    }\n",
       "</style>\n",
       "<table border=\"1\" class=\"dataframe\">\n",
       "  <thead>\n",
       "    <tr style=\"text-align: right;\">\n",
       "      <th></th>\n",
       "      <th>unit_sales</th>\n",
       "      <th>id</th>\n",
       "    </tr>\n",
       "  </thead>\n",
       "  <tbody>\n",
       "    <tr>\n",
       "      <th>0</th>\n",
       "      <td>1.999582</td>\n",
       "      <td>0</td>\n",
       "    </tr>\n",
       "    <tr>\n",
       "      <th>1</th>\n",
       "      <td>2.204405</td>\n",
       "      <td>1</td>\n",
       "    </tr>\n",
       "    <tr>\n",
       "      <th>2</th>\n",
       "      <td>6.419739</td>\n",
       "      <td>2</td>\n",
       "    </tr>\n",
       "    <tr>\n",
       "      <th>3</th>\n",
       "      <td>2.854342</td>\n",
       "      <td>3</td>\n",
       "    </tr>\n",
       "    <tr>\n",
       "      <th>4</th>\n",
       "      <td>3.159754</td>\n",
       "      <td>4</td>\n",
       "    </tr>\n",
       "  </tbody>\n",
       "</table>\n",
       "</div>"
      ],
      "text/plain": [
       "   unit_sales  id\n",
       "0    1.999582   0\n",
       "1    2.204405   1\n",
       "2    6.419739   2\n",
       "3    2.854342   3\n",
       "4    3.159754   4"
      ]
     },
     "execution_count": 36,
     "metadata": {
      "tags": []
     },
     "output_type": "execute_result"
    }
   ],
   "source": [
    "result.head()"
   ]
  },
  {
   "cell_type": "code",
   "execution_count": null,
   "metadata": {
    "id": "9gGrErHUofpZ"
   },
   "outputs": [],
   "source": [
    "result.set_index('id',inplace=True)"
   ]
  },
  {
   "cell_type": "code",
   "execution_count": null,
   "metadata": {
    "id": "NFK1OB-jVHRN"
   },
   "outputs": [],
   "source": [
    "result['unit_sales']=result['unit_sales'].astype('float32')"
   ]
  },
  {
   "cell_type": "code",
   "execution_count": null,
   "metadata": {
    "id": "Yvddy5TXVS2r"
   },
   "outputs": [],
   "source": [
    "result.to_csv('/content/drive/MyDrive/Final_Hack/submission_ANN_TargetEncoder_AllData.csv')"
   ]
  }
 ],
 "metadata": {
  "accelerator": "TPU",
  "colab": {
   "authorship_tag": "ABX9TyNHmuxAYTDjLDsq+CPFw4o1",
   "collapsed_sections": [],
   "machine_shape": "hm",
   "name": "Sales Forecast for year 2019.ipynb",
   "provenance": [],
   "toc_visible": true
  },
  "kernelspec": {
   "display_name": "Python 3",
   "language": "python",
   "name": "python3"
  },
  "language_info": {
   "codemirror_mode": {
    "name": "ipython",
    "version": 3
   },
   "file_extension": ".py",
   "mimetype": "text/x-python",
   "name": "python",
   "nbconvert_exporter": "python",
   "pygments_lexer": "ipython3",
   "version": "3.7.6"
  }
 },
 "nbformat": 4,
 "nbformat_minor": 1
}
