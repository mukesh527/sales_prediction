{
 "cells": [
  {
   "cell_type": "code",
   "execution_count": 1,
   "metadata": {
    "colab": {
     "base_uri": "https://localhost:8080/"
    },
    "executionInfo": {
     "elapsed": 24910,
     "status": "ok",
     "timestamp": 1620362369305,
     "user": {
      "displayName": "mukesh kiran",
      "photoUrl": "https://lh3.googleusercontent.com/a-/AOh14GjpVg0Q2SlnyyoVNUSbxKazDjdehaPGXIEaysPDxUk=s64",
      "userId": "14410148232412860016"
     },
     "user_tz": -330
    },
    "id": "afUyk29evk32",
    "outputId": "ee2ea1d0-72f7-4d18-9e13-ca70b9675cd0"
   },
   "outputs": [
    {
     "name": "stdout",
     "output_type": "stream",
     "text": [
      "Mounted at /content/drive\n"
     ]
    }
   ],
   "source": [
    "from google.colab import drive\n",
    "drive.mount('/content/drive')"
   ]
  },
  {
   "cell_type": "code",
   "execution_count": null,
   "metadata": {
    "colab": {
     "base_uri": "https://localhost:8080/"
    },
    "executionInfo": {
     "elapsed": 8622,
     "status": "ok",
     "timestamp": 1620313118851,
     "user": {
      "displayName": "mukesh kiran",
      "photoUrl": "https://lh3.googleusercontent.com/a-/AOh14GjpVg0Q2SlnyyoVNUSbxKazDjdehaPGXIEaysPDxUk=s64",
      "userId": "14410148232412860016"
     },
     "user_tz": -330
    },
    "id": "jUr4qsYPwcei",
    "outputId": "d77ae164-36bd-4a73-b644-07b08e49c121"
   },
   "outputs": [
    {
     "name": "stdout",
     "output_type": "stream",
     "text": [
      "Collecting geopandas\n",
      "\u001b[?25l  Downloading https://files.pythonhosted.org/packages/d7/bf/e9cefb69d39155d122b6ddca53893b61535fa6ffdad70bf5ef708977f53f/geopandas-0.9.0-py2.py3-none-any.whl (994kB)\n",
      "\u001b[K     |████████████████████████████████| 1.0MB 6.3MB/s \n",
      "\u001b[?25hRequirement already satisfied: shapely>=1.6 in /usr/local/lib/python3.7/dist-packages (from geopandas) (1.7.1)\n",
      "Collecting fiona>=1.8\n",
      "\u001b[?25l  Downloading https://files.pythonhosted.org/packages/ea/2a/404b22883298a3efe9c6ef8d67acbf2c38443fa366ee9cd4cd34e17626ea/Fiona-1.8.19-cp37-cp37m-manylinux1_x86_64.whl (15.3MB)\n",
      "\u001b[K     |████████████████████████████████| 15.3MB 357kB/s \n",
      "\u001b[?25hCollecting pyproj>=2.2.0\n",
      "\u001b[?25l  Downloading https://files.pythonhosted.org/packages/b1/72/d52e9ca81caef056062d71991b0e9b1d16af042245627c5d0e4916a36c4f/pyproj-3.0.1-cp37-cp37m-manylinux2010_x86_64.whl (6.5MB)\n",
      "\u001b[K     |████████████████████████████████| 6.5MB 52.1MB/s \n",
      "\u001b[?25hRequirement already satisfied: pandas>=0.24.0 in /usr/local/lib/python3.7/dist-packages (from geopandas) (1.1.5)\n",
      "Collecting munch\n",
      "  Downloading https://files.pythonhosted.org/packages/cc/ab/85d8da5c9a45e072301beb37ad7f833cd344e04c817d97e0cc75681d248f/munch-2.5.0-py2.py3-none-any.whl\n",
      "Requirement already satisfied: six>=1.7 in /usr/local/lib/python3.7/dist-packages (from fiona>=1.8->geopandas) (1.15.0)\n",
      "Requirement already satisfied: click<8,>=4.0 in /usr/local/lib/python3.7/dist-packages (from fiona>=1.8->geopandas) (7.1.2)\n",
      "Collecting click-plugins>=1.0\n",
      "  Downloading https://files.pythonhosted.org/packages/e9/da/824b92d9942f4e472702488857914bdd50f73021efea15b4cad9aca8ecef/click_plugins-1.1.1-py2.py3-none-any.whl\n",
      "Requirement already satisfied: attrs>=17 in /usr/local/lib/python3.7/dist-packages (from fiona>=1.8->geopandas) (20.3.0)\n",
      "Requirement already satisfied: certifi in /usr/local/lib/python3.7/dist-packages (from fiona>=1.8->geopandas) (2020.12.5)\n",
      "Collecting cligj>=0.5\n",
      "  Downloading https://files.pythonhosted.org/packages/42/1e/947eadf10d6804bf276eb8a038bd5307996dceaaa41cfd21b7a15ec62f5d/cligj-0.7.1-py3-none-any.whl\n",
      "Requirement already satisfied: numpy>=1.15.4 in /usr/local/lib/python3.7/dist-packages (from pandas>=0.24.0->geopandas) (1.19.5)\n",
      "Requirement already satisfied: python-dateutil>=2.7.3 in /usr/local/lib/python3.7/dist-packages (from pandas>=0.24.0->geopandas) (2.8.1)\n",
      "Requirement already satisfied: pytz>=2017.2 in /usr/local/lib/python3.7/dist-packages (from pandas>=0.24.0->geopandas) (2018.9)\n",
      "Installing collected packages: munch, click-plugins, cligj, fiona, pyproj, geopandas\n",
      "Successfully installed click-plugins-1.1.1 cligj-0.7.1 fiona-1.8.19 geopandas-0.9.0 munch-2.5.0 pyproj-3.0.1\n"
     ]
    }
   ],
   "source": [
    "!pip install geopandas"
   ]
  },
  {
   "cell_type": "code",
   "execution_count": null,
   "metadata": {
    "id": "DbnK8xEkp4rk"
   },
   "outputs": [],
   "source": [
    "import pandas as pd"
   ]
  },
  {
   "cell_type": "code",
   "execution_count": null,
   "metadata": {
    "id": "JLbLlZoTxKdE"
   },
   "outputs": [],
   "source": [
    "import geopandas as gpd\n",
    "states=gpd.read_file('/content/drive/MyDrive/Final_Hack/india_administrative_state_boundary/india_administrative_state_boundary.shp')\n"
   ]
  },
  {
   "cell_type": "code",
   "execution_count": null,
   "metadata": {
    "id": "FQyHJlxVwmmp"
   },
   "outputs": [],
   "source": [
    "pred=pd.read_csv('/content/drive/MyDrive/Final_Hack/submission_result.csv')\n"
   ]
  },
  {
   "cell_type": "code",
   "execution_count": null,
   "metadata": {
    "id": "zvw6IAyR9RLt"
   },
   "outputs": [],
   "source": [
    "geolocations=pd.read_csv('/content/drive/MyDrive/Final_Hack/geolocations.csv')"
   ]
  },
  {
   "cell_type": "code",
   "execution_count": null,
   "metadata": {
    "id": "fB-GGtfdUEDA"
   },
   "outputs": [],
   "source": [
    "pred.drop(['perishable_x','perishable_y','class','id','locationId','onpromotion','date','Unnamed: 0'],axis=1,inplace=True)"
   ]
  },
  {
   "cell_type": "code",
   "execution_count": null,
   "metadata": {
    "colab": {
     "base_uri": "https://localhost:8080/"
    },
    "executionInfo": {
     "elapsed": 2323,
     "status": "ok",
     "timestamp": 1620315653618,
     "user": {
      "displayName": "mukesh kiran",
      "photoUrl": "https://lh3.googleusercontent.com/a-/AOh14GjpVg0Q2SlnyyoVNUSbxKazDjdehaPGXIEaysPDxUk=s64",
      "userId": "14410148232412860016"
     },
     "user_tz": -330
    },
    "id": "8QmJslPqw4jh",
    "outputId": "6ea064cc-f010-44c2-fed0-88aa82244958"
   },
   "outputs": [
    {
     "data": {
      "text/plain": [
       "array(['Uttar Pradesh', 'Karnataka', 'NCR', 'West Bengal', 'Chimborazo',\n",
       "       'Gujarat', 'Madhya Pradesh', 'Haryana', 'Maharashtra',\n",
       "       'Tamil Nadu', 'Andhra Pradesh', 'Telangana', 'Bihar'], dtype=object)"
      ]
     },
     "execution_count": 6,
     "metadata": {
      "tags": []
     },
     "output_type": "execute_result"
    }
   ],
   "source": [
    "#pred.drop(['date','Unnamed: 0'],axis=1,inplace=True)\n",
    "pred.state.unique()"
   ]
  },
  {
   "cell_type": "code",
   "execution_count": null,
   "metadata": {
    "colab": {
     "base_uri": "https://localhost:8080/",
     "height": 669
    },
    "executionInfo": {
     "elapsed": 852,
     "status": "ok",
     "timestamp": 1620316408633,
     "user": {
      "displayName": "mukesh kiran",
      "photoUrl": "https://lh3.googleusercontent.com/a-/AOh14GjpVg0Q2SlnyyoVNUSbxKazDjdehaPGXIEaysPDxUk=s64",
      "userId": "14410148232412860016"
     },
     "user_tz": -330
    },
    "id": "B0XgL0XCxXOp",
    "outputId": "6478690e-0d28-4636-f609-6bcc67c8df09"
   },
   "outputs": [
    {
     "data": {
      "text/html": [
       "<div>\n",
       "<style scoped>\n",
       "    .dataframe tbody tr th:only-of-type {\n",
       "        vertical-align: middle;\n",
       "    }\n",
       "\n",
       "    .dataframe tbody tr th {\n",
       "        vertical-align: top;\n",
       "    }\n",
       "\n",
       "    .dataframe thead th {\n",
       "        text-align: right;\n",
       "    }\n",
       "</style>\n",
       "<table border=\"1\" class=\"dataframe\">\n",
       "  <thead>\n",
       "    <tr style=\"text-align: right;\">\n",
       "      <th></th>\n",
       "      <th>level_0</th>\n",
       "      <th>index</th>\n",
       "      <th>Address</th>\n",
       "      <th>Lat</th>\n",
       "      <th>Long</th>\n",
       "      <th>state</th>\n",
       "    </tr>\n",
       "  </thead>\n",
       "  <tbody>\n",
       "    <tr>\n",
       "      <th>0</th>\n",
       "      <td>0.0</td>\n",
       "      <td>0.0</td>\n",
       "      <td>Kanpur,Uttar Pradesh</td>\n",
       "      <td>26.5005</td>\n",
       "      <td>80.2712</td>\n",
       "      <td>Uttar Pradesh</td>\n",
       "    </tr>\n",
       "    <tr>\n",
       "      <th>1</th>\n",
       "      <td>1.0</td>\n",
       "      <td>1.0</td>\n",
       "      <td>Bengaluru,Karnataka</td>\n",
       "      <td>12.9767</td>\n",
       "      <td>77.5753</td>\n",
       "      <td>Karnataka</td>\n",
       "    </tr>\n",
       "    <tr>\n",
       "      <th>2</th>\n",
       "      <td>2.0</td>\n",
       "      <td>2.0</td>\n",
       "      <td>Delhi,NCR</td>\n",
       "      <td>28.7041</td>\n",
       "      <td>77.1025</td>\n",
       "      <td>NCR</td>\n",
       "    </tr>\n",
       "    <tr>\n",
       "      <th>3</th>\n",
       "      <td>3.0</td>\n",
       "      <td>3.0</td>\n",
       "      <td>Gurgaon,Haryana</td>\n",
       "      <td>28.4697</td>\n",
       "      <td>77.0426</td>\n",
       "      <td>Haryana</td>\n",
       "    </tr>\n",
       "    <tr>\n",
       "      <th>4</th>\n",
       "      <td>4.0</td>\n",
       "      <td>4.0</td>\n",
       "      <td>Mumbai,Maharashtra</td>\n",
       "      <td>19.076</td>\n",
       "      <td>72.8777</td>\n",
       "      <td>Maharashtra</td>\n",
       "    </tr>\n",
       "    <tr>\n",
       "      <th>5</th>\n",
       "      <td>5.0</td>\n",
       "      <td>5.0</td>\n",
       "      <td>Mysore,Karnataka</td>\n",
       "      <td>12.2958</td>\n",
       "      <td>76.6394</td>\n",
       "      <td>Karnataka</td>\n",
       "    </tr>\n",
       "    <tr>\n",
       "      <th>6</th>\n",
       "      <td>6.0</td>\n",
       "      <td>6.0</td>\n",
       "      <td>Nagpur,Maharashtra</td>\n",
       "      <td>21.1458</td>\n",
       "      <td>79.0882</td>\n",
       "      <td>Maharashtra</td>\n",
       "    </tr>\n",
       "    <tr>\n",
       "      <th>7</th>\n",
       "      <td>7.0</td>\n",
       "      <td>7.0</td>\n",
       "      <td>Hyderabad,Telangana</td>\n",
       "      <td>17.385</td>\n",
       "      <td>78.4867</td>\n",
       "      <td>Telangana</td>\n",
       "    </tr>\n",
       "    <tr>\n",
       "      <th>8</th>\n",
       "      <td>8.0</td>\n",
       "      <td>8.0</td>\n",
       "      <td>Surat,Gujarat</td>\n",
       "      <td>21.1702</td>\n",
       "      <td>72.8311</td>\n",
       "      <td>Gujarat</td>\n",
       "    </tr>\n",
       "    <tr>\n",
       "      <th>9</th>\n",
       "      <td>9.0</td>\n",
       "      <td>9.0</td>\n",
       "      <td>Pune,Maharashtra</td>\n",
       "      <td>18.5204</td>\n",
       "      <td>73.8567</td>\n",
       "      <td>Maharashtra</td>\n",
       "    </tr>\n",
       "    <tr>\n",
       "      <th>10</th>\n",
       "      <td>10.0</td>\n",
       "      <td>10.0</td>\n",
       "      <td>Kolkata,West Bengal</td>\n",
       "      <td>22.5726</td>\n",
       "      <td>88.3639</td>\n",
       "      <td>West Bengal</td>\n",
       "    </tr>\n",
       "    <tr>\n",
       "      <th>11</th>\n",
       "      <td>11.0</td>\n",
       "      <td>11.0</td>\n",
       "      <td>Lucknow,Uttar Pradesh</td>\n",
       "      <td>26.8467</td>\n",
       "      <td>80.9462</td>\n",
       "      <td>Uttar Pradesh</td>\n",
       "    </tr>\n",
       "    <tr>\n",
       "      <th>12</th>\n",
       "      <td>12.0</td>\n",
       "      <td>12.0</td>\n",
       "      <td>Chennai,Tamil Nadu</td>\n",
       "      <td>13.0827</td>\n",
       "      <td>80.2707</td>\n",
       "      <td>Tamil Nadu</td>\n",
       "    </tr>\n",
       "    <tr>\n",
       "      <th>13</th>\n",
       "      <td>13.0</td>\n",
       "      <td>13.0</td>\n",
       "      <td>Ahmedabad,Gujarat</td>\n",
       "      <td>23.0225</td>\n",
       "      <td>72.5714</td>\n",
       "      <td>Gujarat</td>\n",
       "    </tr>\n",
       "    <tr>\n",
       "      <th>14</th>\n",
       "      <td>14.0</td>\n",
       "      <td>14.0</td>\n",
       "      <td>Coimbatore,Tamil Nadu</td>\n",
       "      <td>11.0168</td>\n",
       "      <td>76.9558</td>\n",
       "      <td>Tamil Nadu</td>\n",
       "    </tr>\n",
       "    <tr>\n",
       "      <th>15</th>\n",
       "      <td>15.0</td>\n",
       "      <td>15.0</td>\n",
       "      <td>Indore,Madhya Pradesh</td>\n",
       "      <td>22.7196</td>\n",
       "      <td>75.8577</td>\n",
       "      <td>Madhya Pradesh</td>\n",
       "    </tr>\n",
       "    <tr>\n",
       "      <th>16</th>\n",
       "      <td>16.0</td>\n",
       "      <td>16.0</td>\n",
       "      <td>Gandhinagar,Gujarat</td>\n",
       "      <td>23.2156</td>\n",
       "      <td>72.6369</td>\n",
       "      <td>Gujarat</td>\n",
       "    </tr>\n",
       "    <tr>\n",
       "      <th>0</th>\n",
       "      <td>NaN</td>\n",
       "      <td>NaN</td>\n",
       "      <td>Patna,Bihar</td>\n",
       "      <td>25.5941</td>\n",
       "      <td>85.1376</td>\n",
       "      <td>Bihar</td>\n",
       "    </tr>\n",
       "    <tr>\n",
       "      <th>1</th>\n",
       "      <td>NaN</td>\n",
       "      <td>NaN</td>\n",
       "      <td>Vizag,Andhra Pradesh</td>\n",
       "      <td>15.9129</td>\n",
       "      <td>79.7400</td>\n",
       "      <td>Andhra Pradesh</td>\n",
       "    </tr>\n",
       "    <tr>\n",
       "      <th>2</th>\n",
       "      <td>NaN</td>\n",
       "      <td>NaN</td>\n",
       "      <td>C,Chimborazo</td>\n",
       "      <td>1.4693</td>\n",
       "      <td>78.8169</td>\n",
       "      <td>Chimborazo</td>\n",
       "    </tr>\n",
       "  </tbody>\n",
       "</table>\n",
       "</div>"
      ],
      "text/plain": [
       "    level_0  index                Address      Lat     Long           state\n",
       "0       0.0    0.0   Kanpur,Uttar Pradesh  26.5005  80.2712   Uttar Pradesh\n",
       "1       1.0    1.0    Bengaluru,Karnataka  12.9767  77.5753       Karnataka\n",
       "2       2.0    2.0              Delhi,NCR  28.7041  77.1025             NCR\n",
       "3       3.0    3.0        Gurgaon,Haryana  28.4697  77.0426         Haryana\n",
       "4       4.0    4.0     Mumbai,Maharashtra   19.076  72.8777     Maharashtra\n",
       "5       5.0    5.0       Mysore,Karnataka  12.2958  76.6394       Karnataka\n",
       "6       6.0    6.0     Nagpur,Maharashtra  21.1458  79.0882     Maharashtra\n",
       "7       7.0    7.0    Hyderabad,Telangana   17.385  78.4867       Telangana\n",
       "8       8.0    8.0          Surat,Gujarat  21.1702  72.8311         Gujarat\n",
       "9       9.0    9.0       Pune,Maharashtra  18.5204  73.8567     Maharashtra\n",
       "10     10.0   10.0    Kolkata,West Bengal  22.5726  88.3639     West Bengal\n",
       "11     11.0   11.0  Lucknow,Uttar Pradesh  26.8467  80.9462   Uttar Pradesh\n",
       "12     12.0   12.0     Chennai,Tamil Nadu  13.0827  80.2707      Tamil Nadu\n",
       "13     13.0   13.0      Ahmedabad,Gujarat  23.0225  72.5714         Gujarat\n",
       "14     14.0   14.0  Coimbatore,Tamil Nadu  11.0168  76.9558      Tamil Nadu\n",
       "15     15.0   15.0  Indore,Madhya Pradesh  22.7196  75.8577  Madhya Pradesh\n",
       "16     16.0   16.0    Gandhinagar,Gujarat  23.2156  72.6369         Gujarat\n",
       "0       NaN    NaN            Patna,Bihar  25.5941  85.1376           Bihar\n",
       "1       NaN    NaN   Vizag,Andhra Pradesh  15.9129  79.7400  Andhra Pradesh\n",
       "2       NaN    NaN           C,Chimborazo   1.4693  78.8169      Chimborazo"
      ]
     },
     "execution_count": 25,
     "metadata": {
      "tags": []
     },
     "output_type": "execute_result"
    }
   ],
   "source": [
    "new_row=pd.DataFrame({'Address':['Patna,Bihar','Vizag,Andhra Pradesh','C,Chimborazo'],\n",
    "         'Lat':['25.5941','15.9129','1.4693'],\n",
    "         'Long':['85.1376','79.7400','78.8169'],\n",
    "         'state':['Bihar','Andhra Pradesh','Chimborazo']})\n",
    "geolocations=geolocations.append(new_row)\n",
    "#geolocations['state']=geolocations['Address'].str.split(',').str[-1]\n",
    "geolocations"
   ]
  },
  {
   "cell_type": "code",
   "execution_count": null,
   "metadata": {
    "id": "52naG-MiXZnR"
   },
   "outputs": [],
   "source": [
    "\n",
    "#geolocations.drop(geolocations.tail(6).index,axis=0,inplace=True)\n",
    "geolocations.drop(['level_0','index'],axis=1,inplace=True)\n",
    "geolocations.reset_index(inplace=True)"
   ]
  },
  {
   "cell_type": "code",
   "execution_count": null,
   "metadata": {
    "id": "d4i2ge2qSrmG"
   },
   "outputs": [],
   "source": [
    "statewise_sales=pred.groupby(['state','type','cluster'])['unit_sales'].sum().to_frame().reset_index()"
   ]
  },
  {
   "cell_type": "code",
   "execution_count": null,
   "metadata": {
    "id": "nnI-gdZMyGX1"
   },
   "outputs": [],
   "source": [
    "result=pd.merge(statewise_sales,geolocations,left_on='state',right_on='state',how='left')"
   ]
  },
  {
   "cell_type": "code",
   "execution_count": null,
   "metadata": {
    "colab": {
     "base_uri": "https://localhost:8080/"
    },
    "executionInfo": {
     "elapsed": 1053,
     "status": "ok",
     "timestamp": 1620316517318,
     "user": {
      "displayName": "mukesh kiran",
      "photoUrl": "https://lh3.googleusercontent.com/a-/AOh14GjpVg0Q2SlnyyoVNUSbxKazDjdehaPGXIEaysPDxUk=s64",
      "userId": "14410148232412860016"
     },
     "user_tz": -330
    },
    "id": "5tg_UtutyKeX",
    "outputId": "d9b524e0-ab62-4a65-a8f7-ce9a27df8616"
   },
   "outputs": [
    {
     "data": {
      "text/plain": [
       "state          object\n",
       "type           object\n",
       "cluster         int64\n",
       "unit_sales    float64\n",
       "index           int64\n",
       "Address        object\n",
       "Lat            object\n",
       "Long           object\n",
       "dtype: object"
      ]
     },
     "execution_count": 30,
     "metadata": {
      "tags": []
     },
     "output_type": "execute_result"
    }
   ],
   "source": [
    "result.dtypes"
   ]
  },
  {
   "cell_type": "code",
   "execution_count": null,
   "metadata": {
    "id": "YZphnLSbzoWE"
   },
   "outputs": [],
   "source": [
    "#result['date']=pd.to_datetime(result['date'])\n",
    "#result['locationId']=result['locationId'].astype('category')\n",
    "#result['item_id']=result['item_id'].astype('category')\n",
    "#result['city']=result['city'].astype('category')\n",
    "result['state']=result['state'].astype('category')\n",
    "result['type']=result['type'].astype('category')\n",
    "#result['category_of_item']=result['category_of_item'].astype('category')\n",
    "#result['class']=result['class'].astype('category')\n",
    "\n",
    "# geolocations['Lat']=geolocations['Lat'].astype('category')\n",
    "# geolocations['Long']=geolocations['Long'].astype('category')\n",
    "\n"
   ]
  },
  {
   "cell_type": "code",
   "execution_count": null,
   "metadata": {
    "id": "ISGLzi2LcB4z"
   },
   "outputs": [],
   "source": [
    "ss=pred[['state','unit_sales']]"
   ]
  },
  {
   "cell_type": "code",
   "execution_count": null,
   "metadata": {
    "id": "mBIjI4NSj_aL"
   },
   "outputs": [],
   "source": [
    "states['st_nm']=states['st_nm'].replace(['NCT of Delhi'],'NCR')"
   ]
  },
  {
   "cell_type": "code",
   "execution_count": null,
   "metadata": {
    "id": "nI39p7h1l9wf"
   },
   "outputs": [],
   "source": [
    "pp=ss.groupby('state')['unit_sales'].sum()"
   ]
  },
  {
   "cell_type": "code",
   "execution_count": null,
   "metadata": {
    "colab": {
     "base_uri": "https://localhost:8080/"
    },
    "executionInfo": {
     "elapsed": 3310,
     "status": "ok",
     "timestamp": 1620320296664,
     "user": {
      "displayName": "mukesh kiran",
      "photoUrl": "https://lh3.googleusercontent.com/a-/AOh14GjpVg0Q2SlnyyoVNUSbxKazDjdehaPGXIEaysPDxUk=s64",
      "userId": "14410148232412860016"
     },
     "user_tz": -330
    },
    "id": "162UQAy1nU1P",
    "outputId": "5eb4e1a0-35b5-4d28-f697-a93a71bc34ff"
   },
   "outputs": [
    {
     "data": {
      "text/plain": [
       "state\n",
       "Karnataka         5.516850e+07\n",
       "Maharashtra       1.799863e+07\n",
       "Telangana         5.872851e+06\n",
       "Uttar Pradesh     5.127379e+06\n",
       "NCR               4.546774e+06\n",
       "Haryana           4.356383e+06\n",
       "Gujarat           4.254339e+06\n",
       "Tamil Nadu        2.972850e+06\n",
       "Andhra Pradesh    2.286790e+06\n",
       "West Bengal       2.216873e+06\n",
       "Chimborazo        1.283250e+06\n",
       "Madhya Pradesh    1.235840e+06\n",
       "Bihar             1.080768e+06\n",
       "Name: unit_sales, dtype: float64"
      ]
     },
     "execution_count": 7,
     "metadata": {
      "tags": []
     },
     "output_type": "execute_result"
    }
   ],
   "source": [
    "ss.groupby('state')['unit_sales'].sum().sort_values(ascending=False)"
   ]
  },
  {
   "cell_type": "code",
   "execution_count": null,
   "metadata": {
    "id": "s3JC6P9i-9N5"
   },
   "outputs": [],
   "source": [
    "gpd_sates=pd.merge(states,pp,left_on='st_nm',right_on='state',how='left')"
   ]
  },
  {
   "cell_type": "code",
   "execution_count": null,
   "metadata": {
    "colab": {
     "base_uri": "https://localhost:8080/"
    },
    "executionInfo": {
     "elapsed": 2792,
     "status": "ok",
     "timestamp": 1620320347653,
     "user": {
      "displayName": "mukesh kiran",
      "photoUrl": "https://lh3.googleusercontent.com/a-/AOh14GjpVg0Q2SlnyyoVNUSbxKazDjdehaPGXIEaysPDxUk=s64",
      "userId": "14410148232412860016"
     },
     "user_tz": -330
    },
    "id": "e-CoEIioa2rv",
    "outputId": "88acbe0e-672d-464b-8ce6-36f592572ad5"
   },
   "outputs": [
    {
     "data": {
      "text/plain": [
       "st_nm\n",
       "Karnataka                   5.516850e+07\n",
       "Maharashtra                 1.799863e+07\n",
       "Telangana                   5.872851e+06\n",
       "Uttar Pradesh               5.127379e+06\n",
       "NCR                         4.546774e+06\n",
       "Haryana                     4.356383e+06\n",
       "Gujarat                     4.254339e+06\n",
       "Tamil Nadu                  2.972850e+06\n",
       "Andhra Pradesh              2.286790e+06\n",
       "West Bengal                 2.216873e+06\n",
       "Madhya Pradesh              1.235840e+06\n",
       "Bihar                       1.080768e+06\n",
       "Jammu & Kashmir             0.000000e+00\n",
       "Dadara & Nagar Havelli      0.000000e+00\n",
       "Chandigarh                  0.000000e+00\n",
       "Daman & Diu                 0.000000e+00\n",
       "Goa                         0.000000e+00\n",
       "Assam                       0.000000e+00\n",
       "Arunanchal Pradesh          0.000000e+00\n",
       "Himachal Pradesh            0.000000e+00\n",
       "Chhattisgarh                0.000000e+00\n",
       "Lakshadweep                 0.000000e+00\n",
       "Jharkhand                   0.000000e+00\n",
       "Kerala                      0.000000e+00\n",
       "Uttarakhand                 0.000000e+00\n",
       "Manipur                     0.000000e+00\n",
       "Meghalaya                   0.000000e+00\n",
       "Mizoram                     0.000000e+00\n",
       "Nagaland                    0.000000e+00\n",
       "Odisha                      0.000000e+00\n",
       "Puducherry                  0.000000e+00\n",
       "Punjab                      0.000000e+00\n",
       "Rajasthan                   0.000000e+00\n",
       "Sikkim                      0.000000e+00\n",
       "Tripura                     0.000000e+00\n",
       "Andaman & Nicobar Island    0.000000e+00\n",
       "Name: unit_sales, dtype: float64"
      ]
     },
     "execution_count": 10,
     "metadata": {
      "tags": []
     },
     "output_type": "execute_result"
    }
   ],
   "source": [
    "gpd_sates.groupby('st_nm')['unit_sales'].sum().sort_values(ascending=False)"
   ]
  },
  {
   "cell_type": "code",
   "execution_count": null,
   "metadata": {
    "id": "SNzLormy0Peq"
   },
   "outputs": [],
   "source": [
    "#result.drop('Address',axis=1,inplace=True)\n",
    "gpd_sates.drop(['st_nm','tid','territory_','index'],axis=1,inplace=True)"
   ]
  },
  {
   "cell_type": "code",
   "execution_count": null,
   "metadata": {
    "colab": {
     "base_uri": "https://localhost:8080/"
    },
    "executionInfo": {
     "elapsed": 787,
     "status": "ok",
     "timestamp": 1620317188976,
     "user": {
      "displayName": "mukesh kiran",
      "photoUrl": "https://lh3.googleusercontent.com/a-/AOh14GjpVg0Q2SlnyyoVNUSbxKazDjdehaPGXIEaysPDxUk=s64",
      "userId": "14410148232412860016"
     },
     "user_tz": -330
    },
    "id": "gofmlBcDbd3p",
    "outputId": "f4a6ff9e-12ea-4bb1-ff73-329dce35eac4"
   },
   "outputs": [
    {
     "data": {
      "text/plain": [
       "state           object\n",
       "type          category\n",
       "cluster          int64\n",
       "unit_sales     float64\n",
       "Address         object\n",
       "Lat            float32\n",
       "Long           float32\n",
       "point         geometry\n",
       "gid            float64\n",
       "geometry      geometry\n",
       "dtype: object"
      ]
     },
     "execution_count": 57,
     "metadata": {
      "tags": []
     },
     "output_type": "execute_result"
    }
   ],
   "source": [
    "gpd_sates.dtypes"
   ]
  },
  {
   "cell_type": "code",
   "execution_count": null,
   "metadata": {
    "id": "otDCfRHZIdbN"
   },
   "outputs": [],
   "source": [
    "result['Lat']=result['Lat'].astype('float32')\n",
    "result['Long']=result['Long'].astype('float32')"
   ]
  },
  {
   "cell_type": "code",
   "execution_count": null,
   "metadata": {
    "id": "CUQnO2O2TeiL"
   },
   "outputs": [],
   "source": [
    "result['point']=list(zip(result['Long'],result['Lat']))"
   ]
  },
  {
   "cell_type": "code",
   "execution_count": null,
   "metadata": {
    "colab": {
     "base_uri": "https://localhost:8080/"
    },
    "executionInfo": {
     "elapsed": 1203,
     "status": "ok",
     "timestamp": 1620312274151,
     "user": {
      "displayName": "mukesh kiran",
      "photoUrl": "https://lh3.googleusercontent.com/a-/AOh14GjpVg0Q2SlnyyoVNUSbxKazDjdehaPGXIEaysPDxUk=s64",
      "userId": "14410148232412860016"
     },
     "user_tz": -330
    },
    "id": "2h0auWSQIk72",
    "outputId": "eb62d49b-1304-45bf-a5e6-3c110530750f"
   },
   "outputs": [
    {
     "data": {
      "text/plain": [
       "0           (26.500490000000003, 80.271233)\n",
       "1                        (26.8467, 80.9462)\n",
       "2           (26.500490000000003, 80.271233)\n",
       "3                        (26.8467, 80.9462)\n",
       "4           (26.500490000000003, 80.271233)\n",
       "                         ...               \n",
       "46892030                 (25.5941, 85.1376)\n",
       "46892031                 (25.5941, 85.1376)\n",
       "46892032                 (25.5941, 85.1376)\n",
       "46892033                 (25.5941, 85.1376)\n",
       "46892034                 (25.5941, 85.1376)\n",
       "Name: point, Length: 46892035, dtype: object"
      ]
     },
     "execution_count": 23,
     "metadata": {
      "tags": []
     },
     "output_type": "execute_result"
    }
   ],
   "source": [
    "result['point']"
   ]
  },
  {
   "cell_type": "code",
   "execution_count": null,
   "metadata": {
    "colab": {
     "base_uri": "https://localhost:8080/"
    },
    "executionInfo": {
     "elapsed": 4208,
     "status": "ok",
     "timestamp": 1620313293130,
     "user": {
      "displayName": "mukesh kiran",
      "photoUrl": "https://lh3.googleusercontent.com/a-/AOh14GjpVg0Q2SlnyyoVNUSbxKazDjdehaPGXIEaysPDxUk=s64",
      "userId": "14410148232412860016"
     },
     "user_tz": -330
    },
    "id": "zgsw5LhCTonr",
    "outputId": "d7fe8928-a144-4561-ad59-90b54daa26a9"
   },
   "outputs": [
    {
     "name": "stdout",
     "output_type": "stream",
     "text": [
      "Requirement already satisfied: shapely in /usr/local/lib/python3.7/dist-packages (1.7.1)\n"
     ]
    }
   ],
   "source": [
    "!pip install shapely"
   ]
  },
  {
   "cell_type": "code",
   "execution_count": null,
   "metadata": {
    "id": "Mf3Rh7CpGyDr"
   },
   "outputs": [],
   "source": [
    "from shapely.geometry import Point"
   ]
  },
  {
   "cell_type": "code",
   "execution_count": null,
   "metadata": {
    "id": "4kPhG2AMT-ke"
   },
   "outputs": [],
   "source": [
    "result['point']=result['point'].apply(Point)"
   ]
  },
  {
   "cell_type": "code",
   "execution_count": null,
   "metadata": {
    "id": "l4GJLf5gop4M"
   },
   "outputs": [],
   "source": [
    "result.drop(['date','city'],axis=1,inplace=True)"
   ]
  },
  {
   "cell_type": "code",
   "execution_count": null,
   "metadata": {
    "id": "j7RZCCbVAA9T"
   },
   "outputs": [],
   "source": [
    "sales_gpd=gpd.GeoDataFrame(result,geometry='point')"
   ]
  },
  {
   "cell_type": "code",
   "execution_count": null,
   "metadata": {
    "colab": {
     "base_uri": "https://localhost:8080/",
     "height": 204
    },
    "executionInfo": {
     "elapsed": 829,
     "status": "ok",
     "timestamp": 1620314043187,
     "user": {
      "displayName": "mukesh kiran",
      "photoUrl": "https://lh3.googleusercontent.com/a-/AOh14GjpVg0Q2SlnyyoVNUSbxKazDjdehaPGXIEaysPDxUk=s64",
      "userId": "14410148232412860016"
     },
     "user_tz": -330
    },
    "id": "UjRJ40MkOsk8",
    "outputId": "66289bdd-7e0b-442b-9c4c-5408ed108448"
   },
   "outputs": [
    {
     "data": {
      "text/html": [
       "<div>\n",
       "<style scoped>\n",
       "    .dataframe tbody tr th:only-of-type {\n",
       "        vertical-align: middle;\n",
       "    }\n",
       "\n",
       "    .dataframe tbody tr th {\n",
       "        vertical-align: top;\n",
       "    }\n",
       "\n",
       "    .dataframe thead th {\n",
       "        text-align: right;\n",
       "    }\n",
       "</style>\n",
       "<table border=\"1\" class=\"dataframe\">\n",
       "  <thead>\n",
       "    <tr style=\"text-align: right;\">\n",
       "      <th></th>\n",
       "      <th>item_id</th>\n",
       "      <th>city</th>\n",
       "      <th>state</th>\n",
       "      <th>type</th>\n",
       "      <th>cluster</th>\n",
       "      <th>category_of_item</th>\n",
       "      <th>unit_sales</th>\n",
       "      <th>Lat</th>\n",
       "      <th>Long</th>\n",
       "      <th>point</th>\n",
       "    </tr>\n",
       "  </thead>\n",
       "  <tbody>\n",
       "    <tr>\n",
       "      <th>0</th>\n",
       "      <td>item_99197</td>\n",
       "      <td>Kanpur</td>\n",
       "      <td>Uttar Pradesh</td>\n",
       "      <td>D</td>\n",
       "      <td>1</td>\n",
       "      <td>grocery_items</td>\n",
       "      <td>1.999582</td>\n",
       "      <td>26.500490</td>\n",
       "      <td>80.271233</td>\n",
       "      <td>POINT (26.50049 80.27123)</td>\n",
       "    </tr>\n",
       "    <tr>\n",
       "      <th>1</th>\n",
       "      <td>item_99197</td>\n",
       "      <td>Kanpur</td>\n",
       "      <td>Uttar Pradesh</td>\n",
       "      <td>D</td>\n",
       "      <td>1</td>\n",
       "      <td>grocery_items</td>\n",
       "      <td>1.999582</td>\n",
       "      <td>26.846701</td>\n",
       "      <td>80.946198</td>\n",
       "      <td>POINT (26.84670 80.94620)</td>\n",
       "    </tr>\n",
       "    <tr>\n",
       "      <th>2</th>\n",
       "      <td>item_103665</td>\n",
       "      <td>Kanpur</td>\n",
       "      <td>Uttar Pradesh</td>\n",
       "      <td>D</td>\n",
       "      <td>1</td>\n",
       "      <td>baked_items / bread_based</td>\n",
       "      <td>2.204405</td>\n",
       "      <td>26.500490</td>\n",
       "      <td>80.271233</td>\n",
       "      <td>POINT (26.50049 80.27123)</td>\n",
       "    </tr>\n",
       "    <tr>\n",
       "      <th>3</th>\n",
       "      <td>item_103665</td>\n",
       "      <td>Kanpur</td>\n",
       "      <td>Uttar Pradesh</td>\n",
       "      <td>D</td>\n",
       "      <td>1</td>\n",
       "      <td>baked_items / bread_based</td>\n",
       "      <td>2.204405</td>\n",
       "      <td>26.846701</td>\n",
       "      <td>80.946198</td>\n",
       "      <td>POINT (26.84670 80.94620)</td>\n",
       "    </tr>\n",
       "    <tr>\n",
       "      <th>4</th>\n",
       "      <td>item_105574</td>\n",
       "      <td>Kanpur</td>\n",
       "      <td>Uttar Pradesh</td>\n",
       "      <td>D</td>\n",
       "      <td>1</td>\n",
       "      <td>grocery_items</td>\n",
       "      <td>6.419739</td>\n",
       "      <td>26.500490</td>\n",
       "      <td>80.271233</td>\n",
       "      <td>POINT (26.50049 80.27123)</td>\n",
       "    </tr>\n",
       "  </tbody>\n",
       "</table>\n",
       "</div>"
      ],
      "text/plain": [
       "       item_id    city  ...       Long                      point\n",
       "0   item_99197  Kanpur  ...  80.271233  POINT (26.50049 80.27123)\n",
       "1   item_99197  Kanpur  ...  80.946198  POINT (26.84670 80.94620)\n",
       "2  item_103665  Kanpur  ...  80.271233  POINT (26.50049 80.27123)\n",
       "3  item_103665  Kanpur  ...  80.946198  POINT (26.84670 80.94620)\n",
       "4  item_105574  Kanpur  ...  80.271233  POINT (26.50049 80.27123)\n",
       "\n",
       "[5 rows x 10 columns]"
      ]
     },
     "execution_count": 28,
     "metadata": {
      "tags": []
     },
     "output_type": "execute_result"
    }
   ],
   "source": [
    "sales_gpd.head()"
   ]
  },
  {
   "cell_type": "code",
   "execution_count": null,
   "metadata": {
    "colab": {
     "base_uri": "https://localhost:8080/"
    },
    "executionInfo": {
     "elapsed": 4660,
     "status": "ok",
     "timestamp": 1620314480764,
     "user": {
      "displayName": "mukesh kiran",
      "photoUrl": "https://lh3.googleusercontent.com/a-/AOh14GjpVg0Q2SlnyyoVNUSbxKazDjdehaPGXIEaysPDxUk=s64",
      "userId": "14410148232412860016"
     },
     "user_tz": -330
    },
    "id": "WW-da6cWRJhQ",
    "outputId": "b5c660ab-4c83-4ecc-d529-9b40fc2b692a"
   },
   "outputs": [
    {
     "name": "stdout",
     "output_type": "stream",
     "text": [
      "Collecting mapclassify\n",
      "  Downloading https://files.pythonhosted.org/packages/22/8e/d968c0945d41bb02de0efaa92e31e43a817dc52d30e82b4dfdda407a1903/mapclassify-2.4.2-py3-none-any.whl\n",
      "Requirement already satisfied: numpy>=1.3 in /usr/local/lib/python3.7/dist-packages (from mapclassify) (1.19.5)\n",
      "Requirement already satisfied: pandas>=1.0 in /usr/local/lib/python3.7/dist-packages (from mapclassify) (1.1.5)\n",
      "Requirement already satisfied: scikit-learn in /usr/local/lib/python3.7/dist-packages (from mapclassify) (0.22.2.post1)\n",
      "Requirement already satisfied: scipy>=1.0 in /usr/local/lib/python3.7/dist-packages (from mapclassify) (1.4.1)\n",
      "Requirement already satisfied: networkx in /usr/local/lib/python3.7/dist-packages (from mapclassify) (2.5.1)\n",
      "Requirement already satisfied: python-dateutil>=2.7.3 in /usr/local/lib/python3.7/dist-packages (from pandas>=1.0->mapclassify) (2.8.1)\n",
      "Requirement already satisfied: pytz>=2017.2 in /usr/local/lib/python3.7/dist-packages (from pandas>=1.0->mapclassify) (2018.9)\n",
      "Requirement already satisfied: joblib>=0.11 in /usr/local/lib/python3.7/dist-packages (from scikit-learn->mapclassify) (1.0.1)\n",
      "Requirement already satisfied: decorator<5,>=4.3 in /usr/local/lib/python3.7/dist-packages (from networkx->mapclassify) (4.4.2)\n",
      "Requirement already satisfied: six>=1.5 in /usr/local/lib/python3.7/dist-packages (from python-dateutil>=2.7.3->pandas>=1.0->mapclassify) (1.15.0)\n",
      "Installing collected packages: mapclassify\n",
      "Successfully installed mapclassify-2.4.2\n"
     ]
    }
   ],
   "source": [
    "!pip install mapclassify"
   ]
  },
  {
   "cell_type": "code",
   "execution_count": null,
   "metadata": {
    "colab": {
     "base_uri": "https://localhost:8080/",
     "height": 643
    },
    "executionInfo": {
     "elapsed": 2123,
     "status": "ok",
     "timestamp": 1620316782846,
     "user": {
      "displayName": "mukesh kiran",
      "photoUrl": "https://lh3.googleusercontent.com/a-/AOh14GjpVg0Q2SlnyyoVNUSbxKazDjdehaPGXIEaysPDxUk=s64",
      "userId": "14410148232412860016"
     },
     "user_tz": -330
    },
    "id": "ft8bEDO8O1f8",
    "outputId": "4b240c5d-b879-42dc-da53-5ca06ef2d7b3"
   },
   "outputs": [
    {
     "name": "stderr",
     "output_type": "stream",
     "text": [
      "/usr/local/lib/python3.7/dist-packages/geopandas/plotting.py:642: UserWarning: Only specify one of 'column' or 'color'. Using 'color'.\n",
      "  \"Only specify one of 'column' or 'color'. Using 'color'.\", UserWarning\n"
     ]
    },
    {
     "data": {
      "text/plain": [
       "<matplotlib.axes._subplots.AxesSubplot at 0x7f4403ac3890>"
      ]
     },
     "execution_count": 48,
     "metadata": {
      "tags": []
     },
     "output_type": "execute_result"
    },
    {
     "data": {
      "image/png": "[encoded data removed]",
      "text/plain": [
       "<Figure size 1440x720 with 1 Axes>"
      ]
     },
     "metadata": {
      "needs_background": "light",
      "tags": []
     },
     "output_type": "display_data"
    }
   ],
   "source": [
    "import mapclassify as mc\n",
    "import matplotlib.pyplot as plt\n",
    "\n",
    "ax=states.plot(edgecolor='k',facecolor='none',figsize=(20,10))\n",
    "sales_gpd.plot(column='unit_sales',ax=ax,color='red')"
   ]
  },
  {
   "cell_type": "code",
   "execution_count": null,
   "metadata": {
    "colab": {
     "base_uri": "https://localhost:8080/"
    },
    "executionInfo": {
     "elapsed": 3007,
     "status": "ok",
     "timestamp": 1620318744906,
     "user": {
      "displayName": "mukesh kiran",
      "photoUrl": "https://lh3.googleusercontent.com/a-/AOh14GjpVg0Q2SlnyyoVNUSbxKazDjdehaPGXIEaysPDxUk=s64",
      "userId": "14410148232412860016"
     },
     "user_tz": -330
    },
    "id": "hcDRkGVTes43",
    "outputId": "41ab1c4e-32aa-49e3-e332-4e49d46bc2c0"
   },
   "outputs": [
    {
     "data": {
      "text/plain": [
       "state\n",
       "Karnataka         5.516850e+07\n",
       "Maharashtra       1.799863e+07\n",
       "Telangana         5.872851e+06\n",
       "Uttar Pradesh     5.127379e+06\n",
       "NCR               4.546774e+06\n",
       "Haryana           4.356383e+06\n",
       "Gujarat           4.254339e+06\n",
       "Tamil Nadu        2.972850e+06\n",
       "Andhra Pradesh    2.286790e+06\n",
       "West Bengal       2.216873e+06\n",
       "Chimborazo        1.283250e+06\n",
       "Madhya Pradesh    1.235840e+06\n",
       "Bihar             1.080768e+06\n",
       "Name: unit_sales, dtype: float64"
      ]
     },
     "execution_count": 91,
     "metadata": {
      "tags": []
     },
     "output_type": "execute_result"
    }
   ],
   "source": [
    "pred.groupby('state')['unit_sales'].sum().sort_values(ascending=False)"
   ]
  },
  {
   "cell_type": "code",
   "execution_count": null,
   "metadata": {
    "colab": {
     "base_uri": "https://localhost:8080/",
     "height": 1000
    },
    "executionInfo": {
     "elapsed": 3855,
     "status": "ok",
     "timestamp": 1620321189482,
     "user": {
      "displayName": "mukesh kiran",
      "photoUrl": "https://lh3.googleusercontent.com/a-/AOh14GjpVg0Q2SlnyyoVNUSbxKazDjdehaPGXIEaysPDxUk=s64",
      "userId": "14410148232412860016"
     },
     "user_tz": -330
    },
    "id": "AWYjW_Ggiiiu",
    "outputId": "8b3274af-1962-4b6c-85df-4289d4da1317"
   },
   "outputs": [
    {
     "data": {
      "text/html": [
       "<div>\n",
       "<style scoped>\n",
       "    .dataframe tbody tr th:only-of-type {\n",
       "        vertical-align: middle;\n",
       "    }\n",
       "\n",
       "    .dataframe tbody tr th {\n",
       "        vertical-align: top;\n",
       "    }\n",
       "\n",
       "    .dataframe thead th {\n",
       "        text-align: right;\n",
       "    }\n",
       "</style>\n",
       "<table border=\"1\" class=\"dataframe\">\n",
       "  <thead>\n",
       "    <tr style=\"text-align: right;\">\n",
       "      <th></th>\n",
       "      <th>gid</th>\n",
       "      <th>st_nm</th>\n",
       "      <th>tid</th>\n",
       "      <th>territory_</th>\n",
       "      <th>geometry</th>\n",
       "      <th>unit_sales</th>\n",
       "      <th>sales_category</th>\n",
       "    </tr>\n",
       "  </thead>\n",
       "  <tbody>\n",
       "    <tr>\n",
       "      <th>0</th>\n",
       "      <td>1</td>\n",
       "      <td>Andaman &amp; Nicobar Island</td>\n",
       "      <td>None</td>\n",
       "      <td>None</td>\n",
       "      <td>MULTIPOLYGON (((93.71976 7.20707, 93.71909 7.2...</td>\n",
       "      <td>0.000000e+00</td>\n",
       "      <td>Zero sales</td>\n",
       "    </tr>\n",
       "    <tr>\n",
       "      <th>1</th>\n",
       "      <td>2</td>\n",
       "      <td>Arunanchal Pradesh</td>\n",
       "      <td>None</td>\n",
       "      <td>None</td>\n",
       "      <td>POLYGON ((96.16261 29.38078, 96.16860 29.37432...</td>\n",
       "      <td>0.000000e+00</td>\n",
       "      <td>Zero sales</td>\n",
       "    </tr>\n",
       "    <tr>\n",
       "      <th>2</th>\n",
       "      <td>3</td>\n",
       "      <td>Assam</td>\n",
       "      <td>None</td>\n",
       "      <td>None</td>\n",
       "      <td>MULTIPOLYGON (((89.74323 26.30362, 89.74290 26...</td>\n",
       "      <td>0.000000e+00</td>\n",
       "      <td>Zero sales</td>\n",
       "    </tr>\n",
       "    <tr>\n",
       "      <th>3</th>\n",
       "      <td>4</td>\n",
       "      <td>Bihar</td>\n",
       "      <td>None</td>\n",
       "      <td>None</td>\n",
       "      <td>MULTIPOLYGON (((84.50720 24.26323, 84.50355 24...</td>\n",
       "      <td>1.080768e+06</td>\n",
       "      <td>Low sales</td>\n",
       "    </tr>\n",
       "    <tr>\n",
       "      <th>4</th>\n",
       "      <td>5</td>\n",
       "      <td>Chandigarh</td>\n",
       "      <td>None</td>\n",
       "      <td>None</td>\n",
       "      <td>POLYGON ((76.84147 30.75996, 76.83599 30.73623...</td>\n",
       "      <td>0.000000e+00</td>\n",
       "      <td>Zero sales</td>\n",
       "    </tr>\n",
       "    <tr>\n",
       "      <th>5</th>\n",
       "      <td>6</td>\n",
       "      <td>Chhattisgarh</td>\n",
       "      <td>None</td>\n",
       "      <td>None</td>\n",
       "      <td>POLYGON ((83.33532 24.09885, 83.35346 24.09627...</td>\n",
       "      <td>0.000000e+00</td>\n",
       "      <td>Zero sales</td>\n",
       "    </tr>\n",
       "    <tr>\n",
       "      <th>6</th>\n",
       "      <td>7</td>\n",
       "      <td>Dadara &amp; Nagar Havelli</td>\n",
       "      <td>None</td>\n",
       "      <td>None</td>\n",
       "      <td>POLYGON ((73.20657 20.12216, 73.20797 20.10650...</td>\n",
       "      <td>0.000000e+00</td>\n",
       "      <td>Zero sales</td>\n",
       "    </tr>\n",
       "    <tr>\n",
       "      <th>7</th>\n",
       "      <td>8</td>\n",
       "      <td>Daman &amp; Diu</td>\n",
       "      <td>None</td>\n",
       "      <td>None</td>\n",
       "      <td>MULTIPOLYGON (((72.89335 20.44539, 72.89281 20...</td>\n",
       "      <td>0.000000e+00</td>\n",
       "      <td>Zero sales</td>\n",
       "    </tr>\n",
       "    <tr>\n",
       "      <th>8</th>\n",
       "      <td>9</td>\n",
       "      <td>Goa</td>\n",
       "      <td>None</td>\n",
       "      <td>None</td>\n",
       "      <td>MULTIPOLYGON (((74.11918 14.75344, 74.11350 14...</td>\n",
       "      <td>0.000000e+00</td>\n",
       "      <td>Zero sales</td>\n",
       "    </tr>\n",
       "    <tr>\n",
       "      <th>9</th>\n",
       "      <td>10</td>\n",
       "      <td>Gujarat</td>\n",
       "      <td>None</td>\n",
       "      <td>None</td>\n",
       "      <td>MULTIPOLYGON (((71.70375 20.99958, 71.70375 20...</td>\n",
       "      <td>4.254339e+06</td>\n",
       "      <td>Medium sales</td>\n",
       "    </tr>\n",
       "    <tr>\n",
       "      <th>10</th>\n",
       "      <td>11</td>\n",
       "      <td>Haryana</td>\n",
       "      <td>None</td>\n",
       "      <td>None</td>\n",
       "      <td>POLYGON ((76.85065 30.87512, 76.86594 30.86691...</td>\n",
       "      <td>4.356383e+06</td>\n",
       "      <td>Medium sales</td>\n",
       "    </tr>\n",
       "    <tr>\n",
       "      <th>11</th>\n",
       "      <td>12</td>\n",
       "      <td>Himachal Pradesh</td>\n",
       "      <td>None</td>\n",
       "      <td>None</td>\n",
       "      <td>POLYGON ((76.79634 33.25490, 76.80351 33.25275...</td>\n",
       "      <td>0.000000e+00</td>\n",
       "      <td>Zero sales</td>\n",
       "    </tr>\n",
       "    <tr>\n",
       "      <th>12</th>\n",
       "      <td>13</td>\n",
       "      <td>Jammu &amp; Kashmir</td>\n",
       "      <td>None</td>\n",
       "      <td>None</td>\n",
       "      <td>POLYGON ((74.73451 37.02068, 74.73647 37.01937...</td>\n",
       "      <td>0.000000e+00</td>\n",
       "      <td>Zero sales</td>\n",
       "    </tr>\n",
       "    <tr>\n",
       "      <th>13</th>\n",
       "      <td>14</td>\n",
       "      <td>Jharkhand</td>\n",
       "      <td>None</td>\n",
       "      <td>None</td>\n",
       "      <td>POLYGON ((87.60582 25.31512, 87.61279 25.31184...</td>\n",
       "      <td>0.000000e+00</td>\n",
       "      <td>Zero sales</td>\n",
       "    </tr>\n",
       "    <tr>\n",
       "      <th>14</th>\n",
       "      <td>15</td>\n",
       "      <td>Karnataka</td>\n",
       "      <td>None</td>\n",
       "      <td>None</td>\n",
       "      <td>MULTIPOLYGON (((74.69694 13.32782, 74.69562 13...</td>\n",
       "      <td>5.516850e+07</td>\n",
       "      <td>High sales</td>\n",
       "    </tr>\n",
       "    <tr>\n",
       "      <th>15</th>\n",
       "      <td>16</td>\n",
       "      <td>Kerala</td>\n",
       "      <td>None</td>\n",
       "      <td>None</td>\n",
       "      <td>POLYGON ((74.99575 12.79227, 75.00006 12.78777...</td>\n",
       "      <td>0.000000e+00</td>\n",
       "      <td>Zero sales</td>\n",
       "    </tr>\n",
       "    <tr>\n",
       "      <th>16</th>\n",
       "      <td>17</td>\n",
       "      <td>Lakshadweep</td>\n",
       "      <td>None</td>\n",
       "      <td>None</td>\n",
       "      <td>MULTIPOLYGON (((74.10131 11.20431, 74.09908 11...</td>\n",
       "      <td>0.000000e+00</td>\n",
       "      <td>Zero sales</td>\n",
       "    </tr>\n",
       "    <tr>\n",
       "      <th>17</th>\n",
       "      <td>18</td>\n",
       "      <td>Madhya Pradesh</td>\n",
       "      <td>None</td>\n",
       "      <td>None</td>\n",
       "      <td>MULTIPOLYGON (((74.17932 22.39059, 74.17776 22...</td>\n",
       "      <td>1.235840e+06</td>\n",
       "      <td>Low sales</td>\n",
       "    </tr>\n",
       "    <tr>\n",
       "      <th>18</th>\n",
       "      <td>19</td>\n",
       "      <td>Maharashtra</td>\n",
       "      <td>None</td>\n",
       "      <td>None</td>\n",
       "      <td>MULTIPOLYGON (((73.46270 16.03710, 73.46178 16...</td>\n",
       "      <td>1.799863e+07</td>\n",
       "      <td>High sales</td>\n",
       "    </tr>\n",
       "    <tr>\n",
       "      <th>19</th>\n",
       "      <td>20</td>\n",
       "      <td>Manipur</td>\n",
       "      <td>None</td>\n",
       "      <td>None</td>\n",
       "      <td>POLYGON ((94.57602 25.64221, 94.57487 25.63858...</td>\n",
       "      <td>0.000000e+00</td>\n",
       "      <td>Zero sales</td>\n",
       "    </tr>\n",
       "    <tr>\n",
       "      <th>20</th>\n",
       "      <td>21</td>\n",
       "      <td>Meghalaya</td>\n",
       "      <td>None</td>\n",
       "      <td>None</td>\n",
       "      <td>POLYGON ((91.85632 26.10353, 91.86717 26.09906...</td>\n",
       "      <td>0.000000e+00</td>\n",
       "      <td>Zero sales</td>\n",
       "    </tr>\n",
       "    <tr>\n",
       "      <th>21</th>\n",
       "      <td>22</td>\n",
       "      <td>Mizoram</td>\n",
       "      <td>None</td>\n",
       "      <td>None</td>\n",
       "      <td>POLYGON ((92.80022 24.41630, 92.80310 24.41603...</td>\n",
       "      <td>0.000000e+00</td>\n",
       "      <td>Zero sales</td>\n",
       "    </tr>\n",
       "    <tr>\n",
       "      <th>22</th>\n",
       "      <td>23</td>\n",
       "      <td>Nagaland</td>\n",
       "      <td>None</td>\n",
       "      <td>None</td>\n",
       "      <td>POLYGON ((95.21458 26.93095, 95.21719 26.92818...</td>\n",
       "      <td>0.000000e+00</td>\n",
       "      <td>Zero sales</td>\n",
       "    </tr>\n",
       "    <tr>\n",
       "      <th>23</th>\n",
       "      <td>24</td>\n",
       "      <td>NCR</td>\n",
       "      <td>None</td>\n",
       "      <td>None</td>\n",
       "      <td>POLYGON ((77.09361 28.86940, 77.10973 28.86722...</td>\n",
       "      <td>4.546774e+06</td>\n",
       "      <td>High sales</td>\n",
       "    </tr>\n",
       "    <tr>\n",
       "      <th>24</th>\n",
       "      <td>25</td>\n",
       "      <td>Puducherry</td>\n",
       "      <td>None</td>\n",
       "      <td>None</td>\n",
       "      <td>MULTIPOLYGON (((79.76528 10.99681, 79.76963 10...</td>\n",
       "      <td>0.000000e+00</td>\n",
       "      <td>Zero sales</td>\n",
       "    </tr>\n",
       "    <tr>\n",
       "      <th>25</th>\n",
       "      <td>26</td>\n",
       "      <td>Punjab</td>\n",
       "      <td>None</td>\n",
       "      <td>None</td>\n",
       "      <td>POLYGON ((75.88469 32.48841, 75.90303 32.47169...</td>\n",
       "      <td>0.000000e+00</td>\n",
       "      <td>Zero sales</td>\n",
       "    </tr>\n",
       "    <tr>\n",
       "      <th>26</th>\n",
       "      <td>27</td>\n",
       "      <td>Rajasthan</td>\n",
       "      <td>None</td>\n",
       "      <td>None</td>\n",
       "      <td>POLYGON ((73.89849 29.97896, 73.90021 29.97140...</td>\n",
       "      <td>0.000000e+00</td>\n",
       "      <td>Zero sales</td>\n",
       "    </tr>\n",
       "    <tr>\n",
       "      <th>27</th>\n",
       "      <td>28</td>\n",
       "      <td>Sikkim</td>\n",
       "      <td>None</td>\n",
       "      <td>None</td>\n",
       "      <td>POLYGON ((88.65381 28.09883, 88.66265 28.08956...</td>\n",
       "      <td>0.000000e+00</td>\n",
       "      <td>Zero sales</td>\n",
       "    </tr>\n",
       "    <tr>\n",
       "      <th>28</th>\n",
       "      <td>29</td>\n",
       "      <td>Tamil Nadu</td>\n",
       "      <td>None</td>\n",
       "      <td>None</td>\n",
       "      <td>MULTIPOLYGON (((78.19188 8.72730, 78.18996 8.7...</td>\n",
       "      <td>2.972850e+06</td>\n",
       "      <td>Medium sales</td>\n",
       "    </tr>\n",
       "    <tr>\n",
       "      <th>29</th>\n",
       "      <td>30</td>\n",
       "      <td>Telangana</td>\n",
       "      <td>None</td>\n",
       "      <td>None</td>\n",
       "      <td>POLYGON ((81.05614 17.79097, 81.05834 17.75464...</td>\n",
       "      <td>5.872851e+06</td>\n",
       "      <td>High sales</td>\n",
       "    </tr>\n",
       "    <tr>\n",
       "      <th>30</th>\n",
       "      <td>31</td>\n",
       "      <td>Tripura</td>\n",
       "      <td>None</td>\n",
       "      <td>None</td>\n",
       "      <td>POLYGON ((92.22108 24.50131, 92.22771 24.49862...</td>\n",
       "      <td>0.000000e+00</td>\n",
       "      <td>Zero sales</td>\n",
       "    </tr>\n",
       "    <tr>\n",
       "      <th>31</th>\n",
       "      <td>32</td>\n",
       "      <td>Uttar Pradesh</td>\n",
       "      <td>None</td>\n",
       "      <td>None</td>\n",
       "      <td>MULTIPOLYGON (((80.44802 24.99631, 80.44080 24...</td>\n",
       "      <td>5.127379e+06</td>\n",
       "      <td>High sales</td>\n",
       "    </tr>\n",
       "    <tr>\n",
       "      <th>32</th>\n",
       "      <td>33</td>\n",
       "      <td>Uttarakhand</td>\n",
       "      <td>None</td>\n",
       "      <td>None</td>\n",
       "      <td>POLYGON ((79.21047 31.34846, 79.21386 31.34680...</td>\n",
       "      <td>0.000000e+00</td>\n",
       "      <td>Zero sales</td>\n",
       "    </tr>\n",
       "    <tr>\n",
       "      <th>33</th>\n",
       "      <td>34</td>\n",
       "      <td>West Bengal</td>\n",
       "      <td>None</td>\n",
       "      <td>None</td>\n",
       "      <td>MULTIPOLYGON (((88.01861 21.57278, 88.01889 21...</td>\n",
       "      <td>2.216873e+06</td>\n",
       "      <td>Low sales</td>\n",
       "    </tr>\n",
       "    <tr>\n",
       "      <th>34</th>\n",
       "      <td>35</td>\n",
       "      <td>Odisha</td>\n",
       "      <td>None</td>\n",
       "      <td>None</td>\n",
       "      <td>MULTIPOLYGON (((86.38937 19.96351, 86.38840 19...</td>\n",
       "      <td>0.000000e+00</td>\n",
       "      <td>Zero sales</td>\n",
       "    </tr>\n",
       "    <tr>\n",
       "      <th>35</th>\n",
       "      <td>36</td>\n",
       "      <td>Andhra Pradesh</td>\n",
       "      <td>None</td>\n",
       "      <td>None</td>\n",
       "      <td>MULTIPOLYGON (((81.10380 17.82269, 81.10610 17...</td>\n",
       "      <td>2.286790e+06</td>\n",
       "      <td>Low sales</td>\n",
       "    </tr>\n",
       "  </tbody>\n",
       "</table>\n",
       "</div>"
      ],
      "text/plain": [
       "    gid                     st_nm  ...    unit_sales sales_category\n",
       "0     1  Andaman & Nicobar Island  ...  0.000000e+00     Zero sales\n",
       "1     2        Arunanchal Pradesh  ...  0.000000e+00     Zero sales\n",
       "2     3                     Assam  ...  0.000000e+00     Zero sales\n",
       "3     4                     Bihar  ...  1.080768e+06      Low sales\n",
       "4     5                Chandigarh  ...  0.000000e+00     Zero sales\n",
       "5     6              Chhattisgarh  ...  0.000000e+00     Zero sales\n",
       "6     7    Dadara & Nagar Havelli  ...  0.000000e+00     Zero sales\n",
       "7     8               Daman & Diu  ...  0.000000e+00     Zero sales\n",
       "8     9                       Goa  ...  0.000000e+00     Zero sales\n",
       "9    10                   Gujarat  ...  4.254339e+06   Medium sales\n",
       "10   11                   Haryana  ...  4.356383e+06   Medium sales\n",
       "11   12          Himachal Pradesh  ...  0.000000e+00     Zero sales\n",
       "12   13           Jammu & Kashmir  ...  0.000000e+00     Zero sales\n",
       "13   14                 Jharkhand  ...  0.000000e+00     Zero sales\n",
       "14   15                 Karnataka  ...  5.516850e+07     High sales\n",
       "15   16                    Kerala  ...  0.000000e+00     Zero sales\n",
       "16   17               Lakshadweep  ...  0.000000e+00     Zero sales\n",
       "17   18            Madhya Pradesh  ...  1.235840e+06      Low sales\n",
       "18   19               Maharashtra  ...  1.799863e+07     High sales\n",
       "19   20                   Manipur  ...  0.000000e+00     Zero sales\n",
       "20   21                 Meghalaya  ...  0.000000e+00     Zero sales\n",
       "21   22                   Mizoram  ...  0.000000e+00     Zero sales\n",
       "22   23                  Nagaland  ...  0.000000e+00     Zero sales\n",
       "23   24                       NCR  ...  4.546774e+06     High sales\n",
       "24   25                Puducherry  ...  0.000000e+00     Zero sales\n",
       "25   26                    Punjab  ...  0.000000e+00     Zero sales\n",
       "26   27                 Rajasthan  ...  0.000000e+00     Zero sales\n",
       "27   28                    Sikkim  ...  0.000000e+00     Zero sales\n",
       "28   29                Tamil Nadu  ...  2.972850e+06   Medium sales\n",
       "29   30                 Telangana  ...  5.872851e+06     High sales\n",
       "30   31                   Tripura  ...  0.000000e+00     Zero sales\n",
       "31   32             Uttar Pradesh  ...  5.127379e+06     High sales\n",
       "32   33               Uttarakhand  ...  0.000000e+00     Zero sales\n",
       "33   34               West Bengal  ...  2.216873e+06      Low sales\n",
       "34   35                    Odisha  ...  0.000000e+00     Zero sales\n",
       "35   36            Andhra Pradesh  ...  2.286790e+06      Low sales\n",
       "\n",
       "[36 rows x 7 columns]"
      ]
     },
     "execution_count": 32,
     "metadata": {
      "tags": []
     },
     "output_type": "execute_result"
    }
   ],
   "source": [
    "gpd_sates"
   ]
  },
  {
   "cell_type": "code",
   "execution_count": null,
   "metadata": {
    "id": "6uTwkibresxx"
   },
   "outputs": [],
   "source": [
    "gpd_sates['sales_category']=pd.cut(gpd_sates['unit_sales'],[-1,1000,2300000,4500000,65000000],labels=['Zero sales','Low sales','Medium sales','High sales'])"
   ]
  },
  {
   "cell_type": "code",
   "execution_count": null,
   "metadata": {
    "id": "erU8Nutjdd7A"
   },
   "outputs": [],
   "source": [
    "gpd_sates['unit_sales']=gpd_sates['unit_sales'].fillna(0)"
   ]
  },
  {
   "cell_type": "code",
   "execution_count": null,
   "metadata": {
    "colab": {
     "base_uri": "https://localhost:8080/",
     "height": 609
    },
    "executionInfo": {
     "elapsed": 2975,
     "status": "ok",
     "timestamp": 1620321196821,
     "user": {
      "displayName": "mukesh kiran",
      "photoUrl": "https://lh3.googleusercontent.com/a-/AOh14GjpVg0Q2SlnyyoVNUSbxKazDjdehaPGXIEaysPDxUk=s64",
      "userId": "14410148232412860016"
     },
     "user_tz": -330
    },
    "id": "CKKrVNxDPp6m",
    "outputId": "5a17bbab-77b4-4b32-ffd8-3e350dec3923"
   },
   "outputs": [
    {
     "data": {
      "text/plain": [
       "<matplotlib.axes._subplots.AxesSubplot at 0x7f7b79f32c50>"
      ]
     },
     "execution_count": 33,
     "metadata": {
      "tags": []
     },
     "output_type": "execute_result"
    },
    {
     "data": {
      "image/png": "[encoded data removed]",
      "text/plain": [
       "<Figure size 1440x720 with 1 Axes>"
      ]
     },
     "metadata": {
      "needs_background": "light",
      "tags": []
     },
     "output_type": "display_data"
    }
   ],
   "source": [
    "import mapclassify as mc\n",
    "import matplotlib.pyplot as plt\n",
    "\n",
    "ax=states.plot(edgecolor='k',facecolor='none',figsize=(20,10))\n",
    "gpd_sates.plot(column='sales_category',ax=ax,legend=True,k=4)"
   ]
  },
  {
   "cell_type": "code",
   "execution_count": null,
   "metadata": {
    "id": "F6L1ak7vaGFX"
   },
   "outputs": [],
   "source": [
    "cities=gpd.read_file('/content/drive/MyDrive/Final_Hack/IND_adm/IND_adm2.shp')"
   ]
  },
  {
   "cell_type": "code",
   "execution_count": null,
   "metadata": {
    "colab": {
     "base_uri": "https://localhost:8080/",
     "height": 80
    },
    "executionInfo": {
     "elapsed": 989,
     "status": "ok",
     "timestamp": 1620323654721,
     "user": {
      "displayName": "mukesh kiran",
      "photoUrl": "https://lh3.googleusercontent.com/a-/AOh14GjpVg0Q2SlnyyoVNUSbxKazDjdehaPGXIEaysPDxUk=s64",
      "userId": "14410148232412860016"
     },
     "user_tz": -330
    },
    "id": "k_7rZDl5q95Z",
    "outputId": "b0700be8-cdc7-48ab-abdf-0551fb8c8583"
   },
   "outputs": [
    {
     "data": {
      "text/html": [
       "<div>\n",
       "<style scoped>\n",
       "    .dataframe tbody tr th:only-of-type {\n",
       "        vertical-align: middle;\n",
       "    }\n",
       "\n",
       "    .dataframe tbody tr th {\n",
       "        vertical-align: top;\n",
       "    }\n",
       "\n",
       "    .dataframe thead th {\n",
       "        text-align: right;\n",
       "    }\n",
       "</style>\n",
       "<table border=\"1\" class=\"dataframe\">\n",
       "  <thead>\n",
       "    <tr style=\"text-align: right;\">\n",
       "      <th></th>\n",
       "      <th>ID_0</th>\n",
       "      <th>ISO</th>\n",
       "      <th>NAME_0</th>\n",
       "      <th>ID_1</th>\n",
       "      <th>NAME_1</th>\n",
       "      <th>ID_2</th>\n",
       "      <th>NAME_2</th>\n",
       "      <th>TYPE_2</th>\n",
       "      <th>ENGTYPE_2</th>\n",
       "      <th>NL_NAME_2</th>\n",
       "      <th>VARNAME_2</th>\n",
       "      <th>geometry</th>\n",
       "    </tr>\n",
       "  </thead>\n",
       "  <tbody>\n",
       "    <tr>\n",
       "      <th>120</th>\n",
       "      <td>105</td>\n",
       "      <td>IND</td>\n",
       "      <td>India</td>\n",
       "      <td>12</td>\n",
       "      <td>Gujarat</td>\n",
       "      <td>121</td>\n",
       "      <td>Gandhinagar</td>\n",
       "      <td>District</td>\n",
       "      <td>District</td>\n",
       "      <td>None</td>\n",
       "      <td>None</td>\n",
       "      <td>POLYGON ((72.57260 23.40600, 72.57904 23.40577...</td>\n",
       "    </tr>\n",
       "  </tbody>\n",
       "</table>\n",
       "</div>"
      ],
      "text/plain": [
       "     ID_0  ISO  ... VARNAME_2                                           geometry\n",
       "120   105  IND  ...      None  POLYGON ((72.57260 23.40600, 72.57904 23.40577...\n",
       "\n",
       "[1 rows x 12 columns]"
      ]
     },
     "execution_count": 77,
     "metadata": {
      "tags": []
     },
     "output_type": "execute_result"
    }
   ],
   "source": [
    "cities[cities['NAME_2']=='Gandhinagar']"
   ]
  },
  {
   "cell_type": "code",
   "execution_count": null,
   "metadata": {
    "id": "Jb7Sua4msVnY"
   },
   "outputs": [],
   "source": [
    "city_sales=pred.groupby('city')['unit_sales'].sum().sort_values(ascending=False).reset_index()"
   ]
  },
  {
   "cell_type": "code",
   "execution_count": null,
   "metadata": {
    "id": "JdUX25-s5r5f"
   },
   "outputs": [],
   "source": [
    "sales_citywise=pd.merge(city_sales,geolocations,left_on='city',right_on='City',how='left')"
   ]
  },
  {
   "cell_type": "code",
   "execution_count": null,
   "metadata": {
    "colab": {
     "base_uri": "https://localhost:8080/"
    },
    "executionInfo": {
     "elapsed": 1008,
     "status": "ok",
     "timestamp": 1620327208452,
     "user": {
      "displayName": "mukesh kiran",
      "photoUrl": "https://lh3.googleusercontent.com/a-/AOh14GjpVg0Q2SlnyyoVNUSbxKazDjdehaPGXIEaysPDxUk=s64",
      "userId": "14410148232412860016"
     },
     "user_tz": -330
    },
    "id": "wCi_mYbzBvSw",
    "outputId": "47dd7292-1428-487f-ff5a-aafdffb4a834"
   },
   "outputs": [
    {
     "data": {
      "text/plain": [
       "(22, 5)"
      ]
     },
     "execution_count": 130,
     "metadata": {
      "tags": []
     },
     "output_type": "execute_result"
    }
   ],
   "source": [
    "sales_citywise.shape"
   ]
  },
  {
   "cell_type": "code",
   "execution_count": null,
   "metadata": {
    "colab": {
     "base_uri": "https://localhost:8080/",
     "height": 576
    },
    "executionInfo": {
     "elapsed": 761,
     "status": "ok",
     "timestamp": 1620326069075,
     "user": {
      "displayName": "mukesh kiran",
      "photoUrl": "https://lh3.googleusercontent.com/a-/AOh14GjpVg0Q2SlnyyoVNUSbxKazDjdehaPGXIEaysPDxUk=s64",
      "userId": "14410148232412860016"
     },
     "user_tz": -330
    },
    "id": "nRpKJI849aAH",
    "outputId": "5749a206-e8a8-418b-a608-7e2fac59a1b5"
   },
   "outputs": [
    {
     "data": {
      "text/html": [
       "<div>\n",
       "<style scoped>\n",
       "    .dataframe tbody tr th:only-of-type {\n",
       "        vertical-align: middle;\n",
       "    }\n",
       "\n",
       "    .dataframe tbody tr th {\n",
       "        vertical-align: top;\n",
       "    }\n",
       "\n",
       "    .dataframe thead th {\n",
       "        text-align: right;\n",
       "    }\n",
       "</style>\n",
       "<table border=\"1\" class=\"dataframe\">\n",
       "  <thead>\n",
       "    <tr style=\"text-align: right;\">\n",
       "      <th></th>\n",
       "      <th>Address</th>\n",
       "      <th>Lat</th>\n",
       "      <th>Long</th>\n",
       "    </tr>\n",
       "  </thead>\n",
       "  <tbody>\n",
       "    <tr>\n",
       "      <th>0</th>\n",
       "      <td>Kanpur,Uttar Pradesh</td>\n",
       "      <td>26.500490</td>\n",
       "      <td>80.271233</td>\n",
       "    </tr>\n",
       "    <tr>\n",
       "      <th>1</th>\n",
       "      <td>Bengaluru,Karnataka</td>\n",
       "      <td>12.976750</td>\n",
       "      <td>77.575279</td>\n",
       "    </tr>\n",
       "    <tr>\n",
       "      <th>2</th>\n",
       "      <td>Delhi,NCR</td>\n",
       "      <td>28.704100</td>\n",
       "      <td>77.102500</td>\n",
       "    </tr>\n",
       "    <tr>\n",
       "      <th>3</th>\n",
       "      <td>Gurgaon,Haryana</td>\n",
       "      <td>28.469709</td>\n",
       "      <td>77.042641</td>\n",
       "    </tr>\n",
       "    <tr>\n",
       "      <th>4</th>\n",
       "      <td>Mumbai,Maharashtra</td>\n",
       "      <td>19.076000</td>\n",
       "      <td>72.877700</td>\n",
       "    </tr>\n",
       "    <tr>\n",
       "      <th>5</th>\n",
       "      <td>Mysore,Karnataka</td>\n",
       "      <td>12.295800</td>\n",
       "      <td>76.639400</td>\n",
       "    </tr>\n",
       "    <tr>\n",
       "      <th>6</th>\n",
       "      <td>Nagpur,Maharashtra</td>\n",
       "      <td>21.145800</td>\n",
       "      <td>79.088200</td>\n",
       "    </tr>\n",
       "    <tr>\n",
       "      <th>7</th>\n",
       "      <td>Hyderabad,Telangana</td>\n",
       "      <td>17.385000</td>\n",
       "      <td>78.486700</td>\n",
       "    </tr>\n",
       "    <tr>\n",
       "      <th>8</th>\n",
       "      <td>Surat,Gujarat</td>\n",
       "      <td>21.170200</td>\n",
       "      <td>72.831100</td>\n",
       "    </tr>\n",
       "    <tr>\n",
       "      <th>9</th>\n",
       "      <td>Pune,Maharashtra</td>\n",
       "      <td>18.520400</td>\n",
       "      <td>73.856700</td>\n",
       "    </tr>\n",
       "    <tr>\n",
       "      <th>10</th>\n",
       "      <td>Kolkata,West Bengal</td>\n",
       "      <td>22.572600</td>\n",
       "      <td>88.363900</td>\n",
       "    </tr>\n",
       "    <tr>\n",
       "      <th>11</th>\n",
       "      <td>Lucknow,Uttar Pradesh</td>\n",
       "      <td>26.846700</td>\n",
       "      <td>80.946200</td>\n",
       "    </tr>\n",
       "    <tr>\n",
       "      <th>12</th>\n",
       "      <td>Chennai,Tamil Nadu</td>\n",
       "      <td>13.082700</td>\n",
       "      <td>80.270700</td>\n",
       "    </tr>\n",
       "    <tr>\n",
       "      <th>13</th>\n",
       "      <td>Ahmedabad,Gujarat</td>\n",
       "      <td>23.022500</td>\n",
       "      <td>72.571400</td>\n",
       "    </tr>\n",
       "    <tr>\n",
       "      <th>14</th>\n",
       "      <td>Coimbatore,Tamil Nadu</td>\n",
       "      <td>11.016800</td>\n",
       "      <td>76.955800</td>\n",
       "    </tr>\n",
       "    <tr>\n",
       "      <th>15</th>\n",
       "      <td>Indore,Madhya Pradesh</td>\n",
       "      <td>22.719600</td>\n",
       "      <td>75.857700</td>\n",
       "    </tr>\n",
       "    <tr>\n",
       "      <th>16</th>\n",
       "      <td>Gandhinagar,Gujarat</td>\n",
       "      <td>23.215600</td>\n",
       "      <td>72.636900</td>\n",
       "    </tr>\n",
       "  </tbody>\n",
       "</table>\n",
       "</div>"
      ],
      "text/plain": [
       "                  Address        Lat       Long\n",
       "0    Kanpur,Uttar Pradesh  26.500490  80.271233\n",
       "1     Bengaluru,Karnataka  12.976750  77.575279\n",
       "2               Delhi,NCR  28.704100  77.102500\n",
       "3         Gurgaon,Haryana  28.469709  77.042641\n",
       "4      Mumbai,Maharashtra  19.076000  72.877700\n",
       "5        Mysore,Karnataka  12.295800  76.639400\n",
       "6      Nagpur,Maharashtra  21.145800  79.088200\n",
       "7     Hyderabad,Telangana  17.385000  78.486700\n",
       "8           Surat,Gujarat  21.170200  72.831100\n",
       "9        Pune,Maharashtra  18.520400  73.856700\n",
       "10    Kolkata,West Bengal  22.572600  88.363900\n",
       "11  Lucknow,Uttar Pradesh  26.846700  80.946200\n",
       "12     Chennai,Tamil Nadu  13.082700  80.270700\n",
       "13      Ahmedabad,Gujarat  23.022500  72.571400\n",
       "14  Coimbatore,Tamil Nadu  11.016800  76.955800\n",
       "15  Indore,Madhya Pradesh  22.719600  75.857700\n",
       "16    Gandhinagar,Gujarat  23.215600  72.636900"
      ]
     },
     "execution_count": 114,
     "metadata": {
      "tags": []
     },
     "output_type": "execute_result"
    }
   ],
   "source": [
    "geolocations"
   ]
  },
  {
   "cell_type": "code",
   "execution_count": null,
   "metadata": {
    "colab": {
     "base_uri": "https://localhost:8080/",
     "height": 576
    },
    "executionInfo": {
     "elapsed": 777,
     "status": "ok",
     "timestamp": 1620326140567,
     "user": {
      "displayName": "mukesh kiran",
      "photoUrl": "https://lh3.googleusercontent.com/a-/AOh14GjpVg0Q2SlnyyoVNUSbxKazDjdehaPGXIEaysPDxUk=s64",
      "userId": "14410148232412860016"
     },
     "user_tz": -330
    },
    "id": "0eFYDScI9r8i",
    "outputId": "0e6c6221-b695-4c6b-fecc-26f11d10a234"
   },
   "outputs": [
    {
     "data": {
      "text/html": [
       "<div>\n",
       "<style scoped>\n",
       "    .dataframe tbody tr th:only-of-type {\n",
       "        vertical-align: middle;\n",
       "    }\n",
       "\n",
       "    .dataframe tbody tr th {\n",
       "        vertical-align: top;\n",
       "    }\n",
       "\n",
       "    .dataframe thead th {\n",
       "        text-align: right;\n",
       "    }\n",
       "</style>\n",
       "<table border=\"1\" class=\"dataframe\">\n",
       "  <thead>\n",
       "    <tr style=\"text-align: right;\">\n",
       "      <th></th>\n",
       "      <th>Address</th>\n",
       "      <th>Lat</th>\n",
       "      <th>Long</th>\n",
       "      <th>City</th>\n",
       "    </tr>\n",
       "  </thead>\n",
       "  <tbody>\n",
       "    <tr>\n",
       "      <th>0</th>\n",
       "      <td>Kanpur,Uttar Pradesh</td>\n",
       "      <td>26.500490</td>\n",
       "      <td>80.271233</td>\n",
       "      <td>Kanpur</td>\n",
       "    </tr>\n",
       "    <tr>\n",
       "      <th>1</th>\n",
       "      <td>Bengaluru,Karnataka</td>\n",
       "      <td>12.976750</td>\n",
       "      <td>77.575279</td>\n",
       "      <td>Bengaluru</td>\n",
       "    </tr>\n",
       "    <tr>\n",
       "      <th>2</th>\n",
       "      <td>Delhi,NCR</td>\n",
       "      <td>28.704100</td>\n",
       "      <td>77.102500</td>\n",
       "      <td>Delhi</td>\n",
       "    </tr>\n",
       "    <tr>\n",
       "      <th>3</th>\n",
       "      <td>Gurgaon,Haryana</td>\n",
       "      <td>28.469709</td>\n",
       "      <td>77.042641</td>\n",
       "      <td>Gurgaon</td>\n",
       "    </tr>\n",
       "    <tr>\n",
       "      <th>4</th>\n",
       "      <td>Mumbai,Maharashtra</td>\n",
       "      <td>19.076000</td>\n",
       "      <td>72.877700</td>\n",
       "      <td>Mumbai</td>\n",
       "    </tr>\n",
       "    <tr>\n",
       "      <th>5</th>\n",
       "      <td>Mysore,Karnataka</td>\n",
       "      <td>12.295800</td>\n",
       "      <td>76.639400</td>\n",
       "      <td>Mysore</td>\n",
       "    </tr>\n",
       "    <tr>\n",
       "      <th>6</th>\n",
       "      <td>Nagpur,Maharashtra</td>\n",
       "      <td>21.145800</td>\n",
       "      <td>79.088200</td>\n",
       "      <td>Nagpur</td>\n",
       "    </tr>\n",
       "    <tr>\n",
       "      <th>7</th>\n",
       "      <td>Hyderabad,Telangana</td>\n",
       "      <td>17.385000</td>\n",
       "      <td>78.486700</td>\n",
       "      <td>Hyderabad</td>\n",
       "    </tr>\n",
       "    <tr>\n",
       "      <th>8</th>\n",
       "      <td>Surat,Gujarat</td>\n",
       "      <td>21.170200</td>\n",
       "      <td>72.831100</td>\n",
       "      <td>Surat</td>\n",
       "    </tr>\n",
       "    <tr>\n",
       "      <th>9</th>\n",
       "      <td>Pune,Maharashtra</td>\n",
       "      <td>18.520400</td>\n",
       "      <td>73.856700</td>\n",
       "      <td>Pune</td>\n",
       "    </tr>\n",
       "    <tr>\n",
       "      <th>10</th>\n",
       "      <td>Kolkata,West Bengal</td>\n",
       "      <td>22.572600</td>\n",
       "      <td>88.363900</td>\n",
       "      <td>Kolkata</td>\n",
       "    </tr>\n",
       "    <tr>\n",
       "      <th>11</th>\n",
       "      <td>Lucknow,Uttar Pradesh</td>\n",
       "      <td>26.846700</td>\n",
       "      <td>80.946200</td>\n",
       "      <td>Lucknow</td>\n",
       "    </tr>\n",
       "    <tr>\n",
       "      <th>12</th>\n",
       "      <td>Chennai,Tamil Nadu</td>\n",
       "      <td>13.082700</td>\n",
       "      <td>80.270700</td>\n",
       "      <td>Chennai</td>\n",
       "    </tr>\n",
       "    <tr>\n",
       "      <th>13</th>\n",
       "      <td>Ahmedabad,Gujarat</td>\n",
       "      <td>23.022500</td>\n",
       "      <td>72.571400</td>\n",
       "      <td>Ahmedabad</td>\n",
       "    </tr>\n",
       "    <tr>\n",
       "      <th>14</th>\n",
       "      <td>Coimbatore,Tamil Nadu</td>\n",
       "      <td>11.016800</td>\n",
       "      <td>76.955800</td>\n",
       "      <td>Coimbatore</td>\n",
       "    </tr>\n",
       "    <tr>\n",
       "      <th>15</th>\n",
       "      <td>Indore,Madhya Pradesh</td>\n",
       "      <td>22.719600</td>\n",
       "      <td>75.857700</td>\n",
       "      <td>Indore</td>\n",
       "    </tr>\n",
       "    <tr>\n",
       "      <th>16</th>\n",
       "      <td>Gandhinagar,Gujarat</td>\n",
       "      <td>23.215600</td>\n",
       "      <td>72.636900</td>\n",
       "      <td>Gandhinagar</td>\n",
       "    </tr>\n",
       "  </tbody>\n",
       "</table>\n",
       "</div>"
      ],
      "text/plain": [
       "                  Address        Lat       Long         City\n",
       "0    Kanpur,Uttar Pradesh  26.500490  80.271233       Kanpur\n",
       "1     Bengaluru,Karnataka  12.976750  77.575279    Bengaluru\n",
       "2               Delhi,NCR  28.704100  77.102500        Delhi\n",
       "3         Gurgaon,Haryana  28.469709  77.042641      Gurgaon\n",
       "4      Mumbai,Maharashtra  19.076000  72.877700       Mumbai\n",
       "5        Mysore,Karnataka  12.295800  76.639400       Mysore\n",
       "6      Nagpur,Maharashtra  21.145800  79.088200       Nagpur\n",
       "7     Hyderabad,Telangana  17.385000  78.486700    Hyderabad\n",
       "8           Surat,Gujarat  21.170200  72.831100        Surat\n",
       "9        Pune,Maharashtra  18.520400  73.856700         Pune\n",
       "10    Kolkata,West Bengal  22.572600  88.363900      Kolkata\n",
       "11  Lucknow,Uttar Pradesh  26.846700  80.946200      Lucknow\n",
       "12     Chennai,Tamil Nadu  13.082700  80.270700      Chennai\n",
       "13      Ahmedabad,Gujarat  23.022500  72.571400    Ahmedabad\n",
       "14  Coimbatore,Tamil Nadu  11.016800  76.955800   Coimbatore\n",
       "15  Indore,Madhya Pradesh  22.719600  75.857700       Indore\n",
       "16    Gandhinagar,Gujarat  23.215600  72.636900  Gandhinagar"
      ]
     },
     "execution_count": 115,
     "metadata": {
      "tags": []
     },
     "output_type": "execute_result"
    }
   ],
   "source": [
    "geolocations['City']=geolocations.Address.str.split(\",\",expand=True)[0]\n",
    "geolocations"
   ]
  },
  {
   "cell_type": "code",
   "execution_count": null,
   "metadata": {
    "colab": {
     "base_uri": "https://localhost:8080/",
     "height": 731
    },
    "executionInfo": {
     "elapsed": 773,
     "status": "ok",
     "timestamp": 1620326165995,
     "user": {
      "displayName": "mukesh kiran",
      "photoUrl": "https://lh3.googleusercontent.com/a-/AOh14GjpVg0Q2SlnyyoVNUSbxKazDjdehaPGXIEaysPDxUk=s64",
      "userId": "14410148232412860016"
     },
     "user_tz": -330
    },
    "id": "XRTazL-i6Vk-",
    "outputId": "40290420-9859-4140-8c91-7a0c1db5a893"
   },
   "outputs": [
    {
     "data": {
      "text/html": [
       "<div>\n",
       "<style scoped>\n",
       "    .dataframe tbody tr th:only-of-type {\n",
       "        vertical-align: middle;\n",
       "    }\n",
       "\n",
       "    .dataframe tbody tr th {\n",
       "        vertical-align: top;\n",
       "    }\n",
       "\n",
       "    .dataframe thead th {\n",
       "        text-align: right;\n",
       "    }\n",
       "</style>\n",
       "<table border=\"1\" class=\"dataframe\">\n",
       "  <thead>\n",
       "    <tr style=\"text-align: right;\">\n",
       "      <th></th>\n",
       "      <th>Address</th>\n",
       "      <th>Lat</th>\n",
       "      <th>Long</th>\n",
       "      <th>City</th>\n",
       "    </tr>\n",
       "  </thead>\n",
       "  <tbody>\n",
       "    <tr>\n",
       "      <th>0</th>\n",
       "      <td>Kanpur,Uttar Pradesh</td>\n",
       "      <td>26.5005</td>\n",
       "      <td>80.2712</td>\n",
       "      <td>Kanpur</td>\n",
       "    </tr>\n",
       "    <tr>\n",
       "      <th>1</th>\n",
       "      <td>Bengaluru,Karnataka</td>\n",
       "      <td>12.9767</td>\n",
       "      <td>77.5753</td>\n",
       "      <td>Bengaluru</td>\n",
       "    </tr>\n",
       "    <tr>\n",
       "      <th>2</th>\n",
       "      <td>Delhi,NCR</td>\n",
       "      <td>28.7041</td>\n",
       "      <td>77.1025</td>\n",
       "      <td>Delhi</td>\n",
       "    </tr>\n",
       "    <tr>\n",
       "      <th>3</th>\n",
       "      <td>Gurgaon,Haryana</td>\n",
       "      <td>28.4697</td>\n",
       "      <td>77.0426</td>\n",
       "      <td>Gurgaon</td>\n",
       "    </tr>\n",
       "    <tr>\n",
       "      <th>4</th>\n",
       "      <td>Mumbai,Maharashtra</td>\n",
       "      <td>19.076</td>\n",
       "      <td>72.8777</td>\n",
       "      <td>Mumbai</td>\n",
       "    </tr>\n",
       "    <tr>\n",
       "      <th>5</th>\n",
       "      <td>Mysore,Karnataka</td>\n",
       "      <td>12.2958</td>\n",
       "      <td>76.6394</td>\n",
       "      <td>Mysore</td>\n",
       "    </tr>\n",
       "    <tr>\n",
       "      <th>6</th>\n",
       "      <td>Nagpur,Maharashtra</td>\n",
       "      <td>21.1458</td>\n",
       "      <td>79.0882</td>\n",
       "      <td>Nagpur</td>\n",
       "    </tr>\n",
       "    <tr>\n",
       "      <th>7</th>\n",
       "      <td>Hyderabad,Telangana</td>\n",
       "      <td>17.385</td>\n",
       "      <td>78.4867</td>\n",
       "      <td>Hyderabad</td>\n",
       "    </tr>\n",
       "    <tr>\n",
       "      <th>8</th>\n",
       "      <td>Surat,Gujarat</td>\n",
       "      <td>21.1702</td>\n",
       "      <td>72.8311</td>\n",
       "      <td>Surat</td>\n",
       "    </tr>\n",
       "    <tr>\n",
       "      <th>9</th>\n",
       "      <td>Pune,Maharashtra</td>\n",
       "      <td>18.5204</td>\n",
       "      <td>73.8567</td>\n",
       "      <td>Pune</td>\n",
       "    </tr>\n",
       "    <tr>\n",
       "      <th>10</th>\n",
       "      <td>Kolkata,West Bengal</td>\n",
       "      <td>22.5726</td>\n",
       "      <td>88.3639</td>\n",
       "      <td>Kolkata</td>\n",
       "    </tr>\n",
       "    <tr>\n",
       "      <th>11</th>\n",
       "      <td>Lucknow,Uttar Pradesh</td>\n",
       "      <td>26.8467</td>\n",
       "      <td>80.9462</td>\n",
       "      <td>Lucknow</td>\n",
       "    </tr>\n",
       "    <tr>\n",
       "      <th>12</th>\n",
       "      <td>Chennai,Tamil Nadu</td>\n",
       "      <td>13.0827</td>\n",
       "      <td>80.2707</td>\n",
       "      <td>Chennai</td>\n",
       "    </tr>\n",
       "    <tr>\n",
       "      <th>13</th>\n",
       "      <td>Ahmedabad,Gujarat</td>\n",
       "      <td>23.0225</td>\n",
       "      <td>72.5714</td>\n",
       "      <td>Ahmedabad</td>\n",
       "    </tr>\n",
       "    <tr>\n",
       "      <th>14</th>\n",
       "      <td>Coimbatore,Tamil Nadu</td>\n",
       "      <td>11.0168</td>\n",
       "      <td>76.9558</td>\n",
       "      <td>Coimbatore</td>\n",
       "    </tr>\n",
       "    <tr>\n",
       "      <th>15</th>\n",
       "      <td>Indore,Madhya Pradesh</td>\n",
       "      <td>22.7196</td>\n",
       "      <td>75.8577</td>\n",
       "      <td>Indore</td>\n",
       "    </tr>\n",
       "    <tr>\n",
       "      <th>16</th>\n",
       "      <td>Gandhinagar,Gujarat</td>\n",
       "      <td>23.2156</td>\n",
       "      <td>72.6369</td>\n",
       "      <td>Gandhinagar</td>\n",
       "    </tr>\n",
       "    <tr>\n",
       "      <th>0</th>\n",
       "      <td>Noida</td>\n",
       "      <td>28.5355</td>\n",
       "      <td>77.3910</td>\n",
       "      <td>Noida</td>\n",
       "    </tr>\n",
       "    <tr>\n",
       "      <th>1</th>\n",
       "      <td>Visakhapatnam</td>\n",
       "      <td>17.6868</td>\n",
       "      <td>83.2185</td>\n",
       "      <td>Visakhapatnam</td>\n",
       "    </tr>\n",
       "    <tr>\n",
       "      <th>2</th>\n",
       "      <td>Vijayawada</td>\n",
       "      <td>16.5062</td>\n",
       "      <td>80.6480</td>\n",
       "      <td>Vijayawada</td>\n",
       "    </tr>\n",
       "    <tr>\n",
       "      <th>3</th>\n",
       "      <td>Patna</td>\n",
       "      <td>25.5941</td>\n",
       "      <td>85.1376</td>\n",
       "      <td>Patna</td>\n",
       "    </tr>\n",
       "    <tr>\n",
       "      <th>4</th>\n",
       "      <td>Guntur</td>\n",
       "      <td>16.3067</td>\n",
       "      <td>80.4365</td>\n",
       "      <td>Guntur</td>\n",
       "    </tr>\n",
       "  </tbody>\n",
       "</table>\n",
       "</div>"
      ],
      "text/plain": [
       "                  Address      Lat     Long           City\n",
       "0    Kanpur,Uttar Pradesh  26.5005  80.2712         Kanpur\n",
       "1     Bengaluru,Karnataka  12.9767  77.5753      Bengaluru\n",
       "2               Delhi,NCR  28.7041  77.1025          Delhi\n",
       "3         Gurgaon,Haryana  28.4697  77.0426        Gurgaon\n",
       "4      Mumbai,Maharashtra   19.076  72.8777         Mumbai\n",
       "5        Mysore,Karnataka  12.2958  76.6394         Mysore\n",
       "6      Nagpur,Maharashtra  21.1458  79.0882         Nagpur\n",
       "7     Hyderabad,Telangana   17.385  78.4867      Hyderabad\n",
       "8           Surat,Gujarat  21.1702  72.8311          Surat\n",
       "9        Pune,Maharashtra  18.5204  73.8567           Pune\n",
       "10    Kolkata,West Bengal  22.5726  88.3639        Kolkata\n",
       "11  Lucknow,Uttar Pradesh  26.8467  80.9462        Lucknow\n",
       "12     Chennai,Tamil Nadu  13.0827  80.2707        Chennai\n",
       "13      Ahmedabad,Gujarat  23.0225  72.5714      Ahmedabad\n",
       "14  Coimbatore,Tamil Nadu  11.0168  76.9558     Coimbatore\n",
       "15  Indore,Madhya Pradesh  22.7196  75.8577         Indore\n",
       "16    Gandhinagar,Gujarat  23.2156  72.6369    Gandhinagar\n",
       "0                   Noida  28.5355  77.3910          Noida\n",
       "1           Visakhapatnam  17.6868  83.2185  Visakhapatnam\n",
       "2              Vijayawada  16.5062  80.6480     Vijayawada\n",
       "3                   Patna  25.5941  85.1376          Patna\n",
       "4                  Guntur  16.3067  80.4365         Guntur"
      ]
     },
     "execution_count": 116,
     "metadata": {
      "tags": []
     },
     "output_type": "execute_result"
    }
   ],
   "source": [
    "new_row=pd.DataFrame({'Address':['Noida','Visakhapatnam','Vijayawada','Patna','Guntur'],\n",
    "         'Lat':['28.5355','17.6868','16.5062','25.5941','16.3067'],\n",
    "         'Long':['77.3910','83.2185','80.6480','85.1376','80.4365'],\n",
    "         'City':['Noida','Visakhapatnam','Vijayawada','Patna','Guntur']})\n",
    "geolocations=geolocations.append(new_row)\n",
    "#geolocations['state']=geolocations['Address'].str.split(',').str[-1]\n",
    "geolocations"
   ]
  },
  {
   "cell_type": "code",
   "execution_count": null,
   "metadata": {
    "colab": {
     "base_uri": "https://localhost:8080/",
     "height": 731
    },
    "executionInfo": {
     "elapsed": 1311,
     "status": "ok",
     "timestamp": 1620326303988,
     "user": {
      "displayName": "mukesh kiran",
      "photoUrl": "https://lh3.googleusercontent.com/a-/AOh14GjpVg0Q2SlnyyoVNUSbxKazDjdehaPGXIEaysPDxUk=s64",
      "userId": "14410148232412860016"
     },
     "user_tz": -330
    },
    "id": "yy4_NqYk8IF1",
    "outputId": "3205be71-8e48-4433-f623-0fc300dc099b"
   },
   "outputs": [
    {
     "data": {
      "text/html": [
       "<div>\n",
       "<style scoped>\n",
       "    .dataframe tbody tr th:only-of-type {\n",
       "        vertical-align: middle;\n",
       "    }\n",
       "\n",
       "    .dataframe tbody tr th {\n",
       "        vertical-align: top;\n",
       "    }\n",
       "\n",
       "    .dataframe thead th {\n",
       "        text-align: right;\n",
       "    }\n",
       "</style>\n",
       "<table border=\"1\" class=\"dataframe\">\n",
       "  <thead>\n",
       "    <tr style=\"text-align: right;\">\n",
       "      <th></th>\n",
       "      <th>Lat</th>\n",
       "      <th>Long</th>\n",
       "      <th>City</th>\n",
       "    </tr>\n",
       "  </thead>\n",
       "  <tbody>\n",
       "    <tr>\n",
       "      <th>0</th>\n",
       "      <td>26.5005</td>\n",
       "      <td>80.2712</td>\n",
       "      <td>Kanpur</td>\n",
       "    </tr>\n",
       "    <tr>\n",
       "      <th>1</th>\n",
       "      <td>12.9767</td>\n",
       "      <td>77.5753</td>\n",
       "      <td>Bengaluru</td>\n",
       "    </tr>\n",
       "    <tr>\n",
       "      <th>2</th>\n",
       "      <td>28.7041</td>\n",
       "      <td>77.1025</td>\n",
       "      <td>Delhi</td>\n",
       "    </tr>\n",
       "    <tr>\n",
       "      <th>3</th>\n",
       "      <td>28.4697</td>\n",
       "      <td>77.0426</td>\n",
       "      <td>Gurgaon</td>\n",
       "    </tr>\n",
       "    <tr>\n",
       "      <th>4</th>\n",
       "      <td>19.076</td>\n",
       "      <td>72.8777</td>\n",
       "      <td>Mumbai</td>\n",
       "    </tr>\n",
       "    <tr>\n",
       "      <th>5</th>\n",
       "      <td>12.2958</td>\n",
       "      <td>76.6394</td>\n",
       "      <td>Mysore</td>\n",
       "    </tr>\n",
       "    <tr>\n",
       "      <th>6</th>\n",
       "      <td>21.1458</td>\n",
       "      <td>79.0882</td>\n",
       "      <td>Nagpur</td>\n",
       "    </tr>\n",
       "    <tr>\n",
       "      <th>7</th>\n",
       "      <td>17.385</td>\n",
       "      <td>78.4867</td>\n",
       "      <td>Hyderabad</td>\n",
       "    </tr>\n",
       "    <tr>\n",
       "      <th>8</th>\n",
       "      <td>21.1702</td>\n",
       "      <td>72.8311</td>\n",
       "      <td>Surat</td>\n",
       "    </tr>\n",
       "    <tr>\n",
       "      <th>9</th>\n",
       "      <td>18.5204</td>\n",
       "      <td>73.8567</td>\n",
       "      <td>Pune</td>\n",
       "    </tr>\n",
       "    <tr>\n",
       "      <th>10</th>\n",
       "      <td>22.5726</td>\n",
       "      <td>88.3639</td>\n",
       "      <td>Kolkata</td>\n",
       "    </tr>\n",
       "    <tr>\n",
       "      <th>11</th>\n",
       "      <td>26.8467</td>\n",
       "      <td>80.9462</td>\n",
       "      <td>Lucknow</td>\n",
       "    </tr>\n",
       "    <tr>\n",
       "      <th>12</th>\n",
       "      <td>13.0827</td>\n",
       "      <td>80.2707</td>\n",
       "      <td>Chennai</td>\n",
       "    </tr>\n",
       "    <tr>\n",
       "      <th>13</th>\n",
       "      <td>23.0225</td>\n",
       "      <td>72.5714</td>\n",
       "      <td>Ahmedabad</td>\n",
       "    </tr>\n",
       "    <tr>\n",
       "      <th>14</th>\n",
       "      <td>11.0168</td>\n",
       "      <td>76.9558</td>\n",
       "      <td>Coimbatore</td>\n",
       "    </tr>\n",
       "    <tr>\n",
       "      <th>15</th>\n",
       "      <td>22.7196</td>\n",
       "      <td>75.8577</td>\n",
       "      <td>Indore</td>\n",
       "    </tr>\n",
       "    <tr>\n",
       "      <th>16</th>\n",
       "      <td>23.2156</td>\n",
       "      <td>72.6369</td>\n",
       "      <td>Gandhinagar</td>\n",
       "    </tr>\n",
       "    <tr>\n",
       "      <th>17</th>\n",
       "      <td>28.5355</td>\n",
       "      <td>77.3910</td>\n",
       "      <td>Noida</td>\n",
       "    </tr>\n",
       "    <tr>\n",
       "      <th>18</th>\n",
       "      <td>17.6868</td>\n",
       "      <td>83.2185</td>\n",
       "      <td>Visakhapatnam</td>\n",
       "    </tr>\n",
       "    <tr>\n",
       "      <th>19</th>\n",
       "      <td>16.5062</td>\n",
       "      <td>80.6480</td>\n",
       "      <td>Vijayawada</td>\n",
       "    </tr>\n",
       "    <tr>\n",
       "      <th>20</th>\n",
       "      <td>25.5941</td>\n",
       "      <td>85.1376</td>\n",
       "      <td>Patna</td>\n",
       "    </tr>\n",
       "    <tr>\n",
       "      <th>21</th>\n",
       "      <td>16.3067</td>\n",
       "      <td>80.4365</td>\n",
       "      <td>Guntur</td>\n",
       "    </tr>\n",
       "  </tbody>\n",
       "</table>\n",
       "</div>"
      ],
      "text/plain": [
       "        Lat     Long           City\n",
       "0   26.5005  80.2712         Kanpur\n",
       "1   12.9767  77.5753      Bengaluru\n",
       "2   28.7041  77.1025          Delhi\n",
       "3   28.4697  77.0426        Gurgaon\n",
       "4    19.076  72.8777         Mumbai\n",
       "5   12.2958  76.6394         Mysore\n",
       "6   21.1458  79.0882         Nagpur\n",
       "7    17.385  78.4867      Hyderabad\n",
       "8   21.1702  72.8311          Surat\n",
       "9   18.5204  73.8567           Pune\n",
       "10  22.5726  88.3639        Kolkata\n",
       "11  26.8467  80.9462        Lucknow\n",
       "12  13.0827  80.2707        Chennai\n",
       "13  23.0225  72.5714      Ahmedabad\n",
       "14  11.0168  76.9558     Coimbatore\n",
       "15  22.7196  75.8577         Indore\n",
       "16  23.2156  72.6369    Gandhinagar\n",
       "17  28.5355  77.3910          Noida\n",
       "18  17.6868  83.2185  Visakhapatnam\n",
       "19  16.5062  80.6480     Vijayawada\n",
       "20  25.5941  85.1376          Patna\n",
       "21  16.3067  80.4365         Guntur"
      ]
     },
     "execution_count": 121,
     "metadata": {
      "tags": []
     },
     "output_type": "execute_result"
    }
   ],
   "source": [
    "geolocations.drop('index',axis=1,inplace=True)\n",
    "#geolocations.reset_index(inplace=True)\n",
    "geolocations"
   ]
  },
  {
   "cell_type": "code",
   "execution_count": null,
   "metadata": {
    "colab": {
     "base_uri": "https://localhost:8080/",
     "height": 576
    },
    "executionInfo": {
     "elapsed": 964,
     "status": "ok",
     "timestamp": 1620325056397,
     "user": {
      "displayName": "mukesh kiran",
      "photoUrl": "https://lh3.googleusercontent.com/a-/AOh14GjpVg0Q2SlnyyoVNUSbxKazDjdehaPGXIEaysPDxUk=s64",
      "userId": "14410148232412860016"
     },
     "user_tz": -330
    },
    "id": "-H_zUUI23x53",
    "outputId": "15b22bf2-78d0-4c9b-81a6-3b85deeaffa7"
   },
   "outputs": [
    {
     "data": {
      "text/html": [
       "<div>\n",
       "<style scoped>\n",
       "    .dataframe tbody tr th:only-of-type {\n",
       "        vertical-align: middle;\n",
       "    }\n",
       "\n",
       "    .dataframe tbody tr th {\n",
       "        vertical-align: top;\n",
       "    }\n",
       "\n",
       "    .dataframe thead th {\n",
       "        text-align: right;\n",
       "    }\n",
       "</style>\n",
       "<table border=\"1\" class=\"dataframe\">\n",
       "  <thead>\n",
       "    <tr style=\"text-align: right;\">\n",
       "      <th></th>\n",
       "      <th>Address</th>\n",
       "      <th>Lat</th>\n",
       "      <th>Long</th>\n",
       "      <th>City</th>\n",
       "    </tr>\n",
       "  </thead>\n",
       "  <tbody>\n",
       "    <tr>\n",
       "      <th>0</th>\n",
       "      <td>Kanpur,Uttar Pradesh</td>\n",
       "      <td>26.500490</td>\n",
       "      <td>80.271233</td>\n",
       "      <td>Kanpur</td>\n",
       "    </tr>\n",
       "    <tr>\n",
       "      <th>1</th>\n",
       "      <td>Bengaluru,Karnataka</td>\n",
       "      <td>12.976750</td>\n",
       "      <td>77.575279</td>\n",
       "      <td>Bengaluru</td>\n",
       "    </tr>\n",
       "    <tr>\n",
       "      <th>2</th>\n",
       "      <td>Delhi,NCR</td>\n",
       "      <td>28.704100</td>\n",
       "      <td>77.102500</td>\n",
       "      <td>Delhi</td>\n",
       "    </tr>\n",
       "    <tr>\n",
       "      <th>3</th>\n",
       "      <td>Gurgaon,Haryana</td>\n",
       "      <td>28.469709</td>\n",
       "      <td>77.042641</td>\n",
       "      <td>Gurgaon</td>\n",
       "    </tr>\n",
       "    <tr>\n",
       "      <th>4</th>\n",
       "      <td>Mumbai,Maharashtra</td>\n",
       "      <td>19.076000</td>\n",
       "      <td>72.877700</td>\n",
       "      <td>Mumbai</td>\n",
       "    </tr>\n",
       "    <tr>\n",
       "      <th>5</th>\n",
       "      <td>Mysore,Karnataka</td>\n",
       "      <td>12.295800</td>\n",
       "      <td>76.639400</td>\n",
       "      <td>Mysore</td>\n",
       "    </tr>\n",
       "    <tr>\n",
       "      <th>6</th>\n",
       "      <td>Nagpur,Maharashtra</td>\n",
       "      <td>21.145800</td>\n",
       "      <td>79.088200</td>\n",
       "      <td>Nagpur</td>\n",
       "    </tr>\n",
       "    <tr>\n",
       "      <th>7</th>\n",
       "      <td>Hyderabad,Telangana</td>\n",
       "      <td>17.385000</td>\n",
       "      <td>78.486700</td>\n",
       "      <td>Hyderabad</td>\n",
       "    </tr>\n",
       "    <tr>\n",
       "      <th>8</th>\n",
       "      <td>Surat,Gujarat</td>\n",
       "      <td>21.170200</td>\n",
       "      <td>72.831100</td>\n",
       "      <td>Surat</td>\n",
       "    </tr>\n",
       "    <tr>\n",
       "      <th>9</th>\n",
       "      <td>Pune,Maharashtra</td>\n",
       "      <td>18.520400</td>\n",
       "      <td>73.856700</td>\n",
       "      <td>Pune</td>\n",
       "    </tr>\n",
       "    <tr>\n",
       "      <th>10</th>\n",
       "      <td>Kolkata,West Bengal</td>\n",
       "      <td>22.572600</td>\n",
       "      <td>88.363900</td>\n",
       "      <td>Kolkata</td>\n",
       "    </tr>\n",
       "    <tr>\n",
       "      <th>11</th>\n",
       "      <td>Lucknow,Uttar Pradesh</td>\n",
       "      <td>26.846700</td>\n",
       "      <td>80.946200</td>\n",
       "      <td>Lucknow</td>\n",
       "    </tr>\n",
       "    <tr>\n",
       "      <th>12</th>\n",
       "      <td>Chennai,Tamil Nadu</td>\n",
       "      <td>13.082700</td>\n",
       "      <td>80.270700</td>\n",
       "      <td>Chennai</td>\n",
       "    </tr>\n",
       "    <tr>\n",
       "      <th>13</th>\n",
       "      <td>Ahmedabad,Gujarat</td>\n",
       "      <td>23.022500</td>\n",
       "      <td>72.571400</td>\n",
       "      <td>Ahmedabad</td>\n",
       "    </tr>\n",
       "    <tr>\n",
       "      <th>14</th>\n",
       "      <td>Coimbatore,Tamil Nadu</td>\n",
       "      <td>11.016800</td>\n",
       "      <td>76.955800</td>\n",
       "      <td>Coimbatore</td>\n",
       "    </tr>\n",
       "    <tr>\n",
       "      <th>15</th>\n",
       "      <td>Indore,Madhya Pradesh</td>\n",
       "      <td>22.719600</td>\n",
       "      <td>75.857700</td>\n",
       "      <td>Indore</td>\n",
       "    </tr>\n",
       "    <tr>\n",
       "      <th>16</th>\n",
       "      <td>Gandhinagar,Gujarat</td>\n",
       "      <td>23.215600</td>\n",
       "      <td>72.636900</td>\n",
       "      <td>Gandhinagar</td>\n",
       "    </tr>\n",
       "  </tbody>\n",
       "</table>\n",
       "</div>"
      ],
      "text/plain": [
       "                  Address        Lat       Long         City\n",
       "0    Kanpur,Uttar Pradesh  26.500490  80.271233       Kanpur\n",
       "1     Bengaluru,Karnataka  12.976750  77.575279    Bengaluru\n",
       "2               Delhi,NCR  28.704100  77.102500        Delhi\n",
       "3         Gurgaon,Haryana  28.469709  77.042641      Gurgaon\n",
       "4      Mumbai,Maharashtra  19.076000  72.877700       Mumbai\n",
       "5        Mysore,Karnataka  12.295800  76.639400       Mysore\n",
       "6      Nagpur,Maharashtra  21.145800  79.088200       Nagpur\n",
       "7     Hyderabad,Telangana  17.385000  78.486700    Hyderabad\n",
       "8           Surat,Gujarat  21.170200  72.831100        Surat\n",
       "9        Pune,Maharashtra  18.520400  73.856700         Pune\n",
       "10    Kolkata,West Bengal  22.572600  88.363900      Kolkata\n",
       "11  Lucknow,Uttar Pradesh  26.846700  80.946200      Lucknow\n",
       "12     Chennai,Tamil Nadu  13.082700  80.270700      Chennai\n",
       "13      Ahmedabad,Gujarat  23.022500  72.571400    Ahmedabad\n",
       "14  Coimbatore,Tamil Nadu  11.016800  76.955800   Coimbatore\n",
       "15  Indore,Madhya Pradesh  22.719600  75.857700       Indore\n",
       "16    Gandhinagar,Gujarat  23.215600  72.636900  Gandhinagar"
      ]
     },
     "execution_count": 103,
     "metadata": {
      "tags": []
     },
     "output_type": "execute_result"
    }
   ],
   "source": [
    "\n",
    "geolocations['City']=geolocations.Address.str.split(\",\",expand=True)[0]\n",
    "geolocations\n"
   ]
  },
  {
   "cell_type": "code",
   "execution_count": null,
   "metadata": {
    "id": "f-p3gY9puWnq"
   },
   "outputs": [],
   "source": [
    "import folium"
   ]
  },
  {
   "cell_type": "code",
   "execution_count": null,
   "metadata": {
    "colab": {
     "base_uri": "https://localhost:8080/",
     "height": 163
    },
    "executionInfo": {
     "elapsed": 1031,
     "status": "error",
     "timestamp": 1620324171653,
     "user": {
      "displayName": "mukesh kiran",
      "photoUrl": "https://lh3.googleusercontent.com/a-/AOh14GjpVg0Q2SlnyyoVNUSbxKazDjdehaPGXIEaysPDxUk=s64",
      "userId": "14410148232412860016"
     },
     "user_tz": -330
    },
    "id": "VRbgmynw2GFF",
    "outputId": "76c6620c-2968-47ea-c347-bd838efaae83"
   },
   "outputs": [
    {
     "ename": "TypeError",
     "evalue": "ignored",
     "output_type": "error",
     "traceback": [
      "\u001b[0;31m---------------------------------------------------------------------------\u001b[0m",
      "\u001b[0;31mTypeError\u001b[0m                                 Traceback (most recent call last)",
      "\u001b[0;32m<ipython-input-82-4d1a40571093>\u001b[0m in \u001b[0;36m<module>\u001b[0;34m()\u001b[0m\n\u001b[0;32m----> 1\u001b[0;31m \u001b[0mfolium\u001b[0m\u001b[0;34m.\u001b[0m\u001b[0mmap\u001b[0m\u001b[0;34m(\u001b[0m\u001b[0mlocation\u001b[0m\u001b[0;34m=\u001b[0m\u001b[0;34m'India'\u001b[0m\u001b[0;34m)\u001b[0m\u001b[0;34m\u001b[0m\u001b[0;34m\u001b[0m\u001b[0m\n\u001b[0m",
      "\u001b[0;31mTypeError\u001b[0m: 'module' object is not callable"
     ]
    }
   ],
   "source": [
    "folium.map(location='India')"
   ]
  },
  {
   "cell_type": "code",
   "execution_count": null,
   "metadata": {
    "colab": {
     "base_uri": "https://localhost:8080/",
     "height": 408
    },
    "executionInfo": {
     "elapsed": 856,
     "status": "error",
     "timestamp": 1620327712883,
     "user": {
      "displayName": "mukesh kiran",
      "photoUrl": "https://lh3.googleusercontent.com/a-/AOh14GjpVg0Q2SlnyyoVNUSbxKazDjdehaPGXIEaysPDxUk=s64",
      "userId": "14410148232412860016"
     },
     "user_tz": -330
    },
    "id": "Cy_uRtob2LtW",
    "outputId": "2ea56834-5f4b-43ef-aaab-b6ae1785a854"
   },
   "outputs": [
    {
     "ename": "RecursionError",
     "evalue": "ignored",
     "output_type": "error",
     "traceback": [
      "\u001b[0;31m---------------------------------------------------------------------------\u001b[0m",
      "\u001b[0;31mRecursionError\u001b[0m                            Traceback (most recent call last)",
      "\u001b[0;32m<ipython-input-143-96ccfd64612e>\u001b[0m in \u001b[0;36m<module>\u001b[0;34m()\u001b[0m\n\u001b[1;32m     13\u001b[0m         \u001b[0mtooltip\u001b[0m \u001b[0;34m=\u001b[0m \u001b[0msales_citywise\u001b[0m\u001b[0;34m.\u001b[0m\u001b[0mCity\u001b[0m\u001b[0;34m.\u001b[0m\u001b[0mvalues\u001b[0m\u001b[0;34m[\u001b[0m\u001b[0mi\u001b[0m\u001b[0;34m]\u001b[0m\u001b[0;34m,\u001b[0m\u001b[0;34m\u001b[0m\u001b[0;34m\u001b[0m\u001b[0m\n\u001b[1;32m     14\u001b[0m         \u001b[0mcolor\u001b[0m\u001b[0;34m=\u001b[0m\u001b[0;34m\"red\"\u001b[0m\u001b[0;34m,\u001b[0m\u001b[0;34m\u001b[0m\u001b[0;34m\u001b[0m\u001b[0m\n\u001b[0;32m---> 15\u001b[0;31m         \u001b[0mfill_color\u001b[0m\u001b[0;34m=\u001b[0m\u001b[0;34m\"black\"\u001b[0m\u001b[0;34m\u001b[0m\u001b[0;34m\u001b[0m\u001b[0m\n\u001b[0m\u001b[1;32m     16\u001b[0m     ).add_to(m)\n\u001b[1;32m     17\u001b[0m \u001b[0;34m\u001b[0m\u001b[0m\n",
      "\u001b[0;32m/usr/local/lib/python3.7/dist-packages/folium/vector_layers.py\u001b[0m in \u001b[0;36m__init__\u001b[0;34m(self, location, radius, popup, tooltip, **kwargs)\u001b[0m\n\u001b[1;32m    309\u001b[0m     \u001b[0;32mdef\u001b[0m \u001b[0m__init__\u001b[0m\u001b[0;34m(\u001b[0m\u001b[0mself\u001b[0m\u001b[0;34m,\u001b[0m \u001b[0mlocation\u001b[0m\u001b[0;34m,\u001b[0m \u001b[0mradius\u001b[0m\u001b[0;34m=\u001b[0m\u001b[0;36m10\u001b[0m\u001b[0;34m,\u001b[0m \u001b[0mpopup\u001b[0m\u001b[0;34m=\u001b[0m\u001b[0;32mNone\u001b[0m\u001b[0;34m,\u001b[0m \u001b[0mtooltip\u001b[0m\u001b[0;34m=\u001b[0m\u001b[0;32mNone\u001b[0m\u001b[0;34m,\u001b[0m \u001b[0;34m**\u001b[0m\u001b[0mkwargs\u001b[0m\u001b[0;34m)\u001b[0m\u001b[0;34m:\u001b[0m\u001b[0;34m\u001b[0m\u001b[0;34m\u001b[0m\u001b[0m\n\u001b[1;32m    310\u001b[0m         super(CircleMarker, self).__init__(location=location, popup=popup,\n\u001b[0;32m--> 311\u001b[0;31m                                            tooltip=tooltip)\n\u001b[0m\u001b[1;32m    312\u001b[0m         \u001b[0mself\u001b[0m\u001b[0;34m.\u001b[0m\u001b[0m_name\u001b[0m \u001b[0;34m=\u001b[0m \u001b[0;34m'CircleMarker'\u001b[0m\u001b[0;34m\u001b[0m\u001b[0;34m\u001b[0m\u001b[0m\n\u001b[1;32m    313\u001b[0m         \u001b[0mself\u001b[0m\u001b[0;34m.\u001b[0m\u001b[0moptions\u001b[0m \u001b[0;34m=\u001b[0m \u001b[0m_parse_options\u001b[0m\u001b[0;34m(\u001b[0m\u001b[0mline\u001b[0m\u001b[0;34m=\u001b[0m\u001b[0;32mFalse\u001b[0m\u001b[0;34m,\u001b[0m \u001b[0mradius\u001b[0m\u001b[0;34m=\u001b[0m\u001b[0mradius\u001b[0m\u001b[0;34m,\u001b[0m \u001b[0;34m**\u001b[0m\u001b[0mkwargs\u001b[0m\u001b[0;34m)\u001b[0m\u001b[0;34m\u001b[0m\u001b[0;34m\u001b[0m\u001b[0m\n",
      "\u001b[0;32m/usr/local/lib/python3.7/dist-packages/folium/map.py\u001b[0m in \u001b[0;36m__init__\u001b[0;34m(self, location, popup, tooltip, icon, draggable)\u001b[0m\n\u001b[1;32m    256\u001b[0m         \u001b[0msuper\u001b[0m\u001b[0;34m(\u001b[0m\u001b[0mMarker\u001b[0m\u001b[0;34m,\u001b[0m \u001b[0mself\u001b[0m\u001b[0;34m)\u001b[0m\u001b[0;34m.\u001b[0m\u001b[0m__init__\u001b[0m\u001b[0;34m(\u001b[0m\u001b[0;34m)\u001b[0m\u001b[0;34m\u001b[0m\u001b[0;34m\u001b[0m\u001b[0m\n\u001b[1;32m    257\u001b[0m         \u001b[0mself\u001b[0m\u001b[0;34m.\u001b[0m\u001b[0m_name\u001b[0m \u001b[0;34m=\u001b[0m \u001b[0;34m'Marker'\u001b[0m\u001b[0;34m\u001b[0m\u001b[0;34m\u001b[0m\u001b[0m\n\u001b[0;32m--> 258\u001b[0;31m         \u001b[0mself\u001b[0m\u001b[0;34m.\u001b[0m\u001b[0mlocation\u001b[0m \u001b[0;34m=\u001b[0m \u001b[0m_validate_coordinates\u001b[0m\u001b[0;34m(\u001b[0m\u001b[0mlocation\u001b[0m\u001b[0;34m)\u001b[0m\u001b[0;34m\u001b[0m\u001b[0;34m\u001b[0m\u001b[0m\n\u001b[0m\u001b[1;32m    259\u001b[0m         \u001b[0mself\u001b[0m\u001b[0;34m.\u001b[0m\u001b[0mdraggable\u001b[0m \u001b[0;34m=\u001b[0m \u001b[0mdraggable\u001b[0m\u001b[0;34m\u001b[0m\u001b[0;34m\u001b[0m\u001b[0m\n\u001b[1;32m    260\u001b[0m         \u001b[0;32mif\u001b[0m \u001b[0micon\u001b[0m \u001b[0;32mis\u001b[0m \u001b[0;32mnot\u001b[0m \u001b[0;32mNone\u001b[0m\u001b[0;34m:\u001b[0m\u001b[0;34m\u001b[0m\u001b[0;34m\u001b[0m\u001b[0m\n",
      "\u001b[0;32m/usr/local/lib/python3.7/dist-packages/folium/utilities.py\u001b[0m in \u001b[0;36m_validate_coordinates\u001b[0;34m(coordinates)\u001b[0m\n\u001b[1;32m     51\u001b[0m \u001b[0;32mdef\u001b[0m \u001b[0m_validate_coordinates\u001b[0m\u001b[0;34m(\u001b[0m\u001b[0mcoordinates\u001b[0m\u001b[0;34m)\u001b[0m\u001b[0;34m:\u001b[0m\u001b[0;34m\u001b[0m\u001b[0;34m\u001b[0m\u001b[0m\n\u001b[1;32m     52\u001b[0m     \u001b[0;34m\"\"\"Validates multiple coordinates for the various markers in folium.\"\"\"\u001b[0m\u001b[0;34m\u001b[0m\u001b[0;34m\u001b[0m\u001b[0m\n\u001b[0;32m---> 53\u001b[0;31m     \u001b[0;32mif\u001b[0m \u001b[0m_isnan\u001b[0m\u001b[0;34m(\u001b[0m\u001b[0mcoordinates\u001b[0m\u001b[0;34m)\u001b[0m\u001b[0;34m:\u001b[0m\u001b[0;34m\u001b[0m\u001b[0;34m\u001b[0m\u001b[0m\n\u001b[0m\u001b[1;32m     54\u001b[0m         raise ValueError('Location values cannot contain NaNs, '\n\u001b[1;32m     55\u001b[0m                          'got:\\n{!r}'.format(coordinates))\n",
      "\u001b[0;32m/usr/local/lib/python3.7/dist-packages/folium/utilities.py\u001b[0m in \u001b[0;36m_isnan\u001b[0;34m(values)\u001b[0m\n\u001b[1;32m     77\u001b[0m \u001b[0;32mdef\u001b[0m \u001b[0m_isnan\u001b[0m\u001b[0;34m(\u001b[0m\u001b[0mvalues\u001b[0m\u001b[0;34m)\u001b[0m\u001b[0;34m:\u001b[0m\u001b[0;34m\u001b[0m\u001b[0;34m\u001b[0m\u001b[0m\n\u001b[1;32m     78\u001b[0m     \u001b[0;34m\"\"\"Check if there are NaNs values in the iterable.\"\"\"\u001b[0m\u001b[0;34m\u001b[0m\u001b[0;34m\u001b[0m\u001b[0m\n\u001b[0;32m---> 79\u001b[0;31m     \u001b[0;32mreturn\u001b[0m \u001b[0many\u001b[0m\u001b[0;34m(\u001b[0m\u001b[0mmath\u001b[0m\u001b[0;34m.\u001b[0m\u001b[0misnan\u001b[0m\u001b[0;34m(\u001b[0m\u001b[0mvalue\u001b[0m\u001b[0;34m)\u001b[0m \u001b[0;32mfor\u001b[0m \u001b[0mvalue\u001b[0m \u001b[0;32min\u001b[0m \u001b[0m_flatten\u001b[0m\u001b[0;34m(\u001b[0m\u001b[0mvalues\u001b[0m\u001b[0;34m)\u001b[0m\u001b[0;34m)\u001b[0m\u001b[0;34m\u001b[0m\u001b[0;34m\u001b[0m\u001b[0m\n\u001b[0m\u001b[1;32m     80\u001b[0m \u001b[0;34m\u001b[0m\u001b[0m\n\u001b[1;32m     81\u001b[0m \u001b[0;34m\u001b[0m\u001b[0m\n",
      "\u001b[0;32m/usr/local/lib/python3.7/dist-packages/folium/utilities.py\u001b[0m in \u001b[0;36m<genexpr>\u001b[0;34m(.0)\u001b[0m\n\u001b[1;32m     77\u001b[0m \u001b[0;32mdef\u001b[0m \u001b[0m_isnan\u001b[0m\u001b[0;34m(\u001b[0m\u001b[0mvalues\u001b[0m\u001b[0;34m)\u001b[0m\u001b[0;34m:\u001b[0m\u001b[0;34m\u001b[0m\u001b[0;34m\u001b[0m\u001b[0m\n\u001b[1;32m     78\u001b[0m     \u001b[0;34m\"\"\"Check if there are NaNs values in the iterable.\"\"\"\u001b[0m\u001b[0;34m\u001b[0m\u001b[0;34m\u001b[0m\u001b[0m\n\u001b[0;32m---> 79\u001b[0;31m     \u001b[0;32mreturn\u001b[0m \u001b[0many\u001b[0m\u001b[0;34m(\u001b[0m\u001b[0mmath\u001b[0m\u001b[0;34m.\u001b[0m\u001b[0misnan\u001b[0m\u001b[0;34m(\u001b[0m\u001b[0mvalue\u001b[0m\u001b[0;34m)\u001b[0m \u001b[0;32mfor\u001b[0m \u001b[0mvalue\u001b[0m \u001b[0;32min\u001b[0m \u001b[0m_flatten\u001b[0m\u001b[0;34m(\u001b[0m\u001b[0mvalues\u001b[0m\u001b[0;34m)\u001b[0m\u001b[0;34m)\u001b[0m\u001b[0;34m\u001b[0m\u001b[0;34m\u001b[0m\u001b[0m\n\u001b[0m\u001b[1;32m     80\u001b[0m \u001b[0;34m\u001b[0m\u001b[0m\n\u001b[1;32m     81\u001b[0m \u001b[0;34m\u001b[0m\u001b[0m\n",
      "\u001b[0;32m/usr/local/lib/python3.7/dist-packages/folium/utilities.py\u001b[0m in \u001b[0;36m_flatten\u001b[0;34m(container)\u001b[0m\n\u001b[1;32m     69\u001b[0m     \u001b[0;32mfor\u001b[0m \u001b[0mi\u001b[0m \u001b[0;32min\u001b[0m \u001b[0mcontainer\u001b[0m\u001b[0;34m:\u001b[0m\u001b[0;34m\u001b[0m\u001b[0;34m\u001b[0m\u001b[0m\n\u001b[1;32m     70\u001b[0m         \u001b[0;32mif\u001b[0m \u001b[0m_is_sized_iterable\u001b[0m\u001b[0;34m(\u001b[0m\u001b[0mi\u001b[0m\u001b[0;34m)\u001b[0m\u001b[0;34m:\u001b[0m\u001b[0;34m\u001b[0m\u001b[0;34m\u001b[0m\u001b[0m\n\u001b[0;32m---> 71\u001b[0;31m             \u001b[0;32mfor\u001b[0m \u001b[0mj\u001b[0m \u001b[0;32min\u001b[0m \u001b[0m_flatten\u001b[0m\u001b[0;34m(\u001b[0m\u001b[0mi\u001b[0m\u001b[0;34m)\u001b[0m\u001b[0;34m:\u001b[0m\u001b[0;34m\u001b[0m\u001b[0;34m\u001b[0m\u001b[0m\n\u001b[0m\u001b[1;32m     72\u001b[0m                 \u001b[0;32myield\u001b[0m \u001b[0mj\u001b[0m\u001b[0;34m\u001b[0m\u001b[0;34m\u001b[0m\u001b[0m\n\u001b[1;32m     73\u001b[0m         \u001b[0;32melse\u001b[0m\u001b[0;34m:\u001b[0m\u001b[0;34m\u001b[0m\u001b[0;34m\u001b[0m\u001b[0m\n",
      "... last 1 frames repeated, from the frame below ...\n",
      "\u001b[0;32m/usr/local/lib/python3.7/dist-packages/folium/utilities.py\u001b[0m in \u001b[0;36m_flatten\u001b[0;34m(container)\u001b[0m\n\u001b[1;32m     69\u001b[0m     \u001b[0;32mfor\u001b[0m \u001b[0mi\u001b[0m \u001b[0;32min\u001b[0m \u001b[0mcontainer\u001b[0m\u001b[0;34m:\u001b[0m\u001b[0;34m\u001b[0m\u001b[0;34m\u001b[0m\u001b[0m\n\u001b[1;32m     70\u001b[0m         \u001b[0;32mif\u001b[0m \u001b[0m_is_sized_iterable\u001b[0m\u001b[0;34m(\u001b[0m\u001b[0mi\u001b[0m\u001b[0;34m)\u001b[0m\u001b[0;34m:\u001b[0m\u001b[0;34m\u001b[0m\u001b[0;34m\u001b[0m\u001b[0m\n\u001b[0;32m---> 71\u001b[0;31m             \u001b[0;32mfor\u001b[0m \u001b[0mj\u001b[0m \u001b[0;32min\u001b[0m \u001b[0m_flatten\u001b[0m\u001b[0;34m(\u001b[0m\u001b[0mi\u001b[0m\u001b[0;34m)\u001b[0m\u001b[0;34m:\u001b[0m\u001b[0;34m\u001b[0m\u001b[0;34m\u001b[0m\u001b[0m\n\u001b[0m\u001b[1;32m     72\u001b[0m                 \u001b[0;32myield\u001b[0m \u001b[0mj\u001b[0m\u001b[0;34m\u001b[0m\u001b[0;34m\u001b[0m\u001b[0m\n\u001b[1;32m     73\u001b[0m         \u001b[0;32melse\u001b[0m\u001b[0;34m:\u001b[0m\u001b[0;34m\u001b[0m\u001b[0;34m\u001b[0m\u001b[0m\n",
      "\u001b[0;31mRecursionError\u001b[0m: maximum recursion depth exceeded in comparison"
     ]
    }
   ],
   "source": [
    "# center_lat = state_wise_census.mean().Latitude\n",
    "# center_long = state_wise_census.mean().Longitude\n",
    "\n",
    "m = folium.Map(location=[20.5937, 78.9629], zoom_start=4.5)\n",
    "\n",
    "for i in range(0,22):\n",
    "\n",
    "    \n",
    "    folium.CircleMarker(\n",
    "        location=[sales_citywise.Lat.values[i], sales_citywise.Long.values[i]],\n",
    "        radius = float(sales_citywise[\"unit_sales\"].values[i]/1e6),\n",
    "        popup=\"sales 2019 : %s\"%sales_citywise[\"unit_sales\"].values[i],\n",
    "        tooltip = sales_citywise.City.values[i],\n",
    "        color=\"red\",\n",
    "        fill_color=\"black\"\n",
    "    ).add_to(m)\n",
    "\n",
    "m"
   ]
  },
  {
   "cell_type": "code",
   "execution_count": null,
   "metadata": {
    "colab": {
     "base_uri": "https://localhost:8080/"
    },
    "executionInfo": {
     "elapsed": 753,
     "status": "ok",
     "timestamp": 1620327381085,
     "user": {
      "displayName": "mukesh kiran",
      "photoUrl": "https://lh3.googleusercontent.com/a-/AOh14GjpVg0Q2SlnyyoVNUSbxKazDjdehaPGXIEaysPDxUk=s64",
      "userId": "14410148232412860016"
     },
     "user_tz": -330
    },
    "id": "fwgRkGju268R",
    "outputId": "5a4ed6e9-7a26-4942-bb41-1c33bec6d9f0"
   },
   "outputs": [
    {
     "data": {
      "text/plain": [
       "[0, 1, 2, 3, 4, 5, 6, 7, 8, 9, 10, 11, 12, 13, 14, 15, 16, 17, 18, 19, 20, 21]"
      ]
     },
     "execution_count": 135,
     "metadata": {
      "tags": []
     },
     "output_type": "execute_result"
    }
   ],
   "source": [
    "list(range(0,22))"
   ]
  },
  {
   "cell_type": "code",
   "execution_count": null,
   "metadata": {
    "colab": {
     "base_uri": "https://localhost:8080/"
    },
    "executionInfo": {
     "elapsed": 790,
     "status": "ok",
     "timestamp": 1620327558721,
     "user": {
      "displayName": "mukesh kiran",
      "photoUrl": "https://lh3.googleusercontent.com/a-/AOh14GjpVg0Q2SlnyyoVNUSbxKazDjdehaPGXIEaysPDxUk=s64",
      "userId": "14410148232412860016"
     },
     "user_tz": -330
    },
    "id": "1xRHLqNlCY1h",
    "outputId": "dde33aea-79e1-43ee-f297-39082dfd2848"
   },
   "outputs": [
    {
     "name": "stdout",
     "output_type": "stream",
     "text": [
      "1000\n"
     ]
    }
   ],
   "source": [
    "import sys\n",
    "print(sys.getrecursionlimit())"
   ]
  },
  {
   "cell_type": "code",
   "execution_count": null,
   "metadata": {
    "id": "x1CGltcIDGsG"
   },
   "outputs": [],
   "source": []
  }
 ],
 "metadata": {
  "colab": {
   "authorship_tag": "ABX9TyOe/YKmsgg74oWbxsyemQe1",
   "name": "Spatial_visualizations.ipynb",
   "provenance": []
  },
  "kernelspec": {
   "display_name": "Python 3",
   "language": "python",
   "name": "python3"
  },
  "language_info": {
   "codemirror_mode": {
    "name": "ipython",
    "version": 3
   },
   "file_extension": ".py",
   "mimetype": "text/x-python",
   "name": "python",
   "nbconvert_exporter": "python",
   "pygments_lexer": "ipython3",
   "version": "3.7.6"
  }
 },
 "nbformat": 4,
 "nbformat_minor": 1
}
