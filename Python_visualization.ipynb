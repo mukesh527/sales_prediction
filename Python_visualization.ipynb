{
 "cells": [
  {
   "cell_type": "code",
   "execution_count": 1,
   "metadata": {
    "executionInfo": {
     "elapsed": 1777,
     "status": "ok",
     "timestamp": 1620221798746,
     "user": {
      "displayName": "mukesh kiran",
      "photoUrl": "https://lh3.googleusercontent.com/a-/AOh14GjpVg0Q2SlnyyoVNUSbxKazDjdehaPGXIEaysPDxUk=s64",
      "userId": "14410148232412860016"
     },
     "user_tz": -330
    },
    "id": "oyfNU4ihQW9M"
   },
   "outputs": [],
   "source": [
    "import pandas as pd\n",
    "import numpy as np\n",
    "import seaborn as sns"
   ]
  },
  {
   "cell_type": "code",
   "execution_count": 2,
   "metadata": {
    "colab": {
     "base_uri": "https://localhost:8080/"
    },
    "executionInfo": {
     "elapsed": 4910,
     "status": "ok",
     "timestamp": 1620206658567,
     "user": {
      "displayName": "mukesh kiran",
      "photoUrl": "https://lh3.googleusercontent.com/a-/AOh14GjpVg0Q2SlnyyoVNUSbxKazDjdehaPGXIEaysPDxUk=s64",
      "userId": "14410148232412860016"
     },
     "user_tz": -330
    },
    "id": "HBu3KnidoGsa",
    "outputId": "f786d3d5-17ab-4e48-dd89-238e3013fb20"
   },
   "outputs": [
    {
     "name": "stdout",
     "output_type": "stream",
     "text": [
      "Requirement already satisfied: geopandas in /usr/local/lib/python3.7/dist-packages (0.9.0)\n",
      "Requirement already satisfied: pyproj>=2.2.0 in /usr/local/lib/python3.7/dist-packages (from geopandas) (3.0.1)\n",
      "Requirement already satisfied: fiona>=1.8 in /usr/local/lib/python3.7/dist-packages (from geopandas) (1.8.19)\n",
      "Requirement already satisfied: shapely>=1.6 in /usr/local/lib/python3.7/dist-packages (from geopandas) (1.7.1)\n",
      "Requirement already satisfied: pandas>=0.24.0 in /usr/local/lib/python3.7/dist-packages (from geopandas) (1.1.5)\n",
      "Requirement already satisfied: certifi in /usr/local/lib/python3.7/dist-packages (from pyproj>=2.2.0->geopandas) (2020.12.5)\n",
      "Requirement already satisfied: six>=1.7 in /usr/local/lib/python3.7/dist-packages (from fiona>=1.8->geopandas) (1.15.0)\n",
      "Requirement already satisfied: click-plugins>=1.0 in /usr/local/lib/python3.7/dist-packages (from fiona>=1.8->geopandas) (1.1.1)\n",
      "Requirement already satisfied: click<8,>=4.0 in /usr/local/lib/python3.7/dist-packages (from fiona>=1.8->geopandas) (7.1.2)\n",
      "Requirement already satisfied: munch in /usr/local/lib/python3.7/dist-packages (from fiona>=1.8->geopandas) (2.5.0)\n",
      "Requirement already satisfied: cligj>=0.5 in /usr/local/lib/python3.7/dist-packages (from fiona>=1.8->geopandas) (0.7.1)\n",
      "Requirement already satisfied: attrs>=17 in /usr/local/lib/python3.7/dist-packages (from fiona>=1.8->geopandas) (20.3.0)\n",
      "Requirement already satisfied: python-dateutil>=2.7.3 in /usr/local/lib/python3.7/dist-packages (from pandas>=0.24.0->geopandas) (2.8.1)\n",
      "Requirement already satisfied: pytz>=2017.2 in /usr/local/lib/python3.7/dist-packages (from pandas>=0.24.0->geopandas) (2018.9)\n",
      "Requirement already satisfied: numpy>=1.15.4 in /usr/local/lib/python3.7/dist-packages (from pandas>=0.24.0->geopandas) (1.19.5)\n"
     ]
    }
   ],
   "source": [
    "!pip install geopandas"
   ]
  },
  {
   "cell_type": "code",
   "execution_count": 2,
   "metadata": {
    "colab": {
     "base_uri": "https://localhost:8080/"
    },
    "executionInfo": {
     "elapsed": 1152,
     "status": "ok",
     "timestamp": 1620221801295,
     "user": {
      "displayName": "mukesh kiran",
      "photoUrl": "https://lh3.googleusercontent.com/a-/AOh14GjpVg0Q2SlnyyoVNUSbxKazDjdehaPGXIEaysPDxUk=s64",
      "userId": "14410148232412860016"
     },
     "user_tz": -330
    },
    "id": "zDTl6IyWQf6l",
    "outputId": "f2ced514-618c-466f-c305-433e02218149"
   },
   "outputs": [
    {
     "name": "stdout",
     "output_type": "stream",
     "text": [
      "Drive already mounted at /content/drive; to attempt to forcibly remount, call drive.mount(\"/content/drive\", force_remount=True).\n"
     ]
    }
   ],
   "source": [
    "from google.colab import drive\n",
    "drive.mount('/content/drive')"
   ]
  },
  {
   "cell_type": "code",
   "execution_count": 3,
   "metadata": {
    "executionInfo": {
     "elapsed": 18288,
     "status": "ok",
     "timestamp": 1620221820504,
     "user": {
      "displayName": "mukesh kiran",
      "photoUrl": "https://lh3.googleusercontent.com/a-/AOh14GjpVg0Q2SlnyyoVNUSbxKazDjdehaPGXIEaysPDxUk=s64",
      "userId": "14410148232412860016"
     },
     "user_tz": -330
    },
    "id": "lad3Wh-gQE69"
   },
   "outputs": [],
   "source": [
    "test=pd.read_csv('/content/drive/MyDrive/Final_Hack/test.csv')\n",
    "location=pd.read_csv('/content/drive/MyDrive/Final_Hack/location_details.csv')\n",
    "item_id=pd.read_csv('/content/drive/MyDrive/Final_Hack/item_details.csv')\n",
    "transaction_train=pd.read_csv('/content/drive/MyDrive/Final_Hack/train_transactions.csv')"
   ]
  },
  {
   "cell_type": "code",
   "execution_count": 4,
   "metadata": {
    "executionInfo": {
     "elapsed": 22764,
     "status": "ok",
     "timestamp": 1620221825919,
     "user": {
      "displayName": "mukesh kiran",
      "photoUrl": "https://lh3.googleusercontent.com/a-/AOh14GjpVg0Q2SlnyyoVNUSbxKazDjdehaPGXIEaysPDxUk=s64",
      "userId": "14410148232412860016"
     },
     "user_tz": -330
    },
    "id": "b_DBjWj6Qdth"
   },
   "outputs": [],
   "source": [
    "test_merge=pd.merge(test,location,left_on='locationId',right_on='location_id',how='left')"
   ]
  },
  {
   "cell_type": "code",
   "execution_count": 6,
   "metadata": {
    "colab": {
     "base_uri": "https://localhost:8080/",
     "height": 204
    },
    "executionInfo": {
     "elapsed": 1390,
     "status": "ok",
     "timestamp": 1620221916974,
     "user": {
      "displayName": "mukesh kiran",
      "photoUrl": "https://lh3.googleusercontent.com/a-/AOh14GjpVg0Q2SlnyyoVNUSbxKazDjdehaPGXIEaysPDxUk=s64",
      "userId": "14410148232412860016"
     },
     "user_tz": -330
    },
    "id": "dyvn7L-5RQG7",
    "outputId": "424255ec-5af3-487b-fddd-fb4224063f95"
   },
   "outputs": [
    {
     "data": {
      "text/html": [
       "<div>\n",
       "<style scoped>\n",
       "    .dataframe tbody tr th:only-of-type {\n",
       "        vertical-align: middle;\n",
       "    }\n",
       "\n",
       "    .dataframe tbody tr th {\n",
       "        vertical-align: top;\n",
       "    }\n",
       "\n",
       "    .dataframe thead th {\n",
       "        text-align: right;\n",
       "    }\n",
       "</style>\n",
       "<table border=\"1\" class=\"dataframe\">\n",
       "  <thead>\n",
       "    <tr style=\"text-align: right;\">\n",
       "      <th></th>\n",
       "      <th>id</th>\n",
       "      <th>date</th>\n",
       "      <th>locationId</th>\n",
       "      <th>item_id</th>\n",
       "      <th>onpromotion</th>\n",
       "      <th>location_id</th>\n",
       "      <th>city</th>\n",
       "      <th>state</th>\n",
       "      <th>type</th>\n",
       "      <th>cluster</th>\n",
       "    </tr>\n",
       "  </thead>\n",
       "  <tbody>\n",
       "    <tr>\n",
       "      <th>0</th>\n",
       "      <td>0</td>\n",
       "      <td>2019-01-01</td>\n",
       "      <td>location_25</td>\n",
       "      <td>item_99197</td>\n",
       "      <td>False</td>\n",
       "      <td>location_25</td>\n",
       "      <td>Kanpur</td>\n",
       "      <td>Uttar Pradesh</td>\n",
       "      <td>D</td>\n",
       "      <td>1</td>\n",
       "    </tr>\n",
       "    <tr>\n",
       "      <th>1</th>\n",
       "      <td>1</td>\n",
       "      <td>2019-01-01</td>\n",
       "      <td>location_25</td>\n",
       "      <td>item_103665</td>\n",
       "      <td>False</td>\n",
       "      <td>location_25</td>\n",
       "      <td>Kanpur</td>\n",
       "      <td>Uttar Pradesh</td>\n",
       "      <td>D</td>\n",
       "      <td>1</td>\n",
       "    </tr>\n",
       "    <tr>\n",
       "      <th>2</th>\n",
       "      <td>2</td>\n",
       "      <td>2019-01-01</td>\n",
       "      <td>location_25</td>\n",
       "      <td>item_105574</td>\n",
       "      <td>False</td>\n",
       "      <td>location_25</td>\n",
       "      <td>Kanpur</td>\n",
       "      <td>Uttar Pradesh</td>\n",
       "      <td>D</td>\n",
       "      <td>1</td>\n",
       "    </tr>\n",
       "    <tr>\n",
       "      <th>3</th>\n",
       "      <td>3</td>\n",
       "      <td>2019-01-01</td>\n",
       "      <td>location_25</td>\n",
       "      <td>item_105857</td>\n",
       "      <td>False</td>\n",
       "      <td>location_25</td>\n",
       "      <td>Kanpur</td>\n",
       "      <td>Uttar Pradesh</td>\n",
       "      <td>D</td>\n",
       "      <td>1</td>\n",
       "    </tr>\n",
       "    <tr>\n",
       "      <th>4</th>\n",
       "      <td>4</td>\n",
       "      <td>2019-01-01</td>\n",
       "      <td>location_25</td>\n",
       "      <td>item_106716</td>\n",
       "      <td>False</td>\n",
       "      <td>location_25</td>\n",
       "      <td>Kanpur</td>\n",
       "      <td>Uttar Pradesh</td>\n",
       "      <td>D</td>\n",
       "      <td>1</td>\n",
       "    </tr>\n",
       "  </tbody>\n",
       "</table>\n",
       "</div>"
      ],
      "text/plain": [
       "   id        date   locationId  ...          state  type cluster\n",
       "0   0  2019-01-01  location_25  ...  Uttar Pradesh     D       1\n",
       "1   1  2019-01-01  location_25  ...  Uttar Pradesh     D       1\n",
       "2   2  2019-01-01  location_25  ...  Uttar Pradesh     D       1\n",
       "3   3  2019-01-01  location_25  ...  Uttar Pradesh     D       1\n",
       "4   4  2019-01-01  location_25  ...  Uttar Pradesh     D       1\n",
       "\n",
       "[5 rows x 10 columns]"
      ]
     },
     "execution_count": 6,
     "metadata": {
      "tags": []
     },
     "output_type": "execute_result"
    }
   ],
   "source": [
    "test_merge.head()"
   ]
  },
  {
   "cell_type": "code",
   "execution_count": 7,
   "metadata": {
    "executionInfo": {
     "elapsed": 13240,
     "status": "ok",
     "timestamp": 1620221935307,
     "user": {
      "displayName": "mukesh kiran",
      "photoUrl": "https://lh3.googleusercontent.com/a-/AOh14GjpVg0Q2SlnyyoVNUSbxKazDjdehaPGXIEaysPDxUk=s64",
      "userId": "14410148232412860016"
     },
     "user_tz": -330
    },
    "id": "1g9mV1DKRTu5"
   },
   "outputs": [],
   "source": [
    "test_merge=pd.merge(test_merge,item_id,left_on='item_id',right_on='item_id',how='left')"
   ]
  },
  {
   "cell_type": "code",
   "execution_count": 8,
   "metadata": {
    "colab": {
     "base_uri": "https://localhost:8080/"
    },
    "executionInfo": {
     "elapsed": 930,
     "status": "ok",
     "timestamp": 1620221938135,
     "user": {
      "displayName": "mukesh kiran",
      "photoUrl": "https://lh3.googleusercontent.com/a-/AOh14GjpVg0Q2SlnyyoVNUSbxKazDjdehaPGXIEaysPDxUk=s64",
      "userId": "14410148232412860016"
     },
     "user_tz": -330
    },
    "id": "E8RxnnBoRqWS",
    "outputId": "7fadf10a-879e-4b38-dbc3-385c916faa2e"
   },
   "outputs": [
    {
     "data": {
      "text/plain": [
       "id                   int64\n",
       "date                object\n",
       "locationId          object\n",
       "item_id             object\n",
       "onpromotion           bool\n",
       "location_id         object\n",
       "city                object\n",
       "state               object\n",
       "type                object\n",
       "cluster              int64\n",
       "category_of_item    object\n",
       "class               object\n",
       "perishable           int64\n",
       "dtype: object"
      ]
     },
     "execution_count": 8,
     "metadata": {
      "tags": []
     },
     "output_type": "execute_result"
    }
   ],
   "source": [
    "test_merge.dtypes"
   ]
  },
  {
   "cell_type": "code",
   "execution_count": 9,
   "metadata": {
    "executionInfo": {
     "elapsed": 16896,
     "status": "ok",
     "timestamp": 1620221958458,
     "user": {
      "displayName": "mukesh kiran",
      "photoUrl": "https://lh3.googleusercontent.com/a-/AOh14GjpVg0Q2SlnyyoVNUSbxKazDjdehaPGXIEaysPDxUk=s64",
      "userId": "14410148232412860016"
     },
     "user_tz": -330
    },
    "id": "03E6m5I32I-h"
   },
   "outputs": [],
   "source": [
    "test_merge['date']=pd.to_datetime(test_merge['date'])\n",
    "test_merge['locationId']=test_merge['locationId'].astype('category')\n",
    "test_merge['item_id']=test_merge['item_id'].astype('category')\n",
    "test_merge['onpromotion']=test_merge['onpromotion'].astype('category')\n",
    "test_merge['city']=test_merge['city'].astype('category')\n",
    "test_merge['state']=test_merge['state'].astype('category')\n",
    "test_merge['type']=test_merge['type'].astype('category')\n",
    "test_merge['cluster']=test_merge['cluster'].astype('category')\n",
    "test_merge['category_of_item']=test_merge['category_of_item'].astype('category')\n",
    "test_merge['class']=test_merge['class'].astype('category')\n",
    "test_merge['perishable']=test_merge['perishable'].astype('category')"
   ]
  },
  {
   "cell_type": "code",
   "execution_count": 10,
   "metadata": {
    "executionInfo": {
     "elapsed": 1178,
     "status": "ok",
     "timestamp": 1620221968312,
     "user": {
      "displayName": "mukesh kiran",
      "photoUrl": "https://lh3.googleusercontent.com/a-/AOh14GjpVg0Q2SlnyyoVNUSbxKazDjdehaPGXIEaysPDxUk=s64",
      "userId": "14410148232412860016"
     },
     "user_tz": -330
    },
    "id": "wolyYNzf3t6g"
   },
   "outputs": [],
   "source": [
    "test_merge.drop('location_id',axis=1,inplace=True)"
   ]
  },
  {
   "cell_type": "code",
   "execution_count": 11,
   "metadata": {
    "executionInfo": {
     "elapsed": 7252,
     "status": "ok",
     "timestamp": 1620221977442,
     "user": {
      "displayName": "mukesh kiran",
      "photoUrl": "https://lh3.googleusercontent.com/a-/AOh14GjpVg0Q2SlnyyoVNUSbxKazDjdehaPGXIEaysPDxUk=s64",
      "userId": "14410148232412860016"
     },
     "user_tz": -330
    },
    "id": "hrlOg_VRR4gb"
   },
   "outputs": [],
   "source": [
    "#prediction\n",
    "pred=pd.read_csv('/content/drive/MyDrive/Final_Hack/submission_ANN_TargetEncoder_AllData.csv')"
   ]
  },
  {
   "cell_type": "code",
   "execution_count": 12,
   "metadata": {
    "executionInfo": {
     "elapsed": 14900,
     "status": "ok",
     "timestamp": 1620221993115,
     "user": {
      "displayName": "mukesh kiran",
      "photoUrl": "https://lh3.googleusercontent.com/a-/AOh14GjpVg0Q2SlnyyoVNUSbxKazDjdehaPGXIEaysPDxUk=s64",
      "userId": "14410148232412860016"
     },
     "user_tz": -330
    },
    "id": "Z6vUpy9pSMAw"
   },
   "outputs": [],
   "source": [
    "predictions=pd.merge(test_merge,pred,left_on='id',right_on='id',how='left')"
   ]
  },
  {
   "cell_type": "code",
   "execution_count": 13,
   "metadata": {
    "colab": {
     "base_uri": "https://localhost:8080/"
    },
    "executionInfo": {
     "elapsed": 1383,
     "status": "ok",
     "timestamp": 1620221997768,
     "user": {
      "displayName": "mukesh kiran",
      "photoUrl": "https://lh3.googleusercontent.com/a-/AOh14GjpVg0Q2SlnyyoVNUSbxKazDjdehaPGXIEaysPDxUk=s64",
      "userId": "14410148232412860016"
     },
     "user_tz": -330
    },
    "id": "U7DpVOuJ4AwA",
    "outputId": "0140cf76-66e9-44a3-ddcc-6a65c4fb90b0"
   },
   "outputs": [
    {
     "data": {
      "text/plain": [
       "id                           int64\n",
       "date                datetime64[ns]\n",
       "locationId                category\n",
       "item_id                   category\n",
       "onpromotion               category\n",
       "city                      category\n",
       "state                     category\n",
       "type                      category\n",
       "cluster                   category\n",
       "category_of_item          category\n",
       "class                     category\n",
       "perishable                category\n",
       "unit_sales                 float64\n",
       "dtype: object"
      ]
     },
     "execution_count": 13,
     "metadata": {
      "tags": []
     },
     "output_type": "execute_result"
    }
   ],
   "source": [
    "predictions.dtypes"
   ]
  },
  {
   "cell_type": "code",
   "execution_count": 14,
   "metadata": {
    "executionInfo": {
     "elapsed": 11544,
     "status": "ok",
     "timestamp": 1620222014606,
     "user": {
      "displayName": "mukesh kiran",
      "photoUrl": "https://lh3.googleusercontent.com/a-/AOh14GjpVg0Q2SlnyyoVNUSbxKazDjdehaPGXIEaysPDxUk=s64",
      "userId": "14410148232412860016"
     },
     "user_tz": -330
    },
    "id": "f4-yTqgRSkY6"
   },
   "outputs": [],
   "source": [
    "predictions=pd.merge(predictions,item_id[['item_id','perishable']],left_on='item_id',right_on='item_id',how='left')\n"
   ]
  },
  {
   "cell_type": "code",
   "execution_count": 161,
   "metadata": {
    "colab": {
     "base_uri": "https://localhost:8080/",
     "height": 173
    },
    "executionInfo": {
     "elapsed": 1013,
     "status": "ok",
     "timestamp": 1620238435801,
     "user": {
      "displayName": "mukesh kiran",
      "photoUrl": "https://lh3.googleusercontent.com/a-/AOh14GjpVg0Q2SlnyyoVNUSbxKazDjdehaPGXIEaysPDxUk=s64",
      "userId": "14410148232412860016"
     },
     "user_tz": -330
    },
    "id": "r_hC6ElxvF9s",
    "outputId": "a48d91b4-84d6-47da-abca-71f85914fe44"
   },
   "outputs": [
    {
     "data": {
      "text/html": [
       "<div>\n",
       "<style scoped>\n",
       "    .dataframe tbody tr th:only-of-type {\n",
       "        vertical-align: middle;\n",
       "    }\n",
       "\n",
       "    .dataframe tbody tr th {\n",
       "        vertical-align: top;\n",
       "    }\n",
       "\n",
       "    .dataframe thead th {\n",
       "        text-align: right;\n",
       "    }\n",
       "</style>\n",
       "<table border=\"1\" class=\"dataframe\">\n",
       "  <thead>\n",
       "    <tr style=\"text-align: right;\">\n",
       "      <th></th>\n",
       "      <th>id</th>\n",
       "      <th>date</th>\n",
       "      <th>locationId</th>\n",
       "      <th>item_id</th>\n",
       "      <th>onpromotion</th>\n",
       "      <th>city</th>\n",
       "      <th>state</th>\n",
       "      <th>type</th>\n",
       "      <th>cluster</th>\n",
       "      <th>category_of_item</th>\n",
       "      <th>class</th>\n",
       "      <th>perishable_x</th>\n",
       "      <th>unit_sales</th>\n",
       "      <th>perishable_y</th>\n",
       "    </tr>\n",
       "  </thead>\n",
       "  <tbody>\n",
       "    <tr>\n",
       "      <th>0</th>\n",
       "      <td>0</td>\n",
       "      <td>2019-01-01</td>\n",
       "      <td>location_25</td>\n",
       "      <td>item_99197</td>\n",
       "      <td>False</td>\n",
       "      <td>Kanpur</td>\n",
       "      <td>Uttar Pradesh</td>\n",
       "      <td>D</td>\n",
       "      <td>1</td>\n",
       "      <td>grocery_items</td>\n",
       "      <td>class_1067</td>\n",
       "      <td>0</td>\n",
       "      <td>1.999582</td>\n",
       "      <td>0</td>\n",
       "    </tr>\n",
       "    <tr>\n",
       "      <th>1</th>\n",
       "      <td>1</td>\n",
       "      <td>2019-01-01</td>\n",
       "      <td>location_25</td>\n",
       "      <td>item_103665</td>\n",
       "      <td>False</td>\n",
       "      <td>Kanpur</td>\n",
       "      <td>Uttar Pradesh</td>\n",
       "      <td>D</td>\n",
       "      <td>1</td>\n",
       "      <td>baked_items / bread_based</td>\n",
       "      <td>class_2712</td>\n",
       "      <td>1</td>\n",
       "      <td>2.204405</td>\n",
       "      <td>1</td>\n",
       "    </tr>\n",
       "    <tr>\n",
       "      <th>2</th>\n",
       "      <td>2</td>\n",
       "      <td>2019-01-01</td>\n",
       "      <td>location_25</td>\n",
       "      <td>item_105574</td>\n",
       "      <td>False</td>\n",
       "      <td>Kanpur</td>\n",
       "      <td>Uttar Pradesh</td>\n",
       "      <td>D</td>\n",
       "      <td>1</td>\n",
       "      <td>grocery_items</td>\n",
       "      <td>class_1045</td>\n",
       "      <td>0</td>\n",
       "      <td>6.419739</td>\n",
       "      <td>0</td>\n",
       "    </tr>\n",
       "    <tr>\n",
       "      <th>3</th>\n",
       "      <td>3</td>\n",
       "      <td>2019-01-01</td>\n",
       "      <td>location_25</td>\n",
       "      <td>item_105857</td>\n",
       "      <td>False</td>\n",
       "      <td>Kanpur</td>\n",
       "      <td>Uttar Pradesh</td>\n",
       "      <td>D</td>\n",
       "      <td>1</td>\n",
       "      <td>grocery_items</td>\n",
       "      <td>class_1092</td>\n",
       "      <td>0</td>\n",
       "      <td>2.854343</td>\n",
       "      <td>0</td>\n",
       "    </tr>\n",
       "  </tbody>\n",
       "</table>\n",
       "</div>"
      ],
      "text/plain": [
       "   id       date   locationId  ... perishable_x unit_sales perishable_y\n",
       "0   0 2019-01-01  location_25  ...            0   1.999582            0\n",
       "1   1 2019-01-01  location_25  ...            1   2.204405            1\n",
       "2   2 2019-01-01  location_25  ...            0   6.419739            0\n",
       "3   3 2019-01-01  location_25  ...            0   2.854343            0\n",
       "\n",
       "[4 rows x 14 columns]"
      ]
     },
     "execution_count": 161,
     "metadata": {
      "tags": []
     },
     "output_type": "execute_result"
    }
   ],
   "source": [
    "predictions.head(4)"
   ]
  },
  {
   "cell_type": "code",
   "execution_count": 160,
   "metadata": {
    "executionInfo": {
     "elapsed": 301201,
     "status": "ok",
     "timestamp": 1620238277028,
     "user": {
      "displayName": "mukesh kiran",
      "photoUrl": "https://lh3.googleusercontent.com/a-/AOh14GjpVg0Q2SlnyyoVNUSbxKazDjdehaPGXIEaysPDxUk=s64",
      "userId": "14410148232412860016"
     },
     "user_tz": -330
    },
    "id": "eg4AAfwStEL9"
   },
   "outputs": [],
   "source": [
    "predictions.to_csv('/content/drive/MyDrive/Final_Hack/submission_result.csv')"
   ]
  },
  {
   "cell_type": "markdown",
   "metadata": {
    "id": "vpO6rRN8wiim"
   },
   "source": [
    "## Cluster 14 is forecasted to have highest sales in the year 2019"
   ]
  },
  {
   "cell_type": "code",
   "execution_count": 115,
   "metadata": {
    "colab": {
     "base_uri": "https://localhost:8080/",
     "height": 204
    },
    "executionInfo": {
     "elapsed": 1637,
     "status": "ok",
     "timestamp": 1620233930812,
     "user": {
      "displayName": "mukesh kiran",
      "photoUrl": "https://lh3.googleusercontent.com/a-/AOh14GjpVg0Q2SlnyyoVNUSbxKazDjdehaPGXIEaysPDxUk=s64",
      "userId": "14410148232412860016"
     },
     "user_tz": -330
    },
    "id": "y-buLQ-tToz0",
    "outputId": "824bd2e1-0bf0-4b24-93c7-c693d2929bb7"
   },
   "outputs": [
    {
     "data": {
      "text/html": [
       "<div>\n",
       "<style scoped>\n",
       "    .dataframe tbody tr th:only-of-type {\n",
       "        vertical-align: middle;\n",
       "    }\n",
       "\n",
       "    .dataframe tbody tr th {\n",
       "        vertical-align: top;\n",
       "    }\n",
       "\n",
       "    .dataframe thead th {\n",
       "        text-align: right;\n",
       "    }\n",
       "</style>\n",
       "<table border=\"1\" class=\"dataframe\">\n",
       "  <thead>\n",
       "    <tr style=\"text-align: right;\">\n",
       "      <th></th>\n",
       "      <th>cluster</th>\n",
       "      <th>type</th>\n",
       "      <th>unit_sales</th>\n",
       "    </tr>\n",
       "  </thead>\n",
       "  <tbody>\n",
       "    <tr>\n",
       "      <th>0</th>\n",
       "      <td>14</td>\n",
       "      <td>A</td>\n",
       "      <td>1.480909e+07</td>\n",
       "    </tr>\n",
       "    <tr>\n",
       "      <th>1</th>\n",
       "      <td>6</td>\n",
       "      <td>B</td>\n",
       "      <td>1.186330e+07</td>\n",
       "    </tr>\n",
       "    <tr>\n",
       "      <th>2</th>\n",
       "      <td>8</td>\n",
       "      <td>D</td>\n",
       "      <td>1.001325e+07</td>\n",
       "    </tr>\n",
       "    <tr>\n",
       "      <th>3</th>\n",
       "      <td>11</td>\n",
       "      <td>A</td>\n",
       "      <td>8.471095e+06</td>\n",
       "    </tr>\n",
       "    <tr>\n",
       "      <th>4</th>\n",
       "      <td>13</td>\n",
       "      <td>D</td>\n",
       "      <td>8.269585e+06</td>\n",
       "    </tr>\n",
       "  </tbody>\n",
       "</table>\n",
       "</div>"
      ],
      "text/plain": [
       "  cluster type    unit_sales\n",
       "0      14    A  1.480909e+07\n",
       "1       6    B  1.186330e+07\n",
       "2       8    D  1.001325e+07\n",
       "3      11    A  8.471095e+06\n",
       "4      13    D  8.269585e+06"
      ]
     },
     "execution_count": 115,
     "metadata": {
      "tags": []
     },
     "output_type": "execute_result"
    }
   ],
   "source": [
    "sales_cluster=predictions.groupby(['cluster','type'])['unit_sales'].sum().sort_values(ascending=False).to_frame().reset_index()\n",
    "#print('Highest Sales can be observed in cluster %d with unit sales of %f'%(sales_cluster.index[0],sales_cluster.iloc[0,0]))\n",
    "\n",
    "sales_cluster.head()"
   ]
  },
  {
   "cell_type": "code",
   "execution_count": 159,
   "metadata": {
    "colab": {
     "base_uri": "https://localhost:8080/",
     "height": 381
    },
    "executionInfo": {
     "elapsed": 3078,
     "status": "ok",
     "timestamp": 1620237855455,
     "user": {
      "displayName": "mukesh kiran",
      "photoUrl": "https://lh3.googleusercontent.com/a-/AOh14GjpVg0Q2SlnyyoVNUSbxKazDjdehaPGXIEaysPDxUk=s64",
      "userId": "14410148232412860016"
     },
     "user_tz": -330
    },
    "id": "EBvmw_lxwq78",
    "outputId": "2f371026-1a10-4b41-dc2f-461b48c89b16"
   },
   "outputs": [
    {
     "data": {
      "image/png": "[encoded data removed]",
      "text/plain": [
       "<Figure size 2880x720 with 1 Axes>"
      ]
     },
     "metadata": {
      "tags": []
     },
     "output_type": "display_data"
    }
   ],
   "source": [
    "import matplotlib.pyplot as plt\n",
    "sns.set_theme(style=\"white\", context=\"talk\")\n",
    "\n",
    "\n",
    "# Set up the matplotlib figure\n",
    "f, (ax) = plt.subplots(1, 1, figsize=(40, 10), sharex=True)\n",
    "\n",
    "# Generate some sequential data\n",
    "x = sales_cluster.cluster\n",
    "y = sales_cluster.unit_sales\n",
    "sns.barplot(x=x, y=y, hue=sales_cluster.type, ax=ax)\n",
    "sns.lineplot(x=x,y=sales_cluster.unit_sales.mean(),ax=ax)\n",
    "ax.axhline(0, color=\"k\", clip_on=False)\n",
    "ax.set_ylabel(\"sales\")\n",
    "ax.annotate('Average mean sales', xy=(1, 5150000), xytext=(4, 14809085.432446),\n",
    "            arrowprops=dict(facecolor='black', shrink=0.05))\n",
    "# Finalize the plot\n",
    "sns.despine(bottom=True)\n",
    "plt.setp(f.axes, yticks=[1000000,10000000])\n",
    "plt.tight_layout(h_pad=2)\n"
   ]
  },
  {
   "cell_type": "markdown",
   "metadata": {
    "id": "2OcCFPFzs2hg"
   },
   "source": [
    "## Type D business will be having highest sales in 2019"
   ]
  },
  {
   "cell_type": "code",
   "execution_count": 15,
   "metadata": {
    "colab": {
     "base_uri": "https://localhost:8080/",
     "height": 352
    },
    "executionInfo": {
     "elapsed": 1016,
     "status": "ok",
     "timestamp": 1620219962629,
     "user": {
      "displayName": "mukesh kiran",
      "photoUrl": "https://lh3.googleusercontent.com/a-/AOh14GjpVg0Q2SlnyyoVNUSbxKazDjdehaPGXIEaysPDxUk=s64",
      "userId": "14410148232412860016"
     },
     "user_tz": -330
    },
    "id": "IOHFBmYhrDjK",
    "outputId": "fed4eb75-218d-40ac-efb2-9bf702ac4b57"
   },
   "outputs": [
    {
     "data": {
      "image/png": "[encoded data removed]",
      "text/plain": [
       "<Figure size 504x360 with 1 Axes>"
      ]
     },
     "metadata": {
      "tags": []
     },
     "output_type": "display_data"
    }
   ],
   "source": [
    "import matplotlib.pyplot as plt\n",
    "sns.set_theme(style=\"white\", context=\"talk\")\n",
    "\n",
    "\n",
    "# Set up the matplotlib figure\n",
    "f, (ax) = plt.subplots(1, 1, figsize=(7, 5), sharex=True)\n",
    "\n",
    "# Generate some sequential data\n",
    "x = sales_type.index\n",
    "y = sales_type.unit_sales\n",
    "sns.barplot(x=x, y=y, palette=\"rocket\", ax=ax)\n",
    "ax.axhline(0, color=\"k\", clip_on=False)\n",
    "ax.set_ylabel(\"sales\")\n",
    "\n",
    "# Finalize the plot\n",
    "sns.despine(bottom=True)\n",
    "plt.setp(f.axes, yticks=[1000000,10000000])\n",
    "plt.tight_layout(h_pad=2)"
   ]
  },
  {
   "cell_type": "markdown",
   "metadata": {
    "id": "eucrTRNkZZQB"
   },
   "source": [
    "# Business units that can have highest sales"
   ]
  },
  {
   "cell_type": "code",
   "execution_count": 84,
   "metadata": {
    "executionInfo": {
     "elapsed": 3396,
     "status": "ok",
     "timestamp": 1620231216002,
     "user": {
      "displayName": "mukesh kiran",
      "photoUrl": "https://lh3.googleusercontent.com/a-/AOh14GjpVg0Q2SlnyyoVNUSbxKazDjdehaPGXIEaysPDxUk=s64",
      "userId": "14410148232412860016"
     },
     "user_tz": -330
    },
    "id": "NlIzUP5hVMHK"
   },
   "outputs": [],
   "source": [
    "#Cluster with highest sales for type A\n",
    "type_A=predictions.loc[predictions['type']=='A',['cluster','unit_sales']]\n",
    "tA=type_A.groupby('cluster')['unit_sales'].sum().sort_values(ascending=False).to_frame()\n",
    "#Cluster with highest sales for type B\n",
    "type_B=predictions.loc[predictions['type']=='B',['cluster','unit_sales']]\n",
    "tB=type_B.groupby('cluster')['unit_sales'].sum().sort_values(ascending=False).to_frame()\n",
    "#Cluster with highest sales for type C\n",
    "type_C=predictions.loc[predictions['type']=='C',['cluster','unit_sales']]\n",
    "tC=type_C.groupby('cluster')['unit_sales'].sum().sort_values(ascending=False).to_frame()\n",
    "#Cluster with highest sales for type D\n",
    "type_D=predictions.loc[predictions['type']=='D',['cluster','unit_sales']]\n",
    "tD=type_D.groupby('cluster')['unit_sales'].sum().sort_values(ascending=False).to_frame()\n",
    "#Cluster with highest sales for type E\n",
    "type_E=predictions.loc[predictions['type']=='E',['cluster','unit_sales']]\n",
    "tE=type_E.groupby('cluster')['unit_sales'].sum().sort_values(ascending=False).to_frame()\n",
    "\n"
   ]
  },
  {
   "cell_type": "code",
   "execution_count": 99,
   "metadata": {
    "colab": {
     "base_uri": "https://localhost:8080/",
     "height": 712
    },
    "executionInfo": {
     "elapsed": 4267,
     "status": "ok",
     "timestamp": 1620232594421,
     "user": {
      "displayName": "mukesh kiran",
      "photoUrl": "https://lh3.googleusercontent.com/a-/AOh14GjpVg0Q2SlnyyoVNUSbxKazDjdehaPGXIEaysPDxUk=s64",
      "userId": "14410148232412860016"
     },
     "user_tz": -330
    },
    "id": "m3p2QO4yTVoR",
    "outputId": "3184b84c-762c-4734-c388-d5e4df51acfa"
   },
   "outputs": [
    {
     "data": {
      "image/png": "[encoded data removed]",
      "text/plain": [
       "<Figure size 720x720 with 5 Axes>"
      ]
     },
     "metadata": {
      "tags": []
     },
     "output_type": "display_data"
    }
   ],
   "source": [
    "#Plot for each business types\n",
    "\n",
    "sns.set_theme(style=\"white\", context=\"talk\")\n",
    "rs = np.random.RandomState(8)\n",
    "\n",
    "# Set up the matplotlib figure\n",
    "f, (ax1, ax2, ax3,ax4,ax5) = plt.subplots(5, 1, figsize=(10, 10), sharex=True)\n",
    "\n",
    "# Generate some sequential data\n",
    "x1 = tA.index\n",
    "y1 = tA.unit_sales\n",
    "sns.barplot(x=x1, y=y1, palette=\"rocket\", ax=ax1)\n",
    "ax1.axhline(0, color=\"k\", clip_on=False)\n",
    "ax1.set_ylabel(\"Sales\")\n",
    "ax1.set_xlabel('Type A Business Unit')\n",
    "\n",
    "# Center the data to make it diverging\n",
    "x2 = tB.index\n",
    "y2 = tB.unit_sales\n",
    "sns.barplot(x=x2, y=y2, palette=\"vlag\", ax=ax2)\n",
    "ax2.axhline(0, color=\"k\", clip_on=False)\n",
    "ax2.set_ylabel(\"Sales\")\n",
    "ax2.set_xlabel('Type B Business Unit')\n",
    "\n",
    "# Randomly reorder the data to make it qualitative\n",
    "x3 = tC.index\n",
    "y3 = tC.unit_sales\n",
    "sns.barplot(x=x3, y=y3, palette=\"deep\", ax=ax3)\n",
    "ax3.axhline(0, color=\"k\", clip_on=False)\n",
    "ax3.set_ylabel(\"Sales\")\n",
    "ax3.set_xlabel('Type C Business Unit')\n",
    "\n",
    "x4 = tD.index\n",
    "y4 = tD.unit_sales\n",
    "sns.barplot(x=x4, y=y4, palette=\"deep\", ax=ax4)\n",
    "ax4.axhline(0, color=\"k\", clip_on=False)\n",
    "ax4.set_ylabel(\"Sales\")\n",
    "ax4.set_xlabel('Type D Business Unit')\n",
    "\n",
    "\n",
    "x5 = tE.index\n",
    "y5 = tE.unit_sales\n",
    "sns.barplot(x=x5, y=y5, palette=\"deep\", ax=ax5)\n",
    "ax5.axhline(0, color=\"k\", clip_on=False)\n",
    "ax5.set_ylabel(\"Sales\")\n",
    "ax5.set_xlabel('Type E Business Unit')\n",
    "\n",
    "# Finalize the plot\n",
    "sns.despine(bottom=False)\n",
    "plt.setp(f.axes, yticks=[])\n",
    "plt.tight_layout(h_pad=3)"
   ]
  },
  {
   "cell_type": "code",
   "execution_count": 108,
   "metadata": {
    "colab": {
     "base_uri": "https://localhost:8080/",
     "height": 204
    },
    "executionInfo": {
     "elapsed": 1118,
     "status": "ok",
     "timestamp": 1620233426281,
     "user": {
      "displayName": "mukesh kiran",
      "photoUrl": "https://lh3.googleusercontent.com/a-/AOh14GjpVg0Q2SlnyyoVNUSbxKazDjdehaPGXIEaysPDxUk=s64",
      "userId": "14410148232412860016"
     },
     "user_tz": -330
    },
    "id": "S9zb1Ox7aRQV",
    "outputId": "c454d8fa-0874-4776-9f15-dfe7ef655e5d"
   },
   "outputs": [
    {
     "data": {
      "text/html": [
       "<div>\n",
       "<style scoped>\n",
       "    .dataframe tbody tr th:only-of-type {\n",
       "        vertical-align: middle;\n",
       "    }\n",
       "\n",
       "    .dataframe tbody tr th {\n",
       "        vertical-align: top;\n",
       "    }\n",
       "\n",
       "    .dataframe thead th {\n",
       "        text-align: right;\n",
       "    }\n",
       "</style>\n",
       "<table border=\"1\" class=\"dataframe\">\n",
       "  <thead>\n",
       "    <tr style=\"text-align: right;\">\n",
       "      <th></th>\n",
       "      <th>clusters</th>\n",
       "      <th>unit_sales</th>\n",
       "      <th>type</th>\n",
       "    </tr>\n",
       "  </thead>\n",
       "  <tbody>\n",
       "    <tr>\n",
       "      <th>0</th>\n",
       "      <td>14</td>\n",
       "      <td>1.480909e+07</td>\n",
       "      <td>A</td>\n",
       "    </tr>\n",
       "    <tr>\n",
       "      <th>1</th>\n",
       "      <td>6</td>\n",
       "      <td>1.186330e+07</td>\n",
       "      <td>B</td>\n",
       "    </tr>\n",
       "    <tr>\n",
       "      <th>2</th>\n",
       "      <td>3</td>\n",
       "      <td>7.934208e+06</td>\n",
       "      <td>C</td>\n",
       "    </tr>\n",
       "    <tr>\n",
       "      <th>3</th>\n",
       "      <td>8</td>\n",
       "      <td>1.001325e+07</td>\n",
       "      <td>D</td>\n",
       "    </tr>\n",
       "    <tr>\n",
       "      <th>4</th>\n",
       "      <td>10</td>\n",
       "      <td>6.440766e+06</td>\n",
       "      <td>E</td>\n",
       "    </tr>\n",
       "  </tbody>\n",
       "</table>\n",
       "</div>"
      ],
      "text/plain": [
       "   clusters    unit_sales type\n",
       "0        14  1.480909e+07    A\n",
       "1         6  1.186330e+07    B\n",
       "2         3  7.934208e+06    C\n",
       "3         8  1.001325e+07    D\n",
       "4        10  6.440766e+06    E"
      ]
     },
     "execution_count": 108,
     "metadata": {
      "tags": []
     },
     "output_type": "execute_result"
    }
   ],
   "source": [
    "Top_clusters=pd.DataFrame({'clusters':[tA.index[0],tB.index[0],tC.index[0],tD.index[0],tE.index[0]],'unit_sales':[tA.unit_sales[0],tB.unit_sales[0],tC.unit_sales[0],tD.unit_sales[0],tE.unit_sales[0]],'type':list('ABCDE')})\n",
    "Top_clusters"
   ]
  },
  {
   "cell_type": "code",
   "execution_count": 150,
   "metadata": {
    "colab": {
     "base_uri": "https://localhost:8080/",
     "height": 390
    },
    "executionInfo": {
     "elapsed": 1628,
     "status": "ok",
     "timestamp": 1620236896324,
     "user": {
      "displayName": "mukesh kiran",
      "photoUrl": "https://lh3.googleusercontent.com/a-/AOh14GjpVg0Q2SlnyyoVNUSbxKazDjdehaPGXIEaysPDxUk=s64",
      "userId": "14410148232412860016"
     },
     "user_tz": -330
    },
    "id": "BmpIzUiMX2-8",
    "outputId": "f39590fb-6345-4cfa-c7df-0a6b6b52a641"
   },
   "outputs": [
    {
     "data": {
      "text/html": [
       "<div>\n",
       "<style scoped>\n",
       "    .dataframe tbody tr th:only-of-type {\n",
       "        vertical-align: middle;\n",
       "    }\n",
       "\n",
       "    .dataframe tbody tr th {\n",
       "        vertical-align: top;\n",
       "    }\n",
       "\n",
       "    .dataframe thead th {\n",
       "        text-align: right;\n",
       "    }\n",
       "</style>\n",
       "<table border=\"1\" class=\"dataframe\">\n",
       "  <thead>\n",
       "    <tr style=\"text-align: right;\">\n",
       "      <th></th>\n",
       "      <th>unit_sales</th>\n",
       "      <th>percentage</th>\n",
       "    </tr>\n",
       "    <tr>\n",
       "      <th>item_id</th>\n",
       "      <th></th>\n",
       "      <th></th>\n",
       "    </tr>\n",
       "  </thead>\n",
       "  <tbody>\n",
       "    <tr>\n",
       "      <th>item_582864</th>\n",
       "      <td>16638.297815</td>\n",
       "      <td>0.112352</td>\n",
       "    </tr>\n",
       "    <tr>\n",
       "      <th>item_502331</th>\n",
       "      <td>16137.034357</td>\n",
       "      <td>0.108967</td>\n",
       "    </tr>\n",
       "    <tr>\n",
       "      <th>item_364606</th>\n",
       "      <td>15699.151284</td>\n",
       "      <td>0.106010</td>\n",
       "    </tr>\n",
       "    <tr>\n",
       "      <th>item_305080</th>\n",
       "      <td>15621.522282</td>\n",
       "      <td>0.105486</td>\n",
       "    </tr>\n",
       "    <tr>\n",
       "      <th>item_305229</th>\n",
       "      <td>15198.092508</td>\n",
       "      <td>0.102627</td>\n",
       "    </tr>\n",
       "    <tr>\n",
       "      <th>item_265559</th>\n",
       "      <td>14616.883135</td>\n",
       "      <td>0.098702</td>\n",
       "    </tr>\n",
       "    <tr>\n",
       "      <th>item_584028</th>\n",
       "      <td>14472.326527</td>\n",
       "      <td>0.097726</td>\n",
       "    </tr>\n",
       "    <tr>\n",
       "      <th>item_564533</th>\n",
       "      <td>14331.991880</td>\n",
       "      <td>0.096778</td>\n",
       "    </tr>\n",
       "    <tr>\n",
       "      <th>item_314384</th>\n",
       "      <td>14291.314811</td>\n",
       "      <td>0.096504</td>\n",
       "    </tr>\n",
       "    <tr>\n",
       "      <th>item_1333307</th>\n",
       "      <td>13851.000456</td>\n",
       "      <td>0.093530</td>\n",
       "    </tr>\n",
       "  </tbody>\n",
       "</table>\n",
       "</div>"
      ],
      "text/plain": [
       "                unit_sales  percentage\n",
       "item_id                               \n",
       "item_582864   16638.297815    0.112352\n",
       "item_502331   16137.034357    0.108967\n",
       "item_364606   15699.151284    0.106010\n",
       "item_305080   15621.522282    0.105486\n",
       "item_305229   15198.092508    0.102627\n",
       "item_265559   14616.883135    0.098702\n",
       "item_584028   14472.326527    0.097726\n",
       "item_564533   14331.991880    0.096778\n",
       "item_314384   14291.314811    0.096504\n",
       "item_1333307  13851.000456    0.093530"
      ]
     },
     "execution_count": 150,
     "metadata": {
      "tags": []
     },
     "output_type": "execute_result"
    }
   ],
   "source": [
    "item_predictions=predictions.loc[predictions['cluster']==14,['item_id','unit_sales']]\n",
    "item_sales=item_predictions.groupby('item_id')['unit_sales'].sum().to_frame().sort_values('unit_sales',ascending=False)\n",
    "item_sales['percentage']=(item_sales['unit_sales']/item_sales.unit_sales.sum())*100\n",
    "item_sales.head(10)"
   ]
  },
  {
   "cell_type": "code",
   "execution_count": 17,
   "metadata": {
    "executionInfo": {
     "elapsed": 3319,
     "status": "ok",
     "timestamp": 1620220064373,
     "user": {
      "displayName": "mukesh kiran",
      "photoUrl": "https://lh3.googleusercontent.com/a-/AOh14GjpVg0Q2SlnyyoVNUSbxKazDjdehaPGXIEaysPDxUk=s64",
      "userId": "14410148232412860016"
     },
     "user_tz": -330
    },
    "id": "SCv4jJ8bpA8W"
   },
   "outputs": [],
   "source": [
    "import mapclassify"
   ]
  },
  {
   "cell_type": "code",
   "execution_count": 63,
   "metadata": {
    "colab": {
     "base_uri": "https://localhost:8080/"
    },
    "executionInfo": {
     "elapsed": 2443,
     "status": "ok",
     "timestamp": 1620206204876,
     "user": {
      "displayName": "mukesh kiran",
      "photoUrl": "https://lh3.googleusercontent.com/a-/AOh14GjpVg0Q2SlnyyoVNUSbxKazDjdehaPGXIEaysPDxUk=s64",
      "userId": "14410148232412860016"
     },
     "user_tz": -330
    },
    "id": "bz9UIsmUYgnY",
    "outputId": "6b6b098f-e3fc-4732-afae-facd715b1964"
   },
   "outputs": [
    {
     "data": {
      "text/plain": [
       "array(['Uttar Pradesh', 'Karnataka', 'NCR', 'West Bengal', 'Chimborazo',\n",
       "       'Gujarat', 'Madhya Pradesh', 'Haryana', 'Maharashtra',\n",
       "       'Tamil Nadu', 'Andhra Pradesh', 'Telangana', 'Bihar'], dtype=object)"
      ]
     },
     "execution_count": 63,
     "metadata": {
      "tags": []
     },
     "output_type": "execute_result"
    }
   ],
   "source": [
    "predictions['state'].unique()"
   ]
  },
  {
   "cell_type": "code",
   "execution_count": 18,
   "metadata": {
    "executionInfo": {
     "elapsed": 2062,
     "status": "ok",
     "timestamp": 1620220106599,
     "user": {
      "displayName": "mukesh kiran",
      "photoUrl": "https://lh3.googleusercontent.com/a-/AOh14GjpVg0Q2SlnyyoVNUSbxKazDjdehaPGXIEaysPDxUk=s64",
      "userId": "14410148232412860016"
     },
     "user_tz": -330
    },
    "id": "BaefOxievpLs"
   },
   "outputs": [],
   "source": [
    "import geopandas as gpd\n",
    "states=gpd.read_file('/content/drive/MyDrive/Final_Hack/india_administrative_state_boundary/india_administrative_state_boundary.shp')"
   ]
  },
  {
   "cell_type": "code",
   "execution_count": 19,
   "metadata": {
    "colab": {
     "base_uri": "https://localhost:8080/",
     "height": 204
    },
    "executionInfo": {
     "elapsed": 1593,
     "status": "ok",
     "timestamp": 1620220109923,
     "user": {
      "displayName": "mukesh kiran",
      "photoUrl": "https://lh3.googleusercontent.com/a-/AOh14GjpVg0Q2SlnyyoVNUSbxKazDjdehaPGXIEaysPDxUk=s64",
      "userId": "14410148232412860016"
     },
     "user_tz": -330
    },
    "id": "n-3RT82n0Ssp",
    "outputId": "b51c088d-bfcc-4e1f-831f-11bd01aea45b"
   },
   "outputs": [
    {
     "data": {
      "text/html": [
       "<div>\n",
       "<style scoped>\n",
       "    .dataframe tbody tr th:only-of-type {\n",
       "        vertical-align: middle;\n",
       "    }\n",
       "\n",
       "    .dataframe tbody tr th {\n",
       "        vertical-align: top;\n",
       "    }\n",
       "\n",
       "    .dataframe thead th {\n",
       "        text-align: right;\n",
       "    }\n",
       "</style>\n",
       "<table border=\"1\" class=\"dataframe\">\n",
       "  <thead>\n",
       "    <tr style=\"text-align: right;\">\n",
       "      <th></th>\n",
       "      <th>gid</th>\n",
       "      <th>st_nm</th>\n",
       "      <th>tid</th>\n",
       "      <th>territory_</th>\n",
       "      <th>geometry</th>\n",
       "    </tr>\n",
       "  </thead>\n",
       "  <tbody>\n",
       "    <tr>\n",
       "      <th>0</th>\n",
       "      <td>1</td>\n",
       "      <td>Andaman &amp; Nicobar Island</td>\n",
       "      <td>None</td>\n",
       "      <td>None</td>\n",
       "      <td>MULTIPOLYGON (((93.71976 7.20707, 93.71909 7.2...</td>\n",
       "    </tr>\n",
       "    <tr>\n",
       "      <th>1</th>\n",
       "      <td>2</td>\n",
       "      <td>Arunanchal Pradesh</td>\n",
       "      <td>None</td>\n",
       "      <td>None</td>\n",
       "      <td>POLYGON ((96.16261 29.38078, 96.16860 29.37432...</td>\n",
       "    </tr>\n",
       "    <tr>\n",
       "      <th>2</th>\n",
       "      <td>3</td>\n",
       "      <td>Assam</td>\n",
       "      <td>None</td>\n",
       "      <td>None</td>\n",
       "      <td>MULTIPOLYGON (((89.74323 26.30362, 89.74290 26...</td>\n",
       "    </tr>\n",
       "    <tr>\n",
       "      <th>3</th>\n",
       "      <td>4</td>\n",
       "      <td>Bihar</td>\n",
       "      <td>None</td>\n",
       "      <td>None</td>\n",
       "      <td>MULTIPOLYGON (((84.50720 24.26323, 84.50355 24...</td>\n",
       "    </tr>\n",
       "    <tr>\n",
       "      <th>4</th>\n",
       "      <td>5</td>\n",
       "      <td>Chandigarh</td>\n",
       "      <td>None</td>\n",
       "      <td>None</td>\n",
       "      <td>POLYGON ((76.84147 30.75996, 76.83599 30.73623...</td>\n",
       "    </tr>\n",
       "  </tbody>\n",
       "</table>\n",
       "</div>"
      ],
      "text/plain": [
       "   gid  ...                                           geometry\n",
       "0    1  ...  MULTIPOLYGON (((93.71976 7.20707, 93.71909 7.2...\n",
       "1    2  ...  POLYGON ((96.16261 29.38078, 96.16860 29.37432...\n",
       "2    3  ...  MULTIPOLYGON (((89.74323 26.30362, 89.74290 26...\n",
       "3    4  ...  MULTIPOLYGON (((84.50720 24.26323, 84.50355 24...\n",
       "4    5  ...  POLYGON ((76.84147 30.75996, 76.83599 30.73623...\n",
       "\n",
       "[5 rows x 5 columns]"
      ]
     },
     "execution_count": 19,
     "metadata": {
      "tags": []
     },
     "output_type": "execute_result"
    }
   ],
   "source": [
    "states.head()"
   ]
  },
  {
   "cell_type": "code",
   "execution_count": 25,
   "metadata": {
    "executionInfo": {
     "elapsed": 1950,
     "status": "ok",
     "timestamp": 1620220368947,
     "user": {
      "displayName": "mukesh kiran",
      "photoUrl": "https://lh3.googleusercontent.com/a-/AOh14GjpVg0Q2SlnyyoVNUSbxKazDjdehaPGXIEaysPDxUk=s64",
      "userId": "14410148232412860016"
     },
     "user_tz": -330
    },
    "id": "gI0JYXri0gmx"
   },
   "outputs": [],
   "source": [
    "geolocations=pd.read_csv('/content/drive/MyDrive/Final_Hack/geolocations.csv')"
   ]
  },
  {
   "cell_type": "code",
   "execution_count": 26,
   "metadata": {
    "executionInfo": {
     "elapsed": 724,
     "status": "ok",
     "timestamp": 1620220370383,
     "user": {
      "displayName": "mukesh kiran",
      "photoUrl": "https://lh3.googleusercontent.com/a-/AOh14GjpVg0Q2SlnyyoVNUSbxKazDjdehaPGXIEaysPDxUk=s64",
      "userId": "14410148232412860016"
     },
     "user_tz": -330
    },
    "id": "Di_mMUbC0nAk"
   },
   "outputs": [],
   "source": [
    "geolocations['state']=geolocations['Address'].str.split(',').str[-1]"
   ]
  },
  {
   "cell_type": "code",
   "execution_count": 30,
   "metadata": {
    "colab": {
     "base_uri": "https://localhost:8080/",
     "height": 607
    },
    "executionInfo": {
     "elapsed": 1088,
     "status": "ok",
     "timestamp": 1620220726598,
     "user": {
      "displayName": "mukesh kiran",
      "photoUrl": "https://lh3.googleusercontent.com/a-/AOh14GjpVg0Q2SlnyyoVNUSbxKazDjdehaPGXIEaysPDxUk=s64",
      "userId": "14410148232412860016"
     },
     "user_tz": -330
    },
    "id": "LMFH3T0c1yq2",
    "outputId": "bea29346-89e2-4629-947a-773d9e7b535d"
   },
   "outputs": [
    {
     "data": {
      "text/html": [
       "<div>\n",
       "<style scoped>\n",
       "    .dataframe tbody tr th:only-of-type {\n",
       "        vertical-align: middle;\n",
       "    }\n",
       "\n",
       "    .dataframe tbody tr th {\n",
       "        vertical-align: top;\n",
       "    }\n",
       "\n",
       "    .dataframe thead th {\n",
       "        text-align: right;\n",
       "    }\n",
       "</style>\n",
       "<table border=\"1\" class=\"dataframe\">\n",
       "  <thead>\n",
       "    <tr style=\"text-align: right;\">\n",
       "      <th></th>\n",
       "      <th>Address</th>\n",
       "      <th>Lat</th>\n",
       "      <th>Long</th>\n",
       "      <th>state</th>\n",
       "    </tr>\n",
       "  </thead>\n",
       "  <tbody>\n",
       "    <tr>\n",
       "      <th>0</th>\n",
       "      <td>Kanpur,Uttar Pradesh</td>\n",
       "      <td>26.5005</td>\n",
       "      <td>80.2712</td>\n",
       "      <td>Uttar Pradesh</td>\n",
       "    </tr>\n",
       "    <tr>\n",
       "      <th>1</th>\n",
       "      <td>Bengaluru,Karnataka</td>\n",
       "      <td>12.9767</td>\n",
       "      <td>77.5753</td>\n",
       "      <td>Karnataka</td>\n",
       "    </tr>\n",
       "    <tr>\n",
       "      <th>2</th>\n",
       "      <td>Delhi,NCR</td>\n",
       "      <td>28.7041</td>\n",
       "      <td>77.1025</td>\n",
       "      <td>NCR</td>\n",
       "    </tr>\n",
       "    <tr>\n",
       "      <th>3</th>\n",
       "      <td>Gurgaon,Haryana</td>\n",
       "      <td>28.4697</td>\n",
       "      <td>77.0426</td>\n",
       "      <td>Haryana</td>\n",
       "    </tr>\n",
       "    <tr>\n",
       "      <th>4</th>\n",
       "      <td>Mumbai,Maharashtra</td>\n",
       "      <td>19.076</td>\n",
       "      <td>72.8777</td>\n",
       "      <td>Maharashtra</td>\n",
       "    </tr>\n",
       "    <tr>\n",
       "      <th>5</th>\n",
       "      <td>Mysore,Karnataka</td>\n",
       "      <td>12.2958</td>\n",
       "      <td>76.6394</td>\n",
       "      <td>Karnataka</td>\n",
       "    </tr>\n",
       "    <tr>\n",
       "      <th>6</th>\n",
       "      <td>Nagpur,Maharashtra</td>\n",
       "      <td>21.1458</td>\n",
       "      <td>79.0882</td>\n",
       "      <td>Maharashtra</td>\n",
       "    </tr>\n",
       "    <tr>\n",
       "      <th>7</th>\n",
       "      <td>Hyderabad,Telangana</td>\n",
       "      <td>17.385</td>\n",
       "      <td>78.4867</td>\n",
       "      <td>Telangana</td>\n",
       "    </tr>\n",
       "    <tr>\n",
       "      <th>8</th>\n",
       "      <td>Surat,Gujarat</td>\n",
       "      <td>21.1702</td>\n",
       "      <td>72.8311</td>\n",
       "      <td>Gujarat</td>\n",
       "    </tr>\n",
       "    <tr>\n",
       "      <th>9</th>\n",
       "      <td>Pune,Maharashtra</td>\n",
       "      <td>18.5204</td>\n",
       "      <td>73.8567</td>\n",
       "      <td>Maharashtra</td>\n",
       "    </tr>\n",
       "    <tr>\n",
       "      <th>10</th>\n",
       "      <td>Kolkata,West Bengal</td>\n",
       "      <td>22.5726</td>\n",
       "      <td>88.3639</td>\n",
       "      <td>West Bengal</td>\n",
       "    </tr>\n",
       "    <tr>\n",
       "      <th>11</th>\n",
       "      <td>Lucknow,Uttar Pradesh</td>\n",
       "      <td>26.8467</td>\n",
       "      <td>80.9462</td>\n",
       "      <td>Uttar Pradesh</td>\n",
       "    </tr>\n",
       "    <tr>\n",
       "      <th>12</th>\n",
       "      <td>Chennai,Tamil Nadu</td>\n",
       "      <td>13.0827</td>\n",
       "      <td>80.2707</td>\n",
       "      <td>Tamil Nadu</td>\n",
       "    </tr>\n",
       "    <tr>\n",
       "      <th>13</th>\n",
       "      <td>Ahmedabad,Gujarat</td>\n",
       "      <td>23.0225</td>\n",
       "      <td>72.5714</td>\n",
       "      <td>Gujarat</td>\n",
       "    </tr>\n",
       "    <tr>\n",
       "      <th>14</th>\n",
       "      <td>Coimbatore,Tamil Nadu</td>\n",
       "      <td>11.0168</td>\n",
       "      <td>76.9558</td>\n",
       "      <td>Tamil Nadu</td>\n",
       "    </tr>\n",
       "    <tr>\n",
       "      <th>15</th>\n",
       "      <td>Indore,Madhya Pradesh</td>\n",
       "      <td>22.7196</td>\n",
       "      <td>75.8577</td>\n",
       "      <td>Madhya Pradesh</td>\n",
       "    </tr>\n",
       "    <tr>\n",
       "      <th>16</th>\n",
       "      <td>Gandhinagar,Gujarat</td>\n",
       "      <td>23.2156</td>\n",
       "      <td>72.6369</td>\n",
       "      <td>Gujarat</td>\n",
       "    </tr>\n",
       "    <tr>\n",
       "      <th>17</th>\n",
       "      <td>Patna,Bihar</td>\n",
       "      <td>25.5941</td>\n",
       "      <td>85.1376</td>\n",
       "      <td>Bihar</td>\n",
       "    </tr>\n",
       "  </tbody>\n",
       "</table>\n",
       "</div>"
      ],
      "text/plain": [
       "                  Address      Lat     Long           state\n",
       "0    Kanpur,Uttar Pradesh  26.5005  80.2712   Uttar Pradesh\n",
       "1     Bengaluru,Karnataka  12.9767  77.5753       Karnataka\n",
       "2               Delhi,NCR  28.7041  77.1025             NCR\n",
       "3         Gurgaon,Haryana  28.4697  77.0426         Haryana\n",
       "4      Mumbai,Maharashtra   19.076  72.8777     Maharashtra\n",
       "5        Mysore,Karnataka  12.2958  76.6394       Karnataka\n",
       "6      Nagpur,Maharashtra  21.1458  79.0882     Maharashtra\n",
       "7     Hyderabad,Telangana   17.385  78.4867       Telangana\n",
       "8           Surat,Gujarat  21.1702  72.8311         Gujarat\n",
       "9        Pune,Maharashtra  18.5204  73.8567     Maharashtra\n",
       "10    Kolkata,West Bengal  22.5726  88.3639     West Bengal\n",
       "11  Lucknow,Uttar Pradesh  26.8467  80.9462   Uttar Pradesh\n",
       "12     Chennai,Tamil Nadu  13.0827  80.2707      Tamil Nadu\n",
       "13      Ahmedabad,Gujarat  23.0225  72.5714         Gujarat\n",
       "14  Coimbatore,Tamil Nadu  11.0168  76.9558      Tamil Nadu\n",
       "15  Indore,Madhya Pradesh  22.7196  75.8577  Madhya Pradesh\n",
       "16    Gandhinagar,Gujarat  23.2156  72.6369         Gujarat\n",
       "17            Patna,Bihar  25.5941  85.1376           Bihar"
      ]
     },
     "execution_count": 30,
     "metadata": {
      "tags": []
     },
     "output_type": "execute_result"
    }
   ],
   "source": [
    "new_row={'Address':'Patna,Bihar','Lat':'25.5941','Long':'85.1376','state':'Bihar'}\n",
    "geolocations=geolocations.append(new_row,ignore_index=True)\n",
    "geolocations"
   ]
  },
  {
   "cell_type": "code",
   "execution_count": 31,
   "metadata": {
    "executionInfo": {
     "elapsed": 17352,
     "status": "ok",
     "timestamp": 1620220760724,
     "user": {
      "displayName": "mukesh kiran",
      "photoUrl": "https://lh3.googleusercontent.com/a-/AOh14GjpVg0Q2SlnyyoVNUSbxKazDjdehaPGXIEaysPDxUk=s64",
      "userId": "14410148232412860016"
     },
     "user_tz": -330
    },
    "id": "YNG4v3cDdNEX"
   },
   "outputs": [],
   "source": [
    "predictions=pd.merge(predictions,geolocations,left_on='state',right_on='state',how='left')"
   ]
  },
  {
   "cell_type": "code",
   "execution_count": null,
   "metadata": {
    "id": "Wii30izxd0MG"
   },
   "outputs": [],
   "source": [
    "predictions['Lat']=predictions['Lat'].astype('float32')\n",
    "predictions['Long']=predictions['Long'].astype('float32')\n",
    "predictions.drop('Address',axis=1,inplace=True)"
   ]
  },
  {
   "cell_type": "code",
   "execution_count": null,
   "metadata": {
    "id": "CrDEoyuQr1-r"
   },
   "outputs": [],
   "source": []
  },
  {
   "cell_type": "code",
   "execution_count": null,
   "metadata": {
    "id": "39GP0NDtU2Xg"
   },
   "outputs": [],
   "source": [
    "sales_city_state=predictions.groupby(['state','city'])['unit_sales'].sum().sort_values(ascending=False).to_frame()"
   ]
  },
  {
   "cell_type": "code",
   "execution_count": null,
   "metadata": {
    "id": "4K8FqEO1UccH"
   },
   "outputs": [],
   "source": [
    "sales_city=predictions.groupby('city')['unit_sales'].sum().sort_values(ascending=False).to_frame()"
   ]
  }
 ],
 "metadata": {
  "colab": {
   "authorship_tag": "ABX9TyNhMfUdD35KH3FCgmJG6DQN",
   "name": "Python_visualization.ipynb",
   "provenance": []
  },
  "kernelspec": {
   "display_name": "Python 3",
   "language": "python",
   "name": "python3"
  },
  "language_info": {
   "codemirror_mode": {
    "name": "ipython",
    "version": 3
   },
   "file_extension": ".py",
   "mimetype": "text/x-python",
   "name": "python",
   "nbconvert_exporter": "python",
   "pygments_lexer": "ipython3",
   "version": "3.7.6"
  }
 },
 "nbformat": 4,
 "nbformat_minor": 1
}
